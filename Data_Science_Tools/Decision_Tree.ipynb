{
 "cells": [
  {
   "cell_type": "markdown",
   "id": "c2c25d36",
   "metadata": {},
   "source": [
    "<h1><font size = 8><center>Assignment 3</center></font></h1>\n",
    "<h1><center>Zach Chase</center></h1>"
   ]
  },
  {
   "cell_type": "code",
   "execution_count": 1,
   "id": "7de48f26",
   "metadata": {},
   "outputs": [],
   "source": [
    "import pandas as pd\n",
    "import numpy as np\n",
    "from collections import defaultdict\n",
    "from matplotlib import pyplot as plt\n",
    "from sklearn.preprocessing import MinMaxScaler\n",
    "from sklearn.model_selection import train_test_split\n",
    "from sklearn.tree import DecisionTreeClassifier\n",
    "from sklearn.ensemble import RandomForestClassifier\n",
    "from sklearn.metrics import accuracy_score\n",
    "from sklearn.metrics import zero_one_loss\n",
    "from sklearn.metrics import classification_report\n",
    "from sklearn.metrics import confusion_matrix, plot_confusion_matrix\n",
    "from sklearn.metrics import precision_score, recall_score, f1_score, plot_roc_curve\n",
    "from sklearn.model_selection import GridSearchCV, cross_val_score, validation_curve"
   ]
  },
  {
   "cell_type": "markdown",
   "id": "fb05e160",
   "metadata": {},
   "source": [
    "# Question 1\n",
    "## Part A\n",
    "Upload the data into Python and check for missing data. If there is any missing data, drop \n",
    "the cases that have the missing data. "
   ]
  },
  {
   "cell_type": "code",
   "execution_count": 2,
   "id": "156f8b49",
   "metadata": {},
   "outputs": [],
   "source": [
    "data = pd.read_csv(\"BlueOrRed.csv\")"
   ]
  },
  {
   "cell_type": "code",
   "execution_count": 3,
   "id": "46c40ffb",
   "metadata": {},
   "outputs": [
    {
     "data": {
      "text/html": [
       "<div>\n",
       "<style scoped>\n",
       "    .dataframe tbody tr th:only-of-type {\n",
       "        vertical-align: middle;\n",
       "    }\n",
       "\n",
       "    .dataframe tbody tr th {\n",
       "        vertical-align: top;\n",
       "    }\n",
       "\n",
       "    .dataframe thead th {\n",
       "        text-align: right;\n",
       "    }\n",
       "</style>\n",
       "<table border=\"1\" class=\"dataframe\">\n",
       "  <thead>\n",
       "    <tr style=\"text-align: right;\">\n",
       "      <th></th>\n",
       "      <th>Age</th>\n",
       "      <th>HomeOwner</th>\n",
       "      <th>Female</th>\n",
       "      <th>Married</th>\n",
       "      <th>HouseholdSize</th>\n",
       "      <th>Income</th>\n",
       "      <th>Education</th>\n",
       "      <th>Church</th>\n",
       "      <th>Undecided</th>\n",
       "    </tr>\n",
       "  </thead>\n",
       "  <tbody>\n",
       "    <tr>\n",
       "      <th>0</th>\n",
       "      <td>51</td>\n",
       "      <td>1</td>\n",
       "      <td>1</td>\n",
       "      <td>1</td>\n",
       "      <td>4</td>\n",
       "      <td>171.0</td>\n",
       "      <td>15</td>\n",
       "      <td>0</td>\n",
       "      <td>1</td>\n",
       "    </tr>\n",
       "    <tr>\n",
       "      <th>1</th>\n",
       "      <td>46</td>\n",
       "      <td>1</td>\n",
       "      <td>1</td>\n",
       "      <td>1</td>\n",
       "      <td>6</td>\n",
       "      <td>420.0</td>\n",
       "      <td>15</td>\n",
       "      <td>1</td>\n",
       "      <td>0</td>\n",
       "    </tr>\n",
       "    <tr>\n",
       "      <th>2</th>\n",
       "      <td>55</td>\n",
       "      <td>1</td>\n",
       "      <td>0</td>\n",
       "      <td>1</td>\n",
       "      <td>6</td>\n",
       "      <td>132.0</td>\n",
       "      <td>16</td>\n",
       "      <td>0</td>\n",
       "      <td>1</td>\n",
       "    </tr>\n",
       "    <tr>\n",
       "      <th>3</th>\n",
       "      <td>50</td>\n",
       "      <td>1</td>\n",
       "      <td>0</td>\n",
       "      <td>1</td>\n",
       "      <td>4</td>\n",
       "      <td>18.0</td>\n",
       "      <td>8</td>\n",
       "      <td>0</td>\n",
       "      <td>0</td>\n",
       "    </tr>\n",
       "    <tr>\n",
       "      <th>4</th>\n",
       "      <td>49</td>\n",
       "      <td>1</td>\n",
       "      <td>1</td>\n",
       "      <td>1</td>\n",
       "      <td>2</td>\n",
       "      <td>66.0</td>\n",
       "      <td>15</td>\n",
       "      <td>1</td>\n",
       "      <td>1</td>\n",
       "    </tr>\n",
       "  </tbody>\n",
       "</table>\n",
       "</div>"
      ],
      "text/plain": [
       "   Age  HomeOwner  Female  Married  HouseholdSize  Income  Education  Church  \\\n",
       "0   51          1       1        1              4   171.0         15       0   \n",
       "1   46          1       1        1              6   420.0         15       1   \n",
       "2   55          1       0        1              6   132.0         16       0   \n",
       "3   50          1       0        1              4    18.0          8       0   \n",
       "4   49          1       1        1              2    66.0         15       1   \n",
       "\n",
       "   Undecided  \n",
       "0          1  \n",
       "1          0  \n",
       "2          1  \n",
       "3          0  \n",
       "4          1  "
      ]
     },
     "execution_count": 3,
     "metadata": {},
     "output_type": "execute_result"
    }
   ],
   "source": [
    "data.head()"
   ]
  },
  {
   "cell_type": "code",
   "execution_count": 4,
   "id": "19f980db",
   "metadata": {},
   "outputs": [
    {
     "data": {
      "text/plain": [
       "Age              0\n",
       "HomeOwner        0\n",
       "Female           0\n",
       "Married          0\n",
       "HouseholdSize    0\n",
       "Income           0\n",
       "Education        0\n",
       "Church           0\n",
       "Undecided        0\n",
       "dtype: int64"
      ]
     },
     "execution_count": 4,
     "metadata": {},
     "output_type": "execute_result"
    }
   ],
   "source": [
    "data.isna().sum()"
   ]
  },
  {
   "cell_type": "markdown",
   "id": "69015fb8",
   "metadata": {},
   "source": [
    "## Part B\n",
    "Normalize the continuous variables using min-max normalization. You should obtain a \n",
    "new dataset that has your normalized continuous input variables, the categorical input \n",
    "variables (the categorical input variables are fine and don’t need to be normalized), and \n",
    "your output variable."
   ]
  },
  {
   "cell_type": "code",
   "execution_count": 5,
   "id": "0d292b13",
   "metadata": {},
   "outputs": [
    {
     "data": {
      "text/plain": [
       "Age                int64\n",
       "HomeOwner          int64\n",
       "Female             int64\n",
       "Married            int64\n",
       "HouseholdSize      int64\n",
       "Income           float64\n",
       "Education          int64\n",
       "Church             int64\n",
       "Undecided          int64\n",
       "dtype: object"
      ]
     },
     "execution_count": 5,
     "metadata": {},
     "output_type": "execute_result"
    }
   ],
   "source": [
    "data.dtypes"
   ]
  },
  {
   "cell_type": "code",
   "execution_count": 6,
   "id": "608c3dab",
   "metadata": {},
   "outputs": [
    {
     "data": {
      "text/html": [
       "<div>\n",
       "<style scoped>\n",
       "    .dataframe tbody tr th:only-of-type {\n",
       "        vertical-align: middle;\n",
       "    }\n",
       "\n",
       "    .dataframe tbody tr th {\n",
       "        vertical-align: top;\n",
       "    }\n",
       "\n",
       "    .dataframe thead th {\n",
       "        text-align: right;\n",
       "    }\n",
       "</style>\n",
       "<table border=\"1\" class=\"dataframe\">\n",
       "  <thead>\n",
       "    <tr style=\"text-align: right;\">\n",
       "      <th></th>\n",
       "      <th>Age</th>\n",
       "      <th>HouseholdSize</th>\n",
       "      <th>Income</th>\n",
       "      <th>HomeOwner</th>\n",
       "      <th>Female</th>\n",
       "      <th>Married</th>\n",
       "      <th>Education</th>\n",
       "      <th>Church</th>\n",
       "      <th>Undecided</th>\n",
       "    </tr>\n",
       "  </thead>\n",
       "  <tbody>\n",
       "    <tr>\n",
       "      <th>0</th>\n",
       "      <td>0.523810</td>\n",
       "      <td>0.500000</td>\n",
       "      <td>0.306422</td>\n",
       "      <td>1</td>\n",
       "      <td>1</td>\n",
       "      <td>1</td>\n",
       "      <td>15</td>\n",
       "      <td>0</td>\n",
       "      <td>1</td>\n",
       "    </tr>\n",
       "    <tr>\n",
       "      <th>1</th>\n",
       "      <td>0.444444</td>\n",
       "      <td>0.833333</td>\n",
       "      <td>0.763303</td>\n",
       "      <td>1</td>\n",
       "      <td>1</td>\n",
       "      <td>1</td>\n",
       "      <td>15</td>\n",
       "      <td>1</td>\n",
       "      <td>0</td>\n",
       "    </tr>\n",
       "    <tr>\n",
       "      <th>2</th>\n",
       "      <td>0.587302</td>\n",
       "      <td>0.833333</td>\n",
       "      <td>0.234862</td>\n",
       "      <td>1</td>\n",
       "      <td>0</td>\n",
       "      <td>1</td>\n",
       "      <td>16</td>\n",
       "      <td>0</td>\n",
       "      <td>1</td>\n",
       "    </tr>\n",
       "    <tr>\n",
       "      <th>3</th>\n",
       "      <td>0.507937</td>\n",
       "      <td>0.500000</td>\n",
       "      <td>0.025688</td>\n",
       "      <td>1</td>\n",
       "      <td>0</td>\n",
       "      <td>1</td>\n",
       "      <td>8</td>\n",
       "      <td>0</td>\n",
       "      <td>0</td>\n",
       "    </tr>\n",
       "    <tr>\n",
       "      <th>4</th>\n",
       "      <td>0.492063</td>\n",
       "      <td>0.166667</td>\n",
       "      <td>0.113761</td>\n",
       "      <td>1</td>\n",
       "      <td>1</td>\n",
       "      <td>1</td>\n",
       "      <td>15</td>\n",
       "      <td>1</td>\n",
       "      <td>1</td>\n",
       "    </tr>\n",
       "  </tbody>\n",
       "</table>\n",
       "</div>"
      ],
      "text/plain": [
       "        Age  HouseholdSize    Income  HomeOwner  Female  Married  Education  \\\n",
       "0  0.523810       0.500000  0.306422          1       1        1         15   \n",
       "1  0.444444       0.833333  0.763303          1       1        1         15   \n",
       "2  0.587302       0.833333  0.234862          1       0        1         16   \n",
       "3  0.507937       0.500000  0.025688          1       0        1          8   \n",
       "4  0.492063       0.166667  0.113761          1       1        1         15   \n",
       "\n",
       "   Church  Undecided  \n",
       "0       0          1  \n",
       "1       1          0  \n",
       "2       0          1  \n",
       "3       0          0  \n",
       "4       1          1  "
      ]
     },
     "execution_count": 6,
     "metadata": {},
     "output_type": "execute_result"
    }
   ],
   "source": [
    "scaler = MinMaxScaler()\n",
    "columns_no_transform = ['HomeOwner', 'Female', 'Married', 'Education', 'Church', 'Undecided']\n",
    "data_to_transform = data.drop(columns_no_transform, axis = 1)\n",
    "scaler.fit(data_to_transform)\n",
    "transformed = pd.DataFrame(scaler.transform(data_to_transform), columns = ['Age', 'HouseholdSize', 'Income'])\n",
    "original = data[columns_no_transform]\n",
    "data = pd.concat([transformed, original], axis = 1)\n",
    "data.head()"
   ]
  },
  {
   "cell_type": "markdown",
   "id": "b3f92b4f",
   "metadata": {},
   "source": [
    "## Part C\n",
    "Why do you think using min-max normalization is a better choice for this situation \n",
    "compared to using other scalers such as the Standard Scaler which standardizes the data?"
   ]
  },
  {
   "cell_type": "code",
   "execution_count": null,
   "id": "95d189d1",
   "metadata": {},
   "outputs": [],
   "source": []
  },
  {
   "cell_type": "markdown",
   "id": "d6d56b92",
   "metadata": {},
   "source": [
    "## Part D\n",
    "Use the train_test_split() function in the sklearn.model_selection module in scikit-learn to \n",
    "split the data into training and test sets. Your test set should be 30% of the entire data. \n",
    "Print the shape of the X_train, y_train, X_test and y_test data. You can use the default \n",
    "value of the random state in splitting the data, which is random_state=42. "
   ]
  },
  {
   "cell_type": "code",
   "execution_count": 7,
   "id": "a156b99a",
   "metadata": {},
   "outputs": [
    {
     "name": "stdout",
     "output_type": "stream",
     "text": [
      "(7000, 8)\n",
      "(7000,)\n",
      "(3000, 8)\n",
      "(3000,)\n"
     ]
    }
   ],
   "source": [
    "X = data.drop(['Undecided'], axis = 1)\n",
    "y = data['Undecided']\n",
    "X_train, X_test, y_train, y_test = train_test_split(X, y, test_size=.3, random_state=42)\n",
    "\n",
    "print(X_train.shape)\n",
    "print(y_train.shape)\n",
    "print(X_test.shape)\n",
    "print(y_test.shape)"
   ]
  },
  {
   "cell_type": "markdown",
   "id": "d1f92581",
   "metadata": {},
   "source": [
    "## Part E\n",
    "Construct a decision tree and fit the tree into the data. Then use your decision tree model \n",
    "to make predictions on the training set as well as on the test set. Assign your results to \n",
    "y_train_pred and y_test_pred respectively. Print out the first 100 predictions for each of \n",
    "the  y_train_pred and y_test_pred. "
   ]
  },
  {
   "cell_type": "code",
   "execution_count": 8,
   "id": "5f8130fb",
   "metadata": {},
   "outputs": [
    {
     "name": "stdout",
     "output_type": "stream",
     "text": [
      "y train predictions: \n",
      " [0 0 0 0 1 0 0 0 0 1 0 1 0 1 1 0 0 0 0 0 0 0 0 1 1 1 0 1 1 0 0 0 0 1 1 1 0\n",
      " 1 1 0 1 0 0 0 0 0 1 1 0 1 1 0 1 0 1 1 0 0 1 0 0 0 0 1 0 0 0 0 0 1 0 0 0 0\n",
      " 0 1 0 1 0 0 1 0 1 0 0 0 1 0 0 0 0 1 1 1 0 1 0 0 0 1]\n",
      "y test predictions: \n",
      " [0 1 1 1 1 1 1 1 1 0 0 1 0 0 0 0 1 0 1 0 1 0 0 0 1 1 1 0 1 1 1 0 1 0 0 0 0\n",
      " 0 0 0 0 0 0 1 0 0 0 0 1 0 1 0 1 1 1 1 1 0 0 1 0 0 1 1 1 1 0 0 1 1 0 0 0 0\n",
      " 0 0 0 0 1 0 1 1 0 0 1 0 1 0 1 1 0 0 0 0 0 0 0 1 1 0]\n"
     ]
    }
   ],
   "source": [
    "dt = DecisionTreeClassifier()\n",
    "dt.fit(X_train, y_train)\n",
    "y_train_pred = dt.predict(X_train)\n",
    "y_test_pred = dt.predict(X_test)\n",
    "\n",
    "print('y train predictions: \\n', y_train_pred[:100])\n",
    "print('y test predictions: \\n', y_test_pred[:100])"
   ]
  },
  {
   "cell_type": "markdown",
   "id": "5b9ecf81",
   "metadata": {},
   "source": [
    "## Part F\n",
    "Find the overall accuracy of the tree model on the training set and on the test set. Use the \n",
    "accuracy_score() function in the sklearn.metrics module. Does the tree overfit the model? \n",
    "Why or why not?  "
   ]
  },
  {
   "cell_type": "code",
   "execution_count": 9,
   "id": "9f0629ca",
   "metadata": {},
   "outputs": [
    {
     "data": {
      "text/plain": [
       "1.0"
      ]
     },
     "execution_count": 9,
     "metadata": {},
     "output_type": "execute_result"
    }
   ],
   "source": [
    "accuracy_score(y_train_pred, y_train)"
   ]
  },
  {
   "cell_type": "code",
   "execution_count": 10,
   "id": "9874bf07",
   "metadata": {},
   "outputs": [
    {
     "data": {
      "text/plain": [
       "0.969"
      ]
     },
     "execution_count": 10,
     "metadata": {},
     "output_type": "execute_result"
    }
   ],
   "source": [
    "accuracy_score(y_test_pred, y_test)"
   ]
  },
  {
   "cell_type": "markdown",
   "id": "d85af80c",
   "metadata": {},
   "source": [
    "## Part G\n",
    "Also, use the .score() method of the tree estimator to find the overall accuracy on the \n",
    "training set and test set. "
   ]
  },
  {
   "cell_type": "code",
   "execution_count": 11,
   "id": "7f38ed1c",
   "metadata": {},
   "outputs": [
    {
     "data": {
      "text/plain": [
       "1.0"
      ]
     },
     "execution_count": 11,
     "metadata": {},
     "output_type": "execute_result"
    }
   ],
   "source": [
    "dt.score(X_train, y_train)"
   ]
  },
  {
   "cell_type": "code",
   "execution_count": 12,
   "id": "8f4c7deb",
   "metadata": {},
   "outputs": [
    {
     "data": {
      "text/plain": [
       "0.969"
      ]
     },
     "execution_count": 12,
     "metadata": {},
     "output_type": "execute_result"
    }
   ],
   "source": [
    "dt.score(X_test, y_test)"
   ]
  },
  {
   "cell_type": "markdown",
   "id": "c19a4aa7",
   "metadata": {},
   "source": [
    "## Part H\n",
    "Use the zero_one_loss() function inside the sklearn.metric module to compute the overall \n",
    "prediction error of the tree model on the test set and training set. "
   ]
  },
  {
   "cell_type": "code",
   "execution_count": 13,
   "id": "9a48eab7",
   "metadata": {},
   "outputs": [
    {
     "data": {
      "text/plain": [
       "0.0"
      ]
     },
     "execution_count": 13,
     "metadata": {},
     "output_type": "execute_result"
    }
   ],
   "source": [
    "zero_one_loss(y_train_pred, y_train)"
   ]
  },
  {
   "cell_type": "code",
   "execution_count": 14,
   "id": "9dc34fad",
   "metadata": {},
   "outputs": [
    {
     "data": {
      "text/plain": [
       "0.031000000000000028"
      ]
     },
     "execution_count": 14,
     "metadata": {},
     "output_type": "execute_result"
    }
   ],
   "source": [
    "zero_one_loss(y_test_pred, y_test)"
   ]
  },
  {
   "cell_type": "markdown",
   "id": "17c193a1",
   "metadata": {},
   "source": [
    "# Question 2\n",
    "## Part A\n",
    "Generate the classification report using the classification_report () "
   ]
  },
  {
   "cell_type": "code",
   "execution_count": 15,
   "id": "9dd0483a",
   "metadata": {},
   "outputs": [
    {
     "name": "stdout",
     "output_type": "stream",
     "text": [
      "              precision    recall  f1-score   support\n",
      "\n",
      "           0       0.97      0.98      0.97      1805\n",
      "           1       0.96      0.96      0.96      1195\n",
      "\n",
      "    accuracy                           0.97      3000\n",
      "   macro avg       0.97      0.97      0.97      3000\n",
      "weighted avg       0.97      0.97      0.97      3000\n",
      "\n"
     ]
    }
   ],
   "source": [
    "print(classification_report(y_test_pred, y_test))"
   ]
  },
  {
   "cell_type": "markdown",
   "id": "cac473d0",
   "metadata": {},
   "source": [
    "## Part B\n",
    "Generate the confusion matrix using confusion_matrix() "
   ]
  },
  {
   "cell_type": "code",
   "execution_count": 16,
   "id": "1d461ba8",
   "metadata": {},
   "outputs": [
    {
     "data": {
      "text/plain": [
       "array([[1763,   42],\n",
       "       [  51, 1144]])"
      ]
     },
     "execution_count": 16,
     "metadata": {},
     "output_type": "execute_result"
    }
   ],
   "source": [
    "confusion_matrix(y_test_pred, y_test)"
   ]
  },
  {
   "cell_type": "markdown",
   "id": "93ae9d67",
   "metadata": {},
   "source": [
    "## Part C\n",
    "Generate the precision score using precision_score() "
   ]
  },
  {
   "cell_type": "code",
   "execution_count": 17,
   "id": "dc8f6627",
   "metadata": {},
   "outputs": [
    {
     "data": {
      "text/plain": [
       "0.9645868465430016"
      ]
     },
     "execution_count": 17,
     "metadata": {},
     "output_type": "execute_result"
    }
   ],
   "source": [
    "precision_score(y_test_pred, y_test)"
   ]
  },
  {
   "cell_type": "markdown",
   "id": "be629912",
   "metadata": {},
   "source": [
    "## Part D\n",
    "Generate the recall score using recall_score()"
   ]
  },
  {
   "cell_type": "code",
   "execution_count": 18,
   "id": "7a033ede",
   "metadata": {},
   "outputs": [
    {
     "data": {
      "text/plain": [
       "0.9573221757322176"
      ]
     },
     "execution_count": 18,
     "metadata": {},
     "output_type": "execute_result"
    }
   ],
   "source": [
    "recall_score(y_test_pred, y_test)"
   ]
  },
  {
   "cell_type": "markdown",
   "id": "b1d034e9",
   "metadata": {},
   "source": [
    "## Part E\n",
    "Generate the f1 score using f1_score()"
   ]
  },
  {
   "cell_type": "code",
   "execution_count": 19,
   "id": "3fde7471",
   "metadata": {},
   "outputs": [
    {
     "data": {
      "text/plain": [
       "0.9609407811843762"
      ]
     },
     "execution_count": 19,
     "metadata": {},
     "output_type": "execute_result"
    }
   ],
   "source": [
    "f1_score(y_test_pred, y_test)"
   ]
  },
  {
   "cell_type": "markdown",
   "id": "892e9359",
   "metadata": {},
   "source": [
    "## Part F\n",
    "When is it more appropriate to use f1 score (or precision score and recall) compared to \n",
    "using the overall accuracy to evaluate your model?"
   ]
  },
  {
   "cell_type": "markdown",
   "id": "fe664f3c",
   "metadata": {},
   "source": [
    "Since the F1 Score is the weighted average of Precision and Recall, it is better to use this when the dataset is unbalanced. On the other hand, accuracy is typically a better metric to use the classes are balanced and there is no major downside to predicting false negatives."
   ]
  },
  {
   "cell_type": "markdown",
   "id": "54c20205",
   "metadata": {},
   "source": [
    "## Part G\n",
    "Generate a roc curve using plot_roc_curve() "
   ]
  },
  {
   "cell_type": "code",
   "execution_count": 20,
   "id": "baad13a1",
   "metadata": {},
   "outputs": [
    {
     "name": "stderr",
     "output_type": "stream",
     "text": [
      "/Users/zachchase/opt/anaconda3/lib/python3.9/site-packages/sklearn/utils/deprecation.py:87: FutureWarning: Function plot_roc_curve is deprecated; Function :func:`plot_roc_curve` is deprecated in 1.0 and will be removed in 1.2. Use one of the class methods: :meth:`sklearn.metric.RocCurveDisplay.from_predictions` or :meth:`sklearn.metric.RocCurveDisplay.from_estimator`.\n",
      "  warnings.warn(msg, category=FutureWarning)\n"
     ]
    },
    {
     "data": {
      "image/png": "[encoded data removed]",
      "text/plain": [
       "<Figure size 432x288 with 1 Axes>"
      ]
     },
     "metadata": {
      "needs_background": "light"
     },
     "output_type": "display_data"
    }
   ],
   "source": [
    "plot_roc_curve(dt, X_test, y_test)\n",
    "plt.show()"
   ]
  },
  {
   "cell_type": "markdown",
   "id": "943aecda",
   "metadata": {},
   "source": [
    "## Part H\n",
    "Plot the confusion matrix using plot_confusion_matrix"
   ]
  },
  {
   "cell_type": "code",
   "execution_count": 21,
   "id": "d3a9ccd1",
   "metadata": {},
   "outputs": [
    {
     "name": "stderr",
     "output_type": "stream",
     "text": [
      "/Users/zachchase/opt/anaconda3/lib/python3.9/site-packages/sklearn/utils/deprecation.py:87: FutureWarning: Function plot_confusion_matrix is deprecated; Function `plot_confusion_matrix` is deprecated in 1.0 and will be removed in 1.2. Use one of the class methods: ConfusionMatrixDisplay.from_predictions or ConfusionMatrixDisplay.from_estimator.\n",
      "  warnings.warn(msg, category=FutureWarning)\n"
     ]
    },
    {
     "data": {
      "image/png": "[encoded data removed]",
      "text/plain": [
       "<Figure size 432x288 with 2 Axes>"
      ]
     },
     "metadata": {
      "needs_background": "light"
     },
     "output_type": "display_data"
    }
   ],
   "source": [
    "plot_confusion_matrix(dt, X_test, y_test)\n",
    "plt.show()"
   ]
  },
  {
   "cell_type": "markdown",
   "id": "ef3acaff",
   "metadata": {},
   "source": [
    "# Question 3\n",
    "## Part A\n",
    "First retrieve the maximum depth of this decision tree. Use clf.tree_.max_depth where \n",
    "clf is the name of your estimator and tree is the module in sklearn."
   ]
  },
  {
   "cell_type": "code",
   "execution_count": 22,
   "id": "c2479051",
   "metadata": {},
   "outputs": [
    {
     "data": {
      "text/plain": [
       "18"
      ]
     },
     "execution_count": 22,
     "metadata": {},
     "output_type": "execute_result"
    }
   ],
   "source": [
    "dt.tree_.max_depth"
   ]
  },
  {
   "cell_type": "markdown",
   "id": "5f3d713e",
   "metadata": {},
   "source": [
    "## Part B\n",
    "You will find the optimal depth of the tree by tuning the max_depth hyperparameter. \n",
    "Write a for loop to iteratively compute the overall error rate of the model on the test set \n",
    "only for the possible values of the maximum depth of the tree. \n",
    "\n",
    "Then plot the overall error rate on the y-axis and the maximum depth of the tree on the x-\n",
    "axis. Also use np.argmin() on the error rates you obtained to retrieve the optimal \n",
    "maximum depth of the tree with the least error rate. Does this value match with what you \n",
    "see on your plot? "
   ]
  },
  {
   "cell_type": "code",
   "execution_count": 23,
   "id": "31458ad3",
   "metadata": {},
   "outputs": [
    {
     "data": {
      "image/png": "[encoded data removed]",
      "text/plain": [
       "<Figure size 432x288 with 1 Axes>"
      ]
     },
     "metadata": {
      "needs_background": "light"
     },
     "output_type": "display_data"
    }
   ],
   "source": [
    "error_rates = defaultdict()\n",
    "for i in range(1, dt.tree_.max_depth+1):\n",
    "    new_dt = DecisionTreeClassifier(max_depth=i)\n",
    "    new_dt.fit(X_train, y_train)\n",
    "    e = zero_one_loss(y_test, new_dt.predict(X_test))\n",
    "    error_rates[i] = e\n",
    "    \n",
    "plt.plot(error_rates.keys(), error_rates.values())\n",
    "plt.xlabel(\"Maximum Depth\")\n",
    "plt.ylabel(\"Overall Error Rate\")\n",
    "plt.title(\"Error Rater for Specific Max Depth\")\n",
    "plt.show()"
   ]
  },
  {
   "cell_type": "code",
   "execution_count": 24,
   "id": "d8d682af",
   "metadata": {},
   "outputs": [
    {
     "name": "stdout",
     "output_type": "stream",
     "text": [
      "The optimal max depth is  6\n"
     ]
    }
   ],
   "source": [
    "optimal_max_depth = np.argmin(list(error_rates.values()))\n",
    "print(\"The optimal max depth is \", list(error_rates.keys())[optimal_max_depth])"
   ]
  },
  {
   "cell_type": "markdown",
   "id": "b7ba3244",
   "metadata": {},
   "source": [
    "Note that this value looks like it matches that of my plot."
   ]
  },
  {
   "cell_type": "markdown",
   "id": "247e20b6",
   "metadata": {},
   "source": [
    "## Part C\n",
    "Now, you will still find the optimal maximum depth of the decision tree model using grid \n",
    "search cross validation. Additionally, you will be simultaneously optimizing the \n",
    "max_features hyperparameter as well. You can check the documentation to see what \n",
    "these hyperparameters represent. You will use the GridSearchCV() constructor inside the \n",
    "sklearn.model_selection module. Make sure to pass the arguments (estimator and \n",
    "param_grid into the GridSearchCV() constructor. Set the parameter cv=8. Do you have \n",
    "the same optimal maximum depth as you got in the question above?  ("
   ]
  },
  {
   "cell_type": "code",
   "execution_count": 25,
   "id": "4995ed6a",
   "metadata": {},
   "outputs": [
    {
     "data": {
      "text/plain": [
       "GridSearchCV(cv=8, estimator=DecisionTreeClassifier(),\n",
       "             param_grid={'max_depth': range(1, 19),\n",
       "                         'max_features': [0.2, 0.4, 0.6, 0.8]})"
      ]
     },
     "execution_count": 25,
     "metadata": {},
     "output_type": "execute_result"
    }
   ],
   "source": [
    "param_grid = {'max_depth':range(1,dt.tree_.max_depth+1),\n",
    "             'max_features':[0.2,0.4,0.6,0.8]}\n",
    "\n",
    "pipe = GridSearchCV(DecisionTreeClassifier(), param_grid, cv=8)\n",
    "pipe.fit(X_train, y_train)"
   ]
  },
  {
   "cell_type": "code",
   "execution_count": 26,
   "id": "73b7ec5d",
   "metadata": {},
   "outputs": [
    {
     "data": {
      "text/plain": [
       "{'max_depth': 8, 'max_features': 0.6}"
      ]
     },
     "execution_count": 26,
     "metadata": {},
     "output_type": "execute_result"
    }
   ],
   "source": [
    "pipe.best_params_"
   ]
  },
  {
   "cell_type": "markdown",
   "id": "b325f0bf",
   "metadata": {},
   "source": [
    "Here we found the hyperparameter of max_depth to be the same, with a value of 6"
   ]
  },
  {
   "cell_type": "markdown",
   "id": "7b611061",
   "metadata": {},
   "source": [
    "## Part D\n",
    "You will tune the maximum depth hyperparameter again using cross validation but this \n",
    "time, you will use the cross_val_score() function inside the sklearn.model_selection \n",
    "module. You will use this cross_val_score() function in combination with a for loop to \n",
    "find the optimal maximum depth of the tree. "
   ]
  },
  {
   "cell_type": "code",
   "execution_count": 27,
   "id": "ec3cc4d4",
   "metadata": {},
   "outputs": [
    {
     "data": {
      "image/png": "[encoded data removed]",
      "text/plain": [
       "<Figure size 432x288 with 1 Axes>"
      ]
     },
     "metadata": {
      "needs_background": "light"
     },
     "output_type": "display_data"
    }
   ],
   "source": [
    "error_rates = defaultdict()\n",
    "for i in range(1, dt.tree_.max_depth+1):\n",
    "    new_dt = DecisionTreeClassifier(max_depth=i)\n",
    "    new_dt.fit(X_train, y_train)\n",
    "    scores = cross_val_score(new_dt, X=X_train, y=y_train, scoring='accuracy', cv=8)\n",
    "    error_rates[i] = 1 - scores.mean()\n",
    "    \n",
    "plt.plot(error_rates.keys(), error_rates.values())\n",
    "plt.xlabel(\"Maximum Depth\")\n",
    "plt.ylabel(\"Overall Error Rate\")\n",
    "plt.title(\"Error Rater for Specific Max Depth\")\n",
    "plt.show()"
   ]
  },
  {
   "cell_type": "code",
   "execution_count": 28,
   "id": "10f4880e",
   "metadata": {},
   "outputs": [
    {
     "name": "stdout",
     "output_type": "stream",
     "text": [
      "The optimal max depth is  6\n"
     ]
    }
   ],
   "source": [
    "optimal_max_depth = np.argmin(list(error_rates.values()))\n",
    "print(\"The optimal max depth is \", list(error_rates.keys())[optimal_max_depth])"
   ]
  },
  {
   "cell_type": "markdown",
   "id": "79027341",
   "metadata": {},
   "source": [
    "Once again, this matches previous results and the graph above."
   ]
  },
  {
   "cell_type": "markdown",
   "id": "829f2408",
   "metadata": {},
   "source": [
    "## Part E\n",
    "You will use another approach to plot the error rates versus the maximum depth of the \n",
    "tree. Here, you would use the validation_curve() function inside the \n",
    "sklearn.model_selection module. This function implements cross validation and returns \n",
    "the training accuracy scores and test (validation) accuracy scores for each iteration in the \n",
    "k-fold cross validation, for each of the hyperparameter values. You will need to aggregate \n",
    "the scores using np.mean(axis=1) to get the average of the accuracy scores for all \n",
    "iterations, for each hyperparameter value. Use these average accuracy scores to obtain \n",
    "corresponding error rates for the training and test (validation) sets. Then plot the error \n",
    "rates on the training set versus the maximum depth values. Also plot on the same figure, \n",
    "the error rates of the test (or validation) set versus the maximum depth values. What is \n",
    "the optimal maximum depth? ("
   ]
  },
  {
   "cell_type": "code",
   "execution_count": 29,
   "id": "3728825e",
   "metadata": {},
   "outputs": [],
   "source": [
    "train_scores, test_scores = validation_curve(DecisionTreeClassifier(), X_train, y_train,\n",
    "                                       param_name = \"max_depth\",\n",
    "                                       param_range = range(1, dt.tree_.max_depth + 1),\n",
    "                                        cv = 8, scoring = \"accuracy\")"
   ]
  },
  {
   "cell_type": "code",
   "execution_count": 30,
   "id": "1aa637bf",
   "metadata": {},
   "outputs": [
    {
     "data": {
      "image/png": "[encoded data removed]",
      "text/plain": [
       "<Figure size 432x288 with 1 Axes>"
      ]
     },
     "metadata": {
      "needs_background": "light"
     },
     "output_type": "display_data"
    }
   ],
   "source": [
    "train_scores_error = 1 - np.mean(train_scores, axis = 1)\n",
    "test_scores_error = 1 - np.mean(test_scores, axis = 1)\n",
    "\n",
    "    \n",
    "plt.plot(range(1, dt.tree_.max_depth + 1), train_scores_error, color = 'black', label = 'Train Error')\n",
    "plt.plot(range(1, dt.tree_.max_depth + 1), test_scores_error, color = 'red', label = 'Test Error')\n",
    "plt.xlabel(\"Maximum Depth\")\n",
    "plt.ylabel(\"Overall Error Rate\")\n",
    "plt.title(\"Error Rater for Specific Max Depth\")\n",
    "plt.legend()\n",
    "plt.show()"
   ]
  },
  {
   "cell_type": "code",
   "execution_count": 31,
   "id": "fa5caa81",
   "metadata": {},
   "outputs": [
    {
     "name": "stdout",
     "output_type": "stream",
     "text": [
      "The optimal max depth is  6\n"
     ]
    }
   ],
   "source": [
    "optimal_max_depth = np.argmin(test_scores_error)\n",
    "print(\"The optimal max depth is \", range(1,dt.tree_.max_depth+1)[optimal_max_depth])"
   ]
  },
  {
   "cell_type": "markdown",
   "id": "b8519c99",
   "metadata": {},
   "source": [
    "# Question 4\n",
    "## Part A\n",
    "State your research question, for example: Are decision trees and random forest good \n",
    "models for predicting whether someone will default on a loan or not based on their \n",
    "age and income level? This is just an example, your dataset does not have to be (or \n",
    "should not be) about loans. "
   ]
  },
  {
   "cell_type": "markdown",
   "id": "2dc31788",
   "metadata": {},
   "source": [
    "Are decision trees and random forests good models for predicting whether a leaf is classified as either simple or complex. This question arrises from the leaf dataset gathered from: https://archive.ics.uci.edu/ml/datasets/Leaf."
   ]
  },
  {
   "cell_type": "markdown",
   "id": "1e293eec",
   "metadata": {},
   "source": [
    "## Part B\n",
    "Data pre-processing (to the extent deemed necessary)"
   ]
  },
  {
   "cell_type": "code",
   "execution_count": 32,
   "id": "a54aaf7b",
   "metadata": {},
   "outputs": [],
   "source": [
    "columns = ['species', 'specimen_number', 'eccentricity', 'aspect_ratio', 'elongation', \n",
    "        'solidity', 'stochastic_convexity', 'isoperimetric_factor', 'maximal_indentation_depth', 'lobedness',\n",
    "        'average_intensity', 'average_contrast', 'smoothness',  'third moment', 'uniformity', 'entropy']\n",
    "leaf = pd.read_csv('leaf.csv', names = columns)\n",
    "leaf = leaf.drop(['specimen_number'], axis = 1)\n",
    "\n",
    "leaf['species'] = np.where((leaf['species'] <= 15), 0, leaf['species']) # Simple leafs\n",
    "leaf['species'] = np.where((leaf['species'] > 15), 1, leaf['species']) # Complex"
   ]
  },
  {
   "cell_type": "code",
   "execution_count": 33,
   "id": "8293def1",
   "metadata": {},
   "outputs": [
    {
     "data": {
      "text/plain": [
       "species                      0\n",
       "eccentricity                 0\n",
       "aspect_ratio                 0\n",
       "elongation                   0\n",
       "solidity                     0\n",
       "stochastic_convexity         0\n",
       "isoperimetric_factor         0\n",
       "maximal_indentation_depth    0\n",
       "lobedness                    0\n",
       "average_intensity            0\n",
       "average_contrast             0\n",
       "smoothness                   0\n",
       "third moment                 0\n",
       "uniformity                   0\n",
       "entropy                      0\n",
       "dtype: int64"
      ]
     },
     "execution_count": 33,
     "metadata": {},
     "output_type": "execute_result"
    }
   ],
   "source": [
    "leaf.isna().sum()"
   ]
  },
  {
   "cell_type": "code",
   "execution_count": 34,
   "id": "40a22e62",
   "metadata": {},
   "outputs": [
    {
     "data": {
      "text/plain": [
       "0    171\n",
       "1    169\n",
       "Name: species, dtype: int64"
      ]
     },
     "execution_count": 34,
     "metadata": {},
     "output_type": "execute_result"
    }
   ],
   "source": [
    "leaf.species.value_counts()"
   ]
  },
  {
   "cell_type": "markdown",
   "id": "0698968d",
   "metadata": {},
   "source": [
    "## Part C\n",
    "Data splitting "
   ]
  },
  {
   "cell_type": "code",
   "execution_count": 35,
   "id": "4639bcd3",
   "metadata": {},
   "outputs": [],
   "source": [
    "X = leaf.drop(['species'], axis = 1)\n",
    "y = leaf['species']\n",
    "\n",
    "X_train, X_test, y_train, y_test = train_test_split(X, y, test_size = .3, random_state = 42)"
   ]
  },
  {
   "cell_type": "markdown",
   "id": "6e19b509",
   "metadata": {},
   "source": [
    "## Part D\n",
    "Model construction (a decision tree and a random forest)"
   ]
  },
  {
   "cell_type": "code",
   "execution_count": 36,
   "id": "da54bfad",
   "metadata": {},
   "outputs": [
    {
     "data": {
      "text/plain": [
       "DecisionTreeClassifier(random_state=42)"
      ]
     },
     "execution_count": 36,
     "metadata": {},
     "output_type": "execute_result"
    }
   ],
   "source": [
    "dt = DecisionTreeClassifier(random_state=42)\n",
    "dt.fit(X_train, y_train)"
   ]
  },
  {
   "cell_type": "code",
   "execution_count": 37,
   "id": "31d3f4ba",
   "metadata": {},
   "outputs": [
    {
     "data": {
      "text/plain": [
       "RandomForestClassifier(random_state=42)"
      ]
     },
     "execution_count": 37,
     "metadata": {},
     "output_type": "execute_result"
    }
   ],
   "source": [
    "rf = RandomForestClassifier(random_state=42)\n",
    "rf.fit(X_train, y_train)"
   ]
  },
  {
   "cell_type": "markdown",
   "id": "9ab717fa",
   "metadata": {},
   "source": [
    "## Part E\n",
    "Hyperparameter turning (for each model, tune the hyperparameter that is important to \n",
    "you and use any of the methods for hyperparameter tuning learned in class such as cross \n",
    "validation with for loop, gridsearch cross validation, etc. You could tune more than a \n",
    "single parameter for each model if you want). "
   ]
  },
  {
   "cell_type": "code",
   "execution_count": 38,
   "id": "a56a5858",
   "metadata": {},
   "outputs": [
    {
     "name": "stderr",
     "output_type": "stream",
     "text": [
      "/Users/zachchase/opt/anaconda3/lib/python3.9/site-packages/sklearn/model_selection/_validation.py:372: FitFailedWarning: \n",
      "608 fits failed out of a total of 1824.\n",
      "The score on these train-test partitions for these parameters will be set to nan.\n",
      "If these failures are not expected, you can try to debug them by setting error_score='raise'.\n",
      "\n",
      "Below are more details about the failures:\n",
      "--------------------------------------------------------------------------------\n",
      "608 fits failed with the following error:\n",
      "Traceback (most recent call last):\n",
      "  File \"/Users/zachchase/opt/anaconda3/lib/python3.9/site-packages/sklearn/model_selection/_validation.py\", line 680, in _fit_and_score\n",
      "    estimator.fit(X_train, y_train, **fit_params)\n",
      "  File \"/Users/zachchase/opt/anaconda3/lib/python3.9/site-packages/sklearn/tree/_classes.py\", line 937, in fit\n",
      "    super().fit(\n",
      "  File \"/Users/zachchase/opt/anaconda3/lib/python3.9/site-packages/sklearn/tree/_classes.py\", line 352, in fit\n",
      "    criterion = CRITERIA_CLF[self.criterion](\n",
      "KeyError: 'log_loss'\n",
      "\n",
      "  warnings.warn(some_fits_failed_message, FitFailedWarning)\n",
      "/Users/zachchase/opt/anaconda3/lib/python3.9/site-packages/sklearn/model_selection/_search.py:969: UserWarning: One or more of the test scores are non-finite: [0.61307471 0.49928161 0.53275862 0.50359195 0.62557471 0.6295977\n",
      " 0.63390805 0.6420977  0.62543103 0.67198276 0.65488506 0.65474138\n",
      " 0.62586207 0.67586207 0.68017241 0.68850575 0.66767241 0.68462644\n",
      " 0.68893678 0.70962644 0.6762931  0.6933908  0.64655172 0.73132184\n",
      " 0.68376437 0.69712644 0.70991379 0.70186782 0.72212644 0.68477011\n",
      " 0.76451149 0.69798851 0.68864943 0.7262931  0.76925287 0.73146552\n",
      " 0.75143678 0.7316092  0.7308908  0.74813218 0.70086207 0.76451149\n",
      " 0.74367816 0.73965517 0.70646552 0.76465517 0.74310345 0.7183908\n",
      " 0.70991379 0.74770115 0.74310345 0.70560345 0.71408046 0.75201149\n",
      " 0.72686782 0.73951149 0.70991379 0.73994253 0.72686782 0.76091954\n",
      " 0.71479885 0.71436782 0.73132184 0.7058908  0.70158046 0.74367816\n",
      " 0.6841954  0.73520115 0.73908046 0.74396552 0.71020115 0.74367816\n",
      " 0.72672414 0.71867816 0.72729885 0.67701149 0.5283046  0.50387931\n",
      " 0.49942529 0.50775862 0.58850575 0.64238506 0.64195402 0.65028736\n",
      " 0.57528736 0.65071839 0.65474138 0.65028736 0.61738506 0.62945402\n",
      " 0.67298851 0.63462644 0.65517241 0.68002874 0.6762931  0.70531609\n",
      " 0.6591954  0.68491379 0.77298851 0.68836207 0.69252874 0.73548851\n",
      " 0.70172414 0.71350575 0.68491379 0.68850575 0.7308908  0.73520115\n",
      " 0.67571839 0.7308908  0.71408046 0.74784483 0.69698276 0.73951149\n",
      " 0.70531609 0.72686782 0.6887931  0.70991379 0.71810345 0.73477011\n",
      " 0.70574713 0.7216954  0.70114943 0.72715517 0.72701149 0.72241379\n",
      " 0.75186782 0.71350575 0.70215517 0.76436782 0.70517241 0.69310345\n",
      " 0.68836207 0.76479885 0.7262931  0.70474138 0.74712644 0.80215517\n",
      " 0.70545977 0.71393678 0.69712644 0.74324713 0.7137931  0.71034483\n",
      " 0.68864943 0.73965517 0.73448276 0.77227011 0.72270115 0.69712644\n",
      " 0.77284483 0.72198276        nan        nan        nan        nan\n",
      "        nan        nan        nan        nan        nan        nan\n",
      "        nan        nan        nan        nan        nan        nan\n",
      "        nan        nan        nan        nan        nan        nan\n",
      "        nan        nan        nan        nan        nan        nan\n",
      "        nan        nan        nan        nan        nan        nan\n",
      "        nan        nan        nan        nan        nan        nan\n",
      "        nan        nan        nan        nan        nan        nan\n",
      "        nan        nan        nan        nan        nan        nan\n",
      "        nan        nan        nan        nan        nan        nan\n",
      "        nan        nan        nan        nan        nan        nan\n",
      "        nan        nan        nan        nan        nan        nan\n",
      "        nan        nan        nan        nan        nan        nan]\n",
      "  warnings.warn(\n"
     ]
    },
    {
     "data": {
      "text/plain": [
       "GridSearchCV(cv=8, estimator=DecisionTreeClassifier(),\n",
       "             param_grid={'criterion': ['gini', 'entropy', 'log_loss'],\n",
       "                         'max_depth': range(1, 20),\n",
       "                         'max_features': [0.2, 0.4, 0.6, 0.8]})"
      ]
     },
     "execution_count": 38,
     "metadata": {},
     "output_type": "execute_result"
    }
   ],
   "source": [
    "param_grid = {'max_depth':range(1,20),\n",
    "             'max_features':[0.2,0.4,0.6,0.8],\n",
    "             'criterion':['gini', 'entropy', 'log_loss']}\n",
    "\n",
    "dt_pipe = GridSearchCV(DecisionTreeClassifier(), param_grid, cv=8)\n",
    "dt_pipe.fit(X_train, y_train)"
   ]
  },
  {
   "cell_type": "code",
   "execution_count": 39,
   "id": "95dcc295",
   "metadata": {},
   "outputs": [
    {
     "name": "stderr",
     "output_type": "stream",
     "text": [
      "/Users/zachchase/opt/anaconda3/lib/python3.9/site-packages/sklearn/model_selection/_validation.py:372: FitFailedWarning: \n",
      "32 fits failed out of a total of 96.\n",
      "The score on these train-test partitions for these parameters will be set to nan.\n",
      "If these failures are not expected, you can try to debug them by setting error_score='raise'.\n",
      "\n",
      "Below are more details about the failures:\n",
      "--------------------------------------------------------------------------------\n",
      "32 fits failed with the following error:\n",
      "Traceback (most recent call last):\n",
      "  File \"/Users/zachchase/opt/anaconda3/lib/python3.9/site-packages/sklearn/model_selection/_validation.py\", line 680, in _fit_and_score\n",
      "    estimator.fit(X_train, y_train, **fit_params)\n",
      "  File \"/Users/zachchase/opt/anaconda3/lib/python3.9/site-packages/sklearn/ensemble/_forest.py\", line 450, in fit\n",
      "    trees = Parallel(\n",
      "  File \"/Users/zachchase/opt/anaconda3/lib/python3.9/site-packages/joblib/parallel.py\", line 1041, in __call__\n",
      "    if self.dispatch_one_batch(iterator):\n",
      "  File \"/Users/zachchase/opt/anaconda3/lib/python3.9/site-packages/joblib/parallel.py\", line 859, in dispatch_one_batch\n",
      "    self._dispatch(tasks)\n",
      "  File \"/Users/zachchase/opt/anaconda3/lib/python3.9/site-packages/joblib/parallel.py\", line 777, in _dispatch\n",
      "    job = self._backend.apply_async(batch, callback=cb)\n",
      "  File \"/Users/zachchase/opt/anaconda3/lib/python3.9/site-packages/joblib/_parallel_backends.py\", line 208, in apply_async\n",
      "    result = ImmediateResult(func)\n",
      "  File \"/Users/zachchase/opt/anaconda3/lib/python3.9/site-packages/joblib/_parallel_backends.py\", line 572, in __init__\n",
      "    self.results = batch()\n",
      "  File \"/Users/zachchase/opt/anaconda3/lib/python3.9/site-packages/joblib/parallel.py\", line 262, in __call__\n",
      "    return [func(*args, **kwargs)\n",
      "  File \"/Users/zachchase/opt/anaconda3/lib/python3.9/site-packages/joblib/parallel.py\", line 262, in <listcomp>\n",
      "    return [func(*args, **kwargs)\n",
      "  File \"/Users/zachchase/opt/anaconda3/lib/python3.9/site-packages/sklearn/utils/fixes.py\", line 216, in __call__\n",
      "    return self.function(*args, **kwargs)\n",
      "  File \"/Users/zachchase/opt/anaconda3/lib/python3.9/site-packages/sklearn/ensemble/_forest.py\", line 185, in _parallel_build_trees\n",
      "    tree.fit(X, y, sample_weight=curr_sample_weight, check_input=False)\n",
      "  File \"/Users/zachchase/opt/anaconda3/lib/python3.9/site-packages/sklearn/tree/_classes.py\", line 937, in fit\n",
      "    super().fit(\n",
      "  File \"/Users/zachchase/opt/anaconda3/lib/python3.9/site-packages/sklearn/tree/_classes.py\", line 352, in fit\n",
      "    criterion = CRITERIA_CLF[self.criterion](\n",
      "KeyError: 'log_loss'\n",
      "\n",
      "  warnings.warn(some_fits_failed_message, FitFailedWarning)\n",
      "/Users/zachchase/opt/anaconda3/lib/python3.9/site-packages/sklearn/model_selection/_search.py:969: UserWarning: One or more of the test scores are non-finite: [0.78117816 0.78548851 0.7933908  0.80201149 0.75560345 0.79367816\n",
      " 0.81436782 0.81048851        nan        nan        nan        nan]\n",
      "  warnings.warn(\n"
     ]
    },
    {
     "data": {
      "text/plain": [
       "GridSearchCV(cv=8, estimator=RandomForestClassifier(),\n",
       "             param_grid={'criterion': ['gini', 'entropy', 'log_loss'],\n",
       "                         'n_estimators': [10, 50, 100, 200]})"
      ]
     },
     "execution_count": 39,
     "metadata": {},
     "output_type": "execute_result"
    }
   ],
   "source": [
    "param_grid = {'n_estimators':[10, 50, 100, 200],\n",
    "             'criterion':['gini', 'entropy', 'log_loss']}\n",
    "\n",
    "rf_pipe = GridSearchCV(RandomForestClassifier(), param_grid, cv=8)\n",
    "rf_pipe.fit(X_train, y_train)"
   ]
  },
  {
   "cell_type": "markdown",
   "id": "114cb239",
   "metadata": {},
   "source": [
    "## Part F\n",
    "Use the best or optimal parameter values to build a model, then compute the accuracy \n",
    "score for the decision tree and for the random forest). "
   ]
  },
  {
   "cell_type": "code",
   "execution_count": 40,
   "id": "c1430ddd",
   "metadata": {},
   "outputs": [],
   "source": [
    "dt_best = dt_pipe.best_estimator_\n",
    "dt_best_predictions = dt_best.predict(X_test)\n",
    "df_accuracy = accuracy_score(dt_best_predictions, y_test)\n",
    "\n",
    "rf_best = rf_pipe.best_estimator_\n",
    "rf_best_predictions = rf_best.predict(X_test)\n",
    "rf_accuracy = accuracy_score(rf_best_predictions, y_test)"
   ]
  },
  {
   "cell_type": "code",
   "execution_count": 41,
   "id": "f9e3f37f",
   "metadata": {},
   "outputs": [
    {
     "data": {
      "text/plain": [
       "0.7352941176470589"
      ]
     },
     "execution_count": 41,
     "metadata": {},
     "output_type": "execute_result"
    }
   ],
   "source": [
    "df_accuracy"
   ]
  },
  {
   "cell_type": "code",
   "execution_count": 42,
   "id": "0b9cc2a1",
   "metadata": {},
   "outputs": [
    {
     "data": {
      "text/plain": [
       "0.8333333333333334"
      ]
     },
     "execution_count": 42,
     "metadata": {},
     "output_type": "execute_result"
    }
   ],
   "source": [
    "rf_accuracy"
   ]
  },
  {
   "cell_type": "markdown",
   "id": "3603e12f",
   "metadata": {},
   "source": [
    "## Part G\n",
    "Discuss about overfitting for both models and, also discuss which model is better for \n",
    "classification for your dataset and why? "
   ]
  },
  {
   "cell_type": "markdown",
   "id": "2a8412a7",
   "metadata": {},
   "source": [
    "For both the decision tree and random forest model, it doesn't appear that overfitting should be a major concern. Note the moderately ok, but not perfect accuracy score. Additionally, for this dataset random forest is beter than decision trees in classification. This could be because random forests are an ensamble method that utilizes the techniques of decision trees to improve performance."
   ]
  },
  {
   "cell_type": "code",
   "execution_count": null,
   "id": "c39201ff",
   "metadata": {},
   "outputs": [],
   "source": []
  }
 ],
 "metadata": {
  "kernelspec": {
   "display_name": "Python 3 (ipykernel)",
   "language": "python",
   "name": "python3"
  },
  "language_info": {
   "codemirror_mode": {
    "name": "ipython",
    "version": 3
   },
   "file_extension": ".py",
   "mimetype": "text/x-python",
   "name": "python",
   "nbconvert_exporter": "python",
   "pygments_lexer": "ipython3",
   "version": "3.9.7"
  }
 },
 "nbformat": 4,
 "nbformat_minor": 5
}

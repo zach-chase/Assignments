{
 "cells": [
  {
   "cell_type": "markdown",
   "id": "a26ecc66",
   "metadata": {},
   "source": [
    "<h1><center><font size = 9>Assignment 4</font></center></h1>\n",
    "<h1><center><font size = 5>Zach Chase</font></center></h1>"
   ]
  },
  {
   "cell_type": "code",
   "execution_count": 314,
   "id": "a23649cb",
   "metadata": {},
   "outputs": [],
   "source": [
    "import pandas as pd\n",
    "import random\n",
    "import numpy as np\n",
    "from sklearn.neighbors import KNeighborsRegressor, KNeighborsClassifier\n",
    "from sklearn.model_selection import train_test_split\n",
    "from matplotlib import pyplot as plt\n",
    "from sklearn.metrics import mean_squared_error\n",
    "from sklearn.preprocessing import StandardScaler\n",
    "from sklearn.model_selection import GridSearchCV\n",
    "from statistics import multimode\n",
    "from sklearn.ensemble import RandomForestRegressor, RandomForestClassifier\n",
    "from sklearn.pipeline import Pipeline\n",
    "import warnings\n",
    "from sklearn.exceptions import DataConversionWarning\n",
    "warnings.simplefilter(action='ignore', category=FutureWarning)\n",
    "warnings.simplefilter(action='ignore', category=DataConversionWarning)"
   ]
  },
  {
   "cell_type": "markdown",
   "id": "35c1cdfd",
   "metadata": {},
   "source": [
    "# Question 1\n",
    "## Part a\n",
    "Read the data provided on canvas into Python. Print the first 5 rows of each dataset to inspect the nature of data"
   ]
  },
  {
   "cell_type": "code",
   "execution_count": 52,
   "id": "3136193e",
   "metadata": {},
   "outputs": [],
   "source": [
    "delivery_train = pd.read_csv(\"delivery_time_train_data.csv\")\n",
    "delivery_test = pd.read_csv(\"delivery_time_test_data.csv\")\n",
    "student_train = pd.read_csv(\"student_train_data.csv\")\n",
    "student_test = pd.read_csv(\"student_test_data.csv\")"
   ]
  },
  {
   "cell_type": "code",
   "execution_count": 53,
   "id": "e09d347b",
   "metadata": {},
   "outputs": [
    {
     "name": "stdout",
     "output_type": "stream",
     "text": [
      "   Miles  Deliveries  Time\n",
      "0    100           4   9.3\n",
      "1     50           3   4.8\n",
      "2    100           4   8.9\n",
      "3    100           2   6.5\n",
      "4     50           2   4.2\n",
      "Miles           int64\n",
      "Deliveries      int64\n",
      "Time          float64\n",
      "dtype: object\n",
      "            Miles  Deliveries        Time\n",
      "count  199.000000  199.000000  199.000000\n",
      "mean    70.075377    3.472362    7.166834\n",
      "std     20.153937    1.601133    1.840785\n",
      "min     40.000000    1.000000    2.800000\n",
      "25%     50.000000    2.000000    5.900000\n",
      "50%     75.000000    3.000000    7.100000\n",
      "75%     87.500000    5.000000    8.600000\n",
      "max    100.000000    6.000000   12.200000\n"
     ]
    }
   ],
   "source": [
    "print(delivery_train.head())\n",
    "print(delivery_train.dtypes)\n",
    "print(delivery_train.describe())"
   ]
  },
  {
   "cell_type": "code",
   "execution_count": 54,
   "id": "16d6dfa2",
   "metadata": {},
   "outputs": [
    {
     "name": "stdout",
     "output_type": "stream",
     "text": [
      "   Miles  Deliveries  Time\n",
      "0     50           3   4.6\n",
      "1     65           2   5.5\n",
      "2     80           1   6.3\n",
      "3     70           1   6.2\n",
      "4     70           5   8.5\n",
      "Miles           int64\n",
      "Deliveries      int64\n",
      "Time          float64\n",
      "dtype: object\n",
      "            Miles  Deliveries        Time\n",
      "count  101.000000  101.000000  101.000000\n",
      "mean    71.980198    3.514851    7.514851\n",
      "std     18.358638    1.682937    2.100161\n",
      "min     40.000000    1.000000    3.100000\n",
      "25%     60.000000    2.000000    5.800000\n",
      "50%     70.000000    3.000000    7.600000\n",
      "75%     90.000000    5.000000    8.900000\n",
      "max    100.000000    6.000000   12.300000\n"
     ]
    }
   ],
   "source": [
    "print(delivery_test.head())\n",
    "print(delivery_test.dtypes)\n",
    "print(delivery_test.describe())"
   ]
  },
  {
   "cell_type": "code",
   "execution_count": 55,
   "id": "231273b7",
   "metadata": {},
   "outputs": [
    {
     "name": "stdout",
     "output_type": "stream",
     "text": [
      "    GPA  Age  Dropped\n",
      "0  3.78   21        0\n",
      "1  2.38   27        0\n",
      "2  3.05   21        1\n",
      "3  2.19   28        1\n",
      "4  3.22   23        0\n",
      "GPA        float64\n",
      "Age          int64\n",
      "Dropped      int64\n",
      "dtype: object\n",
      "              GPA         Age     Dropped\n",
      "count  400.000000  400.000000  400.000000\n",
      "mean     2.850200   24.855000    0.287500\n",
      "std      0.434538    3.135051    0.453163\n",
      "min      2.010000   20.000000    0.000000\n",
      "25%      2.557500   22.000000    0.000000\n",
      "50%      2.820000   25.000000    0.000000\n",
      "75%      3.140000   28.000000    1.000000\n",
      "max      4.000000   30.000000    1.000000\n"
     ]
    }
   ],
   "source": [
    "print(student_train.head())\n",
    "print(student_train.dtypes)\n",
    "print(student_train.describe())"
   ]
  },
  {
   "cell_type": "code",
   "execution_count": 56,
   "id": "a33a16d3",
   "metadata": {},
   "outputs": [
    {
     "name": "stdout",
     "output_type": "stream",
     "text": [
      "    GPA  Age  Dropped\n",
      "0  2.49   26        1\n",
      "1  2.67   29        0\n",
      "2  2.86   29        1\n",
      "3  2.21   26        0\n",
      "4  2.91   20        1\n",
      "GPA        float64\n",
      "Age          int64\n",
      "Dropped      int64\n",
      "dtype: object\n",
      "              GPA         Age     Dropped\n",
      "count  100.000000  100.000000  100.000000\n",
      "mean     2.865200   25.490000    0.230000\n",
      "std      0.467031    3.223948    0.422953\n",
      "min      2.010000   20.000000    0.000000\n",
      "25%      2.597500   23.000000    0.000000\n",
      "50%      2.825000   26.000000    0.000000\n",
      "75%      3.102500   28.000000    0.000000\n",
      "max      3.910000   30.000000    1.000000\n"
     ]
    }
   ],
   "source": [
    "print(student_test.head())\n",
    "print(student_test.dtypes)\n",
    "print(student_test.describe())"
   ]
  },
  {
   "cell_type": "markdown",
   "id": "4d83d88f",
   "metadata": {},
   "source": [
    "## Part B\n",
    "Split the data into training and test. Print the shape of input and output data for the training and test sets."
   ]
  },
  {
   "cell_type": "code",
   "execution_count": 57,
   "id": "0e1eb73a",
   "metadata": {},
   "outputs": [],
   "source": [
    "X_delivery_train = delivery_train[['Miles', 'Deliveries']]\n",
    "y_delivery_train = delivery_train[['Time']]\n",
    "\n",
    "X_delivery_test = delivery_test[['Miles', 'Deliveries']]\n",
    "y_delivery_test = delivery_test[['Time']]\n",
    "\n",
    "X_student_train = student_train[['GPA', 'Age']]\n",
    "y_student_train = student_train[['Dropped']]\n",
    "\n",
    "X_student_test = student_test[['GPA', 'Age']]\n",
    "y_student_test = student_test[['Dropped']]"
   ]
  },
  {
   "cell_type": "code",
   "execution_count": 58,
   "id": "767ad7b6",
   "metadata": {},
   "outputs": [
    {
     "name": "stdout",
     "output_type": "stream",
     "text": [
      "(199, 2)\n",
      "(199, 1)\n",
      "(101, 2)\n",
      "(101, 1)\n",
      "(400, 2)\n",
      "(400, 1)\n",
      "(100, 2)\n",
      "(100, 1)\n"
     ]
    }
   ],
   "source": [
    "print(X_delivery_train.shape)\n",
    "print(y_delivery_train.shape)\n",
    "\n",
    "print(X_delivery_test.shape)\n",
    "print(y_delivery_test.shape)\n",
    "\n",
    "print(X_student_train.shape)\n",
    "print(y_student_train.shape)\n",
    "\n",
    "print(X_student_test.shape)\n",
    "print(y_student_test.shape)"
   ]
  },
  {
   "cell_type": "markdown",
   "id": "e98f7cc7",
   "metadata": {},
   "source": [
    "## Part C\n",
    "You would use the delivery data for regression: that is, miles (“Miles”) and number of \n",
    "deliveries (“Deliveries”) would be use an input to predict the total time it takes for a \n",
    "delivery truck to deliver Amazon packages. You would write a k-nearest neighbor \n",
    "algorithm function that learns from the training set and predicts the output or y values of \n",
    "given test instances. The input that the function takes include:\n",
    "* X_train: Pandas DataFrame or 2D NumPy array \n",
    "* y_train: Pandas Series or 1D NumPy array \n",
    "* X_test: Pandas DataFrame or 2D NumPy array\n",
    "* K: the number of nearest neighbors. The default value should be k=5 if no k value \n",
    "is passed during function call. \n",
    "\n",
    "\n",
    "Call the knn_predict() function and pass the X_delivery_train, y_delivery_train and \n",
    "X_delivery_test to compute the predicted output values for the X_delivery_test set. You \n",
    "can reference the results using a variable, y_delivery_test_pred. "
   ]
  },
  {
   "cell_type": "code",
   "execution_count": 62,
   "id": "32038685",
   "metadata": {},
   "outputs": [],
   "source": [
    "def knn_predict(X_train, y_train, X_test, k=5):\n",
    "    y_pred = []\n",
    "    for i in range(0, len(X_test)):\n",
    "        test_instance = np.array([X_test.iloc[i]])\n",
    "        distances = []\n",
    "        for j in range(0, len(X_train)):\n",
    "            train_instance = np.array([X_train.iloc[j]])\n",
    "            distances.append(np.linalg.norm(test_instance - train_instance))\n",
    "        smallest_indices = np.array(distances).argsort()[:k]\n",
    "        y_pred.append(np.mean(y_train.loc[smallest_indices].Time))\n",
    "    return y_pred\n",
    "    \n",
    "y_delivery_test_pred = knn_predict(X_delivery_train, y_delivery_train, X_delivery_test)"
   ]
  },
  {
   "cell_type": "markdown",
   "id": "3aca8904",
   "metadata": {},
   "source": [
    "## Part D\n",
    "Write a function that computes the mean squared error to measure the performance \n",
    "accuracy of your knn algorithm. The input that goes into the function is the actual output \n",
    "values(y) and the predicted output values (y_pred). The mean squared error (mse) is \n",
    "calculated as follows:\n",
    "mse = 1\n",
    "𝑛∑𝑛\n",
    "1 = 1(𝑦―𝑦𝑝𝑟𝑒𝑑)2 where n = length of y or length of y_pred\n",
    "You can name the function mse. Then call the function to compute the mse for the test set \n",
    "for the delivery data. That is, use mse(y_delivery_test, y_delivery_test_pred). "
   ]
  },
  {
   "cell_type": "code",
   "execution_count": 129,
   "id": "a9c055f6",
   "metadata": {},
   "outputs": [
    {
     "data": {
      "text/plain": [
       "1.0977544554455447"
      ]
     },
     "execution_count": 129,
     "metadata": {},
     "output_type": "execute_result"
    }
   ],
   "source": [
    "def mse(actual, predictions):\n",
    "    \n",
    "    actual = actual.to_numpy()\n",
    "    predictions = np.array(predictions)\n",
    "    \n",
    "    total = 0\n",
    "    for i in range(len(actual)):\n",
    "        total += (actual[i] - predictions[i])**2\n",
    "        \n",
    "    return float(total / len(actual))\n",
    "\n",
    "mse(y_delivery_test, y_delivery_test_pred)"
   ]
  },
  {
   "cell_type": "markdown",
   "id": "1086e9f1",
   "metadata": {},
   "source": [
    "## Part E\n",
    "Does your algorithm overfit the data? To answer this question, you need to compute the \n",
    "accuracy or mse of the algorithm on the training set, and compare with the accuracy or \n",
    "mse you got for the test set. You will need to start with making predictions for the \n",
    "training set. Note that you will need to pass the training set into the X_test parameter of \n",
    "the knn_predict() function, in addition to the other arguments of the function. When you \n",
    "get the predicted values for the training set, use the mse() function to get the training mse. \n"
   ]
  },
  {
   "cell_type": "code",
   "execution_count": 131,
   "id": "1fd267b8",
   "metadata": {},
   "outputs": [
    {
     "data": {
      "text/plain": [
       "0.5889105527638189"
      ]
     },
     "execution_count": 131,
     "metadata": {},
     "output_type": "execute_result"
    }
   ],
   "source": [
    "mse(y_delivery_train, knn_predict(X_delivery_train, y_delivery_train, X_delivery_train))"
   ]
  },
  {
   "cell_type": "markdown",
   "id": "c34b8fe0",
   "metadata": {},
   "source": [
    "Note that the MSE of the training data is 0.5889105527638189 and the MSE of the test data is 1.0977544554455447. This suggests that the algorithm does slightly overfit the data."
   ]
  },
  {
   "cell_type": "markdown",
   "id": "a282c2db",
   "metadata": {},
   "source": [
    "## Part F\n",
    "Now, tune the hyperparameter, k, of your algorithm. Specify a grid of hyperparameter \n",
    "values from k=1 to k=50. Use a for-loop, then inside the for-loop body, use the \n",
    "knn_predict() function as well as the mse() function to compute the mse values for the \n",
    "training set and test set for different values of k in the hyperparameter grid. Plot the \n",
    "training and test error rates of the model versus the grid of hyperparameter values."
   ]
  },
  {
   "cell_type": "code",
   "execution_count": 139,
   "id": "2ff02f6d",
   "metadata": {},
   "outputs": [
    {
     "name": "stdout",
     "output_type": "stream",
     "text": [
      "50\r"
     ]
    }
   ],
   "source": [
    "train_predictions = []\n",
    "test_predictions = []\n",
    "\n",
    "for i in [_ for _ in range(1, 51)]:\n",
    "    print(i, end = '\\r')\n",
    "    y_delivery_test_predictions = knn_predict(X_delivery_train, y_delivery_train, X_delivery_test, k = i)\n",
    "    y_delivery_train_predictions = knn_predict(X_delivery_train, y_delivery_train, X_delivery_train, k = i)\n",
    "    \n",
    "    mse_test = mse(y_delivery_test, y_delivery_test_predictions)\n",
    "    mse_train = mse(y_delivery_train, y_delivery_train_predictions)\n",
    "    \n",
    "    train_predictions.append(mse_train)\n",
    "    test_predictions.append(mse_test)"
   ]
  },
  {
   "cell_type": "code",
   "execution_count": 150,
   "id": "ce6d3e92",
   "metadata": {},
   "outputs": [
    {
     "data": {
      "image/png": "[encoded data removed]",
      "text/plain": [
       "<Figure size 576x432 with 1 Axes>"
      ]
     },
     "metadata": {
      "needs_background": "light"
     },
     "output_type": "display_data"
    }
   ],
   "source": [
    "plt.figure(figsize=(8,6))\n",
    "plt.plot(train_predictions, label = 'train')\n",
    "plt.plot(test_predictions, label = 'test')\n",
    "plt.xlabel(\"K\")\n",
    "plt.ylabel(\"MSE\")\n",
    "plt.title(\"MSE per K value\")\n",
    "plt.legend()\n",
    "plt.show()"
   ]
  },
  {
   "cell_type": "code",
   "execution_count": 154,
   "id": "cbf964c1",
   "metadata": {},
   "outputs": [
    {
     "data": {
      "text/plain": [
       "3"
      ]
     },
     "execution_count": 154,
     "metadata": {},
     "output_type": "execute_result"
    }
   ],
   "source": [
    "np.array(test_predictions).argmin() + 1 # Best k value"
   ]
  },
  {
   "cell_type": "markdown",
   "id": "30e33570",
   "metadata": {},
   "source": [
    "## Part G\n",
    "Now, construct and fit a k-nearest neighbor model using the  KNeighborsRegressor() \n",
    "estimator in sklearn.neighbors module. Use the mean_square_error() function inside the \n",
    "sklearn.metrics module to compute the mse of the model on the test set. Is this similar to \n",
    "the mse value you got from the algorithm function you wrote from scratch? "
   ]
  },
  {
   "cell_type": "code",
   "execution_count": 163,
   "id": "3033b208",
   "metadata": {},
   "outputs": [
    {
     "data": {
      "text/plain": [
       "1.0233113311331132"
      ]
     },
     "execution_count": 163,
     "metadata": {},
     "output_type": "execute_result"
    }
   ],
   "source": [
    "neigh = KNeighborsRegressor(3)\n",
    "neigh.fit(X_delivery_train, y_delivery_train)\n",
    "y_delivery_predictions = neigh.predict(X_delivery_test)\n",
    "mean_squared_error(y_delivery_test, y_delivery_predictions)"
   ]
  },
  {
   "cell_type": "markdown",
   "id": "af9193db",
   "metadata": {},
   "source": [
    "This model has a slightly better mse value, which makes sense because the model was optimized using the best k value as a parameter."
   ]
  },
  {
   "cell_type": "markdown",
   "id": "a21e0a8f",
   "metadata": {},
   "source": [
    "## Part H\n",
    "Using the Pipeline constructor inside the sklearn.pipeline module, scale the \n",
    "X_delivery_train with the StandardScaler(), and also construct the \n",
    "KNeighborsRegressor() inside the Pipeline(). Then the call the fit() method on the \n",
    "pipeline object to fit the model into the delivery training data. Transform the \n",
    "X_delivery_test data using StandardScaler() and use the mean_squared_error () \n",
    "function inside the sklearn.metrics module to compute the mse of the model on the test \n",
    "set. Is this mse similar to the mse you got when you used the unscaled input data in (g) \n",
    "above?"
   ]
  },
  {
   "cell_type": "code",
   "execution_count": 312,
   "id": "1a46df3a",
   "metadata": {},
   "outputs": [
    {
     "data": {
      "text/plain": [
       "0.9748356435643569"
      ]
     },
     "execution_count": 312,
     "metadata": {},
     "output_type": "execute_result"
    }
   ],
   "source": [
    "pipe = Pipeline([('scaler', StandardScaler()), ('knn', KNeighborsRegressor())])\n",
    "\n",
    "pipe.fit(X_delivery_train, y_delivery_train)\n",
    "\n",
    "scaler = StandardScaler()\n",
    "scaler.fit(X_delivery_test)\n",
    "X_delivery_test_scaled = scaler.transform(X_delivery_test)\n",
    "\n",
    "y_delivery_test_scaled_predictions = pipe.predict(X_delivery_test)\n",
    "mean_squared_error(y_delivery_test_scaled_predictions, y_delivery_test)"
   ]
  },
  {
   "cell_type": "markdown",
   "id": "c710097b",
   "metadata": {},
   "source": [
    "Using the scaled data, the results seem slightly better with a lower mse."
   ]
  },
  {
   "cell_type": "markdown",
   "id": "21efa392",
   "metadata": {},
   "source": [
    "## Part I\n",
    "Use the scaled X_delivery_train and X_delivery_test data and the \n",
    "RandomForestRegressor constructor inside the sklearn.ensemble module to construct/fit a \n",
    "random forest model, the compute the mse for this model. Is this mse similar to the one \n",
    "you got in question (h) above? "
   ]
  },
  {
   "cell_type": "code",
   "execution_count": 315,
   "id": "812c90d7",
   "metadata": {},
   "outputs": [
    {
     "data": {
      "text/plain": [
       "0.9508777466109432"
      ]
     },
     "execution_count": 315,
     "metadata": {},
     "output_type": "execute_result"
    }
   ],
   "source": [
    "scaler = StandardScaler()\n",
    "scaler.fit(X_delivery_test)\n",
    "X_delivery_test_scaled = scaler.transform(X_delivery_test)\n",
    "X_delivery_train_scaled = scaler.transform(X_delivery_train)\n",
    "\n",
    "rf = RandomForestRegressor()\n",
    "rf.fit(X_delivery_train_scaled, y_delivery_train)\n",
    "y_delivery_predictions_rf = rf.predict(X_delivery_test_scaled)\n",
    "mean_squared_error(y_delivery_predictions_rf, y_delivery_test)"
   ]
  },
  {
   "cell_type": "markdown",
   "id": "80d2bc3c",
   "metadata": {},
   "source": [
    "The results are similar to that of part H, but the Random Forest model mse is slightly better."
   ]
  },
  {
   "cell_type": "markdown",
   "id": "f25ab8e4",
   "metadata": {},
   "source": [
    "# Question 2\n",
    "## Part A\n",
    "You would use the student data for classification: that is, GPA and Age would be used as \n",
    "input to predict wither a student will drop out of school (Dropped=1) or not drop \n",
    "(Dropped=0). You will write a k-nearest neighbor algorithm function that learns from the \n",
    "training set and classifies given test instances to class 0 or class 1. The input that the \n",
    "function takes include:\n",
    "* X_train: Pandas DataFrame or 2D NumPy array \n",
    "* y_train: Pandas Series or 1D NumPy array \n",
    "* X_test: Pandas DataFrame or 2D NumPy array\n",
    "* K: the number of nearest neighbors. The default value should be k=5 if no k value \n",
    "is passed during function call. \n",
    "\n",
    "Scale the X_student_train and X_student_test data, and pass these scaled data sets in \n",
    "addition to y_student_train data into the knn_predict() function call to compute the \n",
    "predicted output values for the X_student_test set. You can reference the results using a \n",
    "variable, y_student_test_pred. "
   ]
  },
  {
   "cell_type": "code",
   "execution_count": 224,
   "id": "990f8a86",
   "metadata": {},
   "outputs": [],
   "source": [
    "def knn_predict(X_train, y_train, X_test, k=5):\n",
    "    y_pred = []\n",
    "    for i in range(0, len(X_test)):\n",
    "        test_instance = np.array([X_test.iloc[i]])\n",
    "        distances = []\n",
    "        for j in range(0, len(X_train)):\n",
    "            train_instance = np.array([X_train.iloc[j]])\n",
    "            distances.append(np.linalg.norm(test_instance - train_instance))\n",
    "        smallest_indices = np.array(distances).argsort()[:k]\n",
    "        y_pred.append(random.choice(multimode(y_train.loc[smallest_indices].Dropped)))\n",
    "    return y_pred"
   ]
  },
  {
   "cell_type": "code",
   "execution_count": 230,
   "id": "1ad1fc0a",
   "metadata": {},
   "outputs": [],
   "source": [
    "scaler = StandardScaler()\n",
    "scaler.fit(X_student_test)\n",
    "X_student_test_scaled = scaler.transform(X_student_test)\n",
    "X_student_train_scaled = scaler.transform(X_student_train)\n",
    "\n",
    "y_student_test_pred = knn_predict(pd.DataFrame(X_student_train_scaled),\n",
    "                                          y_student_train, pd.DataFrame(X_student_test_scaled))"
   ]
  },
  {
   "cell_type": "code",
   "execution_count": 232,
   "id": "160ba33c",
   "metadata": {},
   "outputs": [
    {
     "data": {
      "text/plain": [
       "[0,\n",
       " 0,\n",
       " 0,\n",
       " 0,\n",
       " 0,\n",
       " 0,\n",
       " 1,\n",
       " 0,\n",
       " 0,\n",
       " 1,\n",
       " 0,\n",
       " 0,\n",
       " 0,\n",
       " 0,\n",
       " 0,\n",
       " 1,\n",
       " 0,\n",
       " 0,\n",
       " 0,\n",
       " 0,\n",
       " 0,\n",
       " 1,\n",
       " 0,\n",
       " 0,\n",
       " 1,\n",
       " 0,\n",
       " 1,\n",
       " 0,\n",
       " 0,\n",
       " 0,\n",
       " 0,\n",
       " 0,\n",
       " 0,\n",
       " 0,\n",
       " 0,\n",
       " 0,\n",
       " 0,\n",
       " 0,\n",
       " 0,\n",
       " 0,\n",
       " 0,\n",
       " 0,\n",
       " 0,\n",
       " 0,\n",
       " 1,\n",
       " 0,\n",
       " 0,\n",
       " 0,\n",
       " 0,\n",
       " 0,\n",
       " 0,\n",
       " 0,\n",
       " 0,\n",
       " 0,\n",
       " 0,\n",
       " 0,\n",
       " 0,\n",
       " 0,\n",
       " 0,\n",
       " 0,\n",
       " 0,\n",
       " 0,\n",
       " 1,\n",
       " 0,\n",
       " 0,\n",
       " 0,\n",
       " 0,\n",
       " 0,\n",
       " 0,\n",
       " 0,\n",
       " 0,\n",
       " 0,\n",
       " 0,\n",
       " 0,\n",
       " 0,\n",
       " 1,\n",
       " 0,\n",
       " 0,\n",
       " 0,\n",
       " 0,\n",
       " 0,\n",
       " 0,\n",
       " 0,\n",
       " 0,\n",
       " 1,\n",
       " 1,\n",
       " 0,\n",
       " 0,\n",
       " 0,\n",
       " 0,\n",
       " 0,\n",
       " 0,\n",
       " 0,\n",
       " 1,\n",
       " 1,\n",
       " 1,\n",
       " 0,\n",
       " 1,\n",
       " 1,\n",
       " 0]"
      ]
     },
     "execution_count": 232,
     "metadata": {},
     "output_type": "execute_result"
    }
   ],
   "source": [
    "y_student_test_pred"
   ]
  },
  {
   "cell_type": "markdown",
   "id": "6922baa4",
   "metadata": {},
   "source": [
    "## Part B\n",
    "Define a function called overall_accuracy, that computes the overall accuracy of your \n",
    "algorithm. You can let your function compare the actual values (y) and the predicted or \n",
    "classified y values (y_pred), for example: overall accuracy could be computed using \n",
    "mean(y==y_pred)"
   ]
  },
  {
   "cell_type": "code",
   "execution_count": 241,
   "id": "ca13e03c",
   "metadata": {},
   "outputs": [
    {
     "data": {
      "text/plain": [
       "0.69"
      ]
     },
     "execution_count": 241,
     "metadata": {},
     "output_type": "execute_result"
    }
   ],
   "source": [
    "def overall_accuracy(actual, predictions):\n",
    "    \n",
    "    return np.mean(actual == predictions)\n",
    "\n",
    "overall_accuracy(y_student_test.Dropped, np.array(y_student_test_pred))"
   ]
  },
  {
   "cell_type": "markdown",
   "id": "428ec715",
   "metadata": {},
   "source": [
    "## Part C\n",
    "Use GridSearch in scikit learn to tune the parameter of the k-nearest neighbor \n",
    "classifier, then use that optimal parameter to compute the accuracy of the knn estimator \n",
    "on the test set. Is this accuracy score similar to that obtained using your knn algorithm \n",
    "from scratch?"
   ]
  },
  {
   "cell_type": "code",
   "execution_count": 316,
   "id": "5d34be9a",
   "metadata": {},
   "outputs": [
    {
     "data": {
      "text/plain": [
       "GridSearchCV(estimator=KNeighborsClassifier(),\n",
       "             param_grid={'n_neighbors': [1, 2, 3, 4, 5, 6, 7, 8, 9, 10, 11, 12,\n",
       "                                         13, 14, 15, 16, 17, 18, 19, 20, 21, 22,\n",
       "                                         23, 24, 25, 26, 27, 28, 29, 30, ...]},\n",
       "             scoring='accuracy')"
      ]
     },
     "execution_count": 316,
     "metadata": {},
     "output_type": "execute_result"
    }
   ],
   "source": [
    "parameters = {'n_neighbors': [i for i in range(1,51)]}\n",
    "neigh = KNeighborsClassifier()\n",
    "clf = GridSearchCV(neigh, parameters, scoring = 'accuracy')\n",
    "clf.fit(X_student_train_scaled, y_student_train)"
   ]
  },
  {
   "cell_type": "code",
   "execution_count": 265,
   "id": "ec96515a",
   "metadata": {},
   "outputs": [
    {
     "data": {
      "text/plain": [
       "KNeighborsClassifier(n_neighbors=18)"
      ]
     },
     "execution_count": 265,
     "metadata": {},
     "output_type": "execute_result"
    }
   ],
   "source": [
    "clf.best_estimator_"
   ]
  },
  {
   "cell_type": "code",
   "execution_count": 266,
   "id": "66a304b0",
   "metadata": {},
   "outputs": [
    {
     "data": {
      "text/plain": [
       "0.72"
      ]
     },
     "execution_count": 266,
     "metadata": {},
     "output_type": "execute_result"
    }
   ],
   "source": [
    "y_student_test_pred = y_student_test_pred = knn_predict(pd.DataFrame(X_student_train_scaled),\n",
    "                                          y_student_train, pd.DataFrame(X_student_test_scaled), k=18)\n",
    "overall_accuracy(y_student_test.Dropped, np.array(y_student_test_pred))"
   ]
  },
  {
   "cell_type": "markdown",
   "id": "a04822eb",
   "metadata": {},
   "source": [
    "These results are slightly better than the ones using the model created from scratch. This makes sense because the newer model is using the optimal parameter of n_neighbors, compared to the other model which uses default values."
   ]
  },
  {
   "cell_type": "markdown",
   "id": "8d7eaea5",
   "metadata": {},
   "source": [
    "## Part D\n",
    "Also build another model using a random forest classifier and compute the accuracy \n",
    "score on the test set. Which of these models is the better, the model is question 2c or this \n",
    "model in question 2d? Why or why not?"
   ]
  },
  {
   "cell_type": "code",
   "execution_count": 317,
   "id": "34792249",
   "metadata": {},
   "outputs": [
    {
     "data": {
      "text/plain": [
       "0.62"
      ]
     },
     "execution_count": 317,
     "metadata": {},
     "output_type": "execute_result"
    }
   ],
   "source": [
    "rf = RandomForestClassifier()\n",
    "rf.fit(X_student_train_scaled, y_student_train)\n",
    "y_student_test_pred = rf.predict(X_student_test_scaled)\n",
    "overall_accuracy(y_student_test.Dropped, np.array(y_student_test_pred))"
   ]
  },
  {
   "cell_type": "markdown",
   "id": "e8d2813a",
   "metadata": {},
   "source": [
    "This random forest classifier does not perform as well as the KNN model in part c. This could be because the close proximity of the data is better understood using the KNN model."
   ]
  },
  {
   "cell_type": "markdown",
   "id": "817eda24",
   "metadata": {},
   "source": [
    "# Question 3\n",
    "Find your own dataset suitable for classification or regression with at least three input variables \n",
    "and 200 or more cases: Depending on the target variable of interest, you would build a k-nearest \n",
    "neighbor classifier or regressor using the appropriate sklearn estimator. Find some interesting \n",
    "unique dataset that is not popularly used in the internet. \n",
    "Address the following and include code/output snippets from b) to f). Include the response under \n",
    "each sub question. \n",
    "* a) State your research question \n",
    "* b) Data pre-processing (to the extent deemed necessary: remember the knn algorithm \n",
    "depends on distances, so you need to rescale, normalize or standardize your input values \n",
    "to make sure no variable influences the predictions due to it scale). \n",
    "* c) Data splitting \n",
    "* d) Model construction \n",
    "* e) Hyperparameter turning (choose whatever approach your like)\n",
    "* f) Use the best or optimal parameter values to build a model, then compute the accuracy \n",
    "score for your estimator. \n",
    "\n",
    "\n",
    "Discuss about overfitting for the model "
   ]
  },
  {
   "cell_type": "markdown",
   "id": "e5d6d037",
   "metadata": {},
   "source": [
    "## Part A"
   ]
  },
  {
   "cell_type": "markdown",
   "id": "7608e91a",
   "metadata": {},
   "source": [
    "The purpose of this is to create a model that predicts if a leaf is classified as 'complex' or 'simple' based off of 15 input variables. This question arrises from the leaf dataset gathered from: https://archive.ics.uci.edu/ml/datasets/Leaf."
   ]
  },
  {
   "cell_type": "markdown",
   "id": "c9ec661a",
   "metadata": {},
   "source": [
    "## Part B"
   ]
  },
  {
   "cell_type": "code",
   "execution_count": 288,
   "id": "4e060360",
   "metadata": {},
   "outputs": [],
   "source": [
    "columns = ['species', 'specimen_number', 'eccentricity', 'aspect_ratio', 'elongation', \n",
    "        'solidity', 'stochastic_convexity', 'isoperimetric_factor', 'maximal_indentation_depth', 'lobedness',\n",
    "        'average_intensity', 'average_contrast', 'smoothness',  'third moment', 'uniformity', 'entropy']\n",
    "leaf = pd.read_csv('leaf.csv', names = columns)\n",
    "leaf = leaf.drop(['specimen_number'], axis = 1)\n",
    "\n",
    "leaf['species'] = np.where((leaf['species'] <= 15), 0, leaf['species']) # Simple leafs\n",
    "leaf['species'] = np.where((leaf['species'] > 15), 1, leaf['species']) # Complex\n",
    "\n",
    "X = leaf.drop(['species'], axis = 1)\n",
    "y = leaf['species']\n",
    "scaler = StandardScaler()\n",
    "scaler.fit(X)\n",
    "X = scaler.transform(X)"
   ]
  },
  {
   "cell_type": "markdown",
   "id": "85ec01f7",
   "metadata": {},
   "source": [
    "## Part C"
   ]
  },
  {
   "cell_type": "code",
   "execution_count": 291,
   "id": "ea2de746",
   "metadata": {},
   "outputs": [],
   "source": [
    "X_train, X_test, y_train, y_test = train_test_split(X, y, test_size = .3, random_state = 42)"
   ]
  },
  {
   "cell_type": "markdown",
   "id": "e4e8001e",
   "metadata": {},
   "source": [
    "## Part D"
   ]
  },
  {
   "cell_type": "code",
   "execution_count": 292,
   "id": "3e890d9e",
   "metadata": {},
   "outputs": [
    {
     "data": {
      "text/plain": [
       "KNeighborsClassifier()"
      ]
     },
     "execution_count": 292,
     "metadata": {},
     "output_type": "execute_result"
    }
   ],
   "source": [
    "neigh = KNeighborsClassifier()\n",
    "neigh.fit(X_train, y_train)"
   ]
  },
  {
   "cell_type": "markdown",
   "id": "9d09abff",
   "metadata": {},
   "source": [
    "## Part E"
   ]
  },
  {
   "cell_type": "code",
   "execution_count": 295,
   "id": "c4a754e5",
   "metadata": {},
   "outputs": [
    {
     "name": "stdout",
     "output_type": "stream",
     "text": [
      "50\r"
     ]
    }
   ],
   "source": [
    "train_predictions = []\n",
    "test_predictions = []\n",
    "\n",
    "for i in [_ for _ in range(1, 51)]:\n",
    "    print(i, end = '\\r')\n",
    "    neigh = KNeighborsClassifier(i)\n",
    "    neigh.fit(X_train, y_train)\n",
    "    \n",
    "    y_test_predictions = neigh.predict(X_test)\n",
    "    y_train_predictions = neigh.predict(X_train)\n",
    "    \n",
    "    accuracy_test = overall_accuracy(y_test, y_test_predictions)\n",
    "    accuracy_train = overall_accuracy(y_train, y_train_predictions)\n",
    "    \n",
    "    train_predictions.append(accuracy_train)\n",
    "    test_predictions.append(accuracy_test)"
   ]
  },
  {
   "cell_type": "markdown",
   "id": "b75bc7a4",
   "metadata": {},
   "source": [
    "## Part F"
   ]
  },
  {
   "cell_type": "code",
   "execution_count": 305,
   "id": "301bcea0",
   "metadata": {},
   "outputs": [
    {
     "data": {
      "image/png": "[encoded data removed]",
      "text/plain": [
       "<Figure size 576x432 with 1 Axes>"
      ]
     },
     "metadata": {
      "needs_background": "light"
     },
     "output_type": "display_data"
    }
   ],
   "source": [
    "error_train = [1 - i for i in train_predictions]\n",
    "error_test = [1 - i for i in test_predictions]\n",
    "\n",
    "plt.figure(figsize=(8,6))\n",
    "plt.plot(error_train, label = 'train')\n",
    "plt.plot(error_test, label = 'test')\n",
    "plt.xlabel(\"K\")\n",
    "plt.ylabel(\"Error\")\n",
    "plt.title(\"Error per K value\")\n",
    "plt.legend()\n",
    "plt.show()"
   ]
  },
  {
   "cell_type": "code",
   "execution_count": 306,
   "id": "2b10541d",
   "metadata": {},
   "outputs": [
    {
     "data": {
      "text/plain": [
       "1"
      ]
     },
     "execution_count": 306,
     "metadata": {},
     "output_type": "execute_result"
    }
   ],
   "source": [
    "np.array(error_test).argmin() + 1 # Best k value"
   ]
  },
  {
   "cell_type": "code",
   "execution_count": 307,
   "id": "f7028ca4",
   "metadata": {},
   "outputs": [
    {
     "data": {
      "text/plain": [
       "0.8431372549019608"
      ]
     },
     "execution_count": 307,
     "metadata": {},
     "output_type": "execute_result"
    }
   ],
   "source": [
    "neigh = KNeighborsClassifier(1)\n",
    "neigh.fit(X_train, y_train)\n",
    "pred = neigh.predict(X_test)\n",
    "overall_accuracy(pred, y_test)"
   ]
  },
  {
   "cell_type": "markdown",
   "id": "c340b763",
   "metadata": {},
   "source": [
    "It appears that this model slightly overfits, since the error rate of the training data is significantly better than that of the test data."
   ]
  },
  {
   "cell_type": "code",
   "execution_count": null,
   "id": "4fe013b9",
   "metadata": {},
   "outputs": [],
   "source": []
  }
 ],
 "metadata": {
  "kernelspec": {
   "display_name": "Python 3 (ipykernel)",
   "language": "python",
   "name": "python3"
  },
  "language_info": {
   "codemirror_mode": {
    "name": "ipython",
    "version": 3
   },
   "file_extension": ".py",
   "mimetype": "text/x-python",
   "name": "python",
   "nbconvert_exporter": "python",
   "pygments_lexer": "ipython3",
   "version": "3.9.7"
  }
 },
 "nbformat": 4,
 "nbformat_minor": 5
}

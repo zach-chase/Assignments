{
 "cells": [
  {
   "cell_type": "markdown",
   "id": "98040ffa",
   "metadata": {},
   "source": [
    "<h1><font size = 8><center>Assignment 3</center></font></h1>\n",
    "<h1><center>Zach Chase</center></h1>"
   ]
  },
  {
   "cell_type": "code",
   "execution_count": 40,
   "id": "88bb74c3",
   "metadata": {},
   "outputs": [],
   "source": [
    "import pandas as pd\n",
    "from sklearn.preprocessing import MinMaxScaler\n",
    "from sklearn.model_selection import train_test_split\n",
    "from sklearn.tree import DecisionTreeClassifier\n",
    "from sklearn.metrics import accuracy_score"
   ]
  },
  {
   "cell_type": "markdown",
   "id": "a010f141",
   "metadata": {},
   "source": [
    "# Question 1\n",
    "## Part A\n",
    "Upload the data into Python and check for missing data. If there is any missing data, drop \n",
    "the cases that have the missing data. "
   ]
  },
  {
   "cell_type": "code",
   "execution_count": 2,
   "id": "dff25d8e",
   "metadata": {},
   "outputs": [],
   "source": [
    "data = pd.read_csv(\"BlueOrRed.csv\")"
   ]
  },
  {
   "cell_type": "code",
   "execution_count": 3,
   "id": "dea5eb00",
   "metadata": {},
   "outputs": [
    {
     "data": {
      "text/html": [
       "<div>\n",
       "<style scoped>\n",
       "    .dataframe tbody tr th:only-of-type {\n",
       "        vertical-align: middle;\n",
       "    }\n",
       "\n",
       "    .dataframe tbody tr th {\n",
       "        vertical-align: top;\n",
       "    }\n",
       "\n",
       "    .dataframe thead th {\n",
       "        text-align: right;\n",
       "    }\n",
       "</style>\n",
       "<table border=\"1\" class=\"dataframe\">\n",
       "  <thead>\n",
       "    <tr style=\"text-align: right;\">\n",
       "      <th></th>\n",
       "      <th>Age</th>\n",
       "      <th>HomeOwner</th>\n",
       "      <th>Female</th>\n",
       "      <th>Married</th>\n",
       "      <th>HouseholdSize</th>\n",
       "      <th>Income</th>\n",
       "      <th>Education</th>\n",
       "      <th>Church</th>\n",
       "      <th>Undecided</th>\n",
       "    </tr>\n",
       "  </thead>\n",
       "  <tbody>\n",
       "    <tr>\n",
       "      <th>0</th>\n",
       "      <td>51</td>\n",
       "      <td>1</td>\n",
       "      <td>1</td>\n",
       "      <td>1</td>\n",
       "      <td>4</td>\n",
       "      <td>171.0</td>\n",
       "      <td>15</td>\n",
       "      <td>0</td>\n",
       "      <td>1</td>\n",
       "    </tr>\n",
       "    <tr>\n",
       "      <th>1</th>\n",
       "      <td>46</td>\n",
       "      <td>1</td>\n",
       "      <td>1</td>\n",
       "      <td>1</td>\n",
       "      <td>6</td>\n",
       "      <td>420.0</td>\n",
       "      <td>15</td>\n",
       "      <td>1</td>\n",
       "      <td>0</td>\n",
       "    </tr>\n",
       "    <tr>\n",
       "      <th>2</th>\n",
       "      <td>55</td>\n",
       "      <td>1</td>\n",
       "      <td>0</td>\n",
       "      <td>1</td>\n",
       "      <td>6</td>\n",
       "      <td>132.0</td>\n",
       "      <td>16</td>\n",
       "      <td>0</td>\n",
       "      <td>1</td>\n",
       "    </tr>\n",
       "    <tr>\n",
       "      <th>3</th>\n",
       "      <td>50</td>\n",
       "      <td>1</td>\n",
       "      <td>0</td>\n",
       "      <td>1</td>\n",
       "      <td>4</td>\n",
       "      <td>18.0</td>\n",
       "      <td>8</td>\n",
       "      <td>0</td>\n",
       "      <td>0</td>\n",
       "    </tr>\n",
       "    <tr>\n",
       "      <th>4</th>\n",
       "      <td>49</td>\n",
       "      <td>1</td>\n",
       "      <td>1</td>\n",
       "      <td>1</td>\n",
       "      <td>2</td>\n",
       "      <td>66.0</td>\n",
       "      <td>15</td>\n",
       "      <td>1</td>\n",
       "      <td>1</td>\n",
       "    </tr>\n",
       "  </tbody>\n",
       "</table>\n",
       "</div>"
      ],
      "text/plain": [
       "   Age  HomeOwner  Female  Married  HouseholdSize  Income  Education  Church  \\\n",
       "0   51          1       1        1              4   171.0         15       0   \n",
       "1   46          1       1        1              6   420.0         15       1   \n",
       "2   55          1       0        1              6   132.0         16       0   \n",
       "3   50          1       0        1              4    18.0          8       0   \n",
       "4   49          1       1        1              2    66.0         15       1   \n",
       "\n",
       "   Undecided  \n",
       "0          1  \n",
       "1          0  \n",
       "2          1  \n",
       "3          0  \n",
       "4          1  "
      ]
     },
     "execution_count": 3,
     "metadata": {},
     "output_type": "execute_result"
    }
   ],
   "source": [
    "data.head()"
   ]
  },
  {
   "cell_type": "code",
   "execution_count": 7,
   "id": "e3f84903",
   "metadata": {},
   "outputs": [
    {
     "data": {
      "text/plain": [
       "Age              0\n",
       "HomeOwner        0\n",
       "Female           0\n",
       "Married          0\n",
       "HouseholdSize    0\n",
       "Income           0\n",
       "Education        0\n",
       "Church           0\n",
       "Undecided        0\n",
       "dtype: int64"
      ]
     },
     "execution_count": 7,
     "metadata": {},
     "output_type": "execute_result"
    }
   ],
   "source": [
    "data.isna().sum()"
   ]
  },
  {
   "cell_type": "markdown",
   "id": "b65c0e90",
   "metadata": {},
   "source": [
    "## Part B\n",
    "Normalize the continuous variables using min-max normalization. You should obtain a \n",
    "new dataset that has your normalized continuous input variables, the categorical input \n",
    "variables (the categorical input variables are fine and don’t need to be normalized), and \n",
    "your output variable."
   ]
  },
  {
   "cell_type": "code",
   "execution_count": 8,
   "id": "909accb8",
   "metadata": {},
   "outputs": [
    {
     "data": {
      "text/plain": [
       "Age                int64\n",
       "HomeOwner          int64\n",
       "Female             int64\n",
       "Married            int64\n",
       "HouseholdSize      int64\n",
       "Income           float64\n",
       "Education          int64\n",
       "Church             int64\n",
       "Undecided          int64\n",
       "dtype: object"
      ]
     },
     "execution_count": 8,
     "metadata": {},
     "output_type": "execute_result"
    }
   ],
   "source": [
    "data.dtypes"
   ]
  },
  {
   "cell_type": "code",
   "execution_count": 23,
   "id": "980c378b",
   "metadata": {},
   "outputs": [
    {
     "data": {
      "text/html": [
       "<div>\n",
       "<style scoped>\n",
       "    .dataframe tbody tr th:only-of-type {\n",
       "        vertical-align: middle;\n",
       "    }\n",
       "\n",
       "    .dataframe tbody tr th {\n",
       "        vertical-align: top;\n",
       "    }\n",
       "\n",
       "    .dataframe thead th {\n",
       "        text-align: right;\n",
       "    }\n",
       "</style>\n",
       "<table border=\"1\" class=\"dataframe\">\n",
       "  <thead>\n",
       "    <tr style=\"text-align: right;\">\n",
       "      <th></th>\n",
       "      <th>Age</th>\n",
       "      <th>HouseholdSize</th>\n",
       "      <th>Income</th>\n",
       "      <th>HomeOwner</th>\n",
       "      <th>Female</th>\n",
       "      <th>Married</th>\n",
       "      <th>Education</th>\n",
       "      <th>Church</th>\n",
       "      <th>Undecided</th>\n",
       "    </tr>\n",
       "  </thead>\n",
       "  <tbody>\n",
       "    <tr>\n",
       "      <th>0</th>\n",
       "      <td>0.523810</td>\n",
       "      <td>0.500000</td>\n",
       "      <td>0.306422</td>\n",
       "      <td>1</td>\n",
       "      <td>1</td>\n",
       "      <td>1</td>\n",
       "      <td>15</td>\n",
       "      <td>0</td>\n",
       "      <td>1</td>\n",
       "    </tr>\n",
       "    <tr>\n",
       "      <th>1</th>\n",
       "      <td>0.444444</td>\n",
       "      <td>0.833333</td>\n",
       "      <td>0.763303</td>\n",
       "      <td>1</td>\n",
       "      <td>1</td>\n",
       "      <td>1</td>\n",
       "      <td>15</td>\n",
       "      <td>1</td>\n",
       "      <td>0</td>\n",
       "    </tr>\n",
       "    <tr>\n",
       "      <th>2</th>\n",
       "      <td>0.587302</td>\n",
       "      <td>0.833333</td>\n",
       "      <td>0.234862</td>\n",
       "      <td>1</td>\n",
       "      <td>0</td>\n",
       "      <td>1</td>\n",
       "      <td>16</td>\n",
       "      <td>0</td>\n",
       "      <td>1</td>\n",
       "    </tr>\n",
       "    <tr>\n",
       "      <th>3</th>\n",
       "      <td>0.507937</td>\n",
       "      <td>0.500000</td>\n",
       "      <td>0.025688</td>\n",
       "      <td>1</td>\n",
       "      <td>0</td>\n",
       "      <td>1</td>\n",
       "      <td>8</td>\n",
       "      <td>0</td>\n",
       "      <td>0</td>\n",
       "    </tr>\n",
       "    <tr>\n",
       "      <th>4</th>\n",
       "      <td>0.492063</td>\n",
       "      <td>0.166667</td>\n",
       "      <td>0.113761</td>\n",
       "      <td>1</td>\n",
       "      <td>1</td>\n",
       "      <td>1</td>\n",
       "      <td>15</td>\n",
       "      <td>1</td>\n",
       "      <td>1</td>\n",
       "    </tr>\n",
       "  </tbody>\n",
       "</table>\n",
       "</div>"
      ],
      "text/plain": [
       "        Age  HouseholdSize    Income  HomeOwner  Female  Married  Education  \\\n",
       "0  0.523810       0.500000  0.306422          1       1        1         15   \n",
       "1  0.444444       0.833333  0.763303          1       1        1         15   \n",
       "2  0.587302       0.833333  0.234862          1       0        1         16   \n",
       "3  0.507937       0.500000  0.025688          1       0        1          8   \n",
       "4  0.492063       0.166667  0.113761          1       1        1         15   \n",
       "\n",
       "   Church  Undecided  \n",
       "0       0          1  \n",
       "1       1          0  \n",
       "2       0          1  \n",
       "3       0          0  \n",
       "4       1          1  "
      ]
     },
     "execution_count": 23,
     "metadata": {},
     "output_type": "execute_result"
    }
   ],
   "source": [
    "scaler = MinMaxScaler()\n",
    "columns_no_transform = ['HomeOwner', 'Female', 'Married', 'Education', 'Church', 'Undecided']\n",
    "data_to_transform = data.drop(columns_no_transform, axis = 1)\n",
    "scaler.fit(data_to_transform)\n",
    "transformed = pd.DataFrame(scaler.transform(data_to_transform), columns = ['Age', 'HouseholdSize', 'Income'])\n",
    "original = data[columns_no_transform]\n",
    "data = pd.concat([transformed, original], axis = 1)\n",
    "data.head()"
   ]
  },
  {
   "cell_type": "markdown",
   "id": "b05bad02",
   "metadata": {},
   "source": [
    "## Part C\n",
    "Why do you think using min-max normalization is a better choice for this situation \n",
    "compared to using other scalers such as the Standard Scaler which standardizes the data?"
   ]
  },
  {
   "cell_type": "code",
   "execution_count": null,
   "id": "d9f5ea3e",
   "metadata": {},
   "outputs": [],
   "source": []
  },
  {
   "cell_type": "markdown",
   "id": "0dcf3274",
   "metadata": {},
   "source": [
    "## Part D\n",
    "Use the train_test_split() function in the sklearn.model_selection module in scikit-learn to \n",
    "split the data into training and test sets. Your test set should be 30% of the entire data. \n",
    "Print the shape of the X_train, y_train, X_test and y_test data. You can use the default \n",
    "value of the random state in splitting the data, which is random_state=42. "
   ]
  },
  {
   "cell_type": "code",
   "execution_count": 30,
   "id": "da280c30",
   "metadata": {},
   "outputs": [
    {
     "name": "stdout",
     "output_type": "stream",
     "text": [
      "(7000, 8)\n",
      "(7000,)\n",
      "(3000, 8)\n",
      "(3000,)\n"
     ]
    }
   ],
   "source": [
    "X = data.drop(['Undecided'], axis = 1)\n",
    "y = data['Undecided']\n",
    "X_train, X_test, y_train, y_test = train_test_split(X, y, test_size=.3, random_state=42)\n",
    "\n",
    "print(X_train.shape)\n",
    "print(y_train.shape)\n",
    "print(X_test.shape)\n",
    "print(y_test.shape)"
   ]
  },
  {
   "cell_type": "markdown",
   "id": "5b759aa1",
   "metadata": {},
   "source": [
    "## Part E\n",
    "Construct a decision tree and fit the tree into the data. Then use your decision tree model \n",
    "to make predictions on the training set as well as on the test set. Assign your results to \n",
    "y_train_pred and y_test_pred respectively. Print out the first 100 predictions for each of \n",
    "the  y_train_pred and y_test_pred. "
   ]
  },
  {
   "cell_type": "code",
   "execution_count": 38,
   "id": "25eeb870",
   "metadata": {},
   "outputs": [
    {
     "name": "stdout",
     "output_type": "stream",
     "text": [
      "y train predictions: \n",
      " [0 0 0 0 1 0 0 0 0 1 0 1 0 1 1 0 0 0 0 0 0 0 0 1 1 1 0 1 1 0 0 0 0 1 1 1 0\n",
      " 1 1 0 1 0 0 0 0 0 1 1 0 1 1 0 1 0 1 1 0 0 1 0 0 0 0 1 0 0 0 0 0 1 0 0 0 0\n",
      " 0 1 0 1 0 0 1 0 1 0 0 0 1 0 0 0 0 1 1 1 0 1 0 0 0 1]\n",
      "y test predictions: \n",
      " [0 1 1 1 1 1 1 1 1 0 0 1 0 0 0 0 1 0 1 0 1 0 0 0 1 1 1 0 1 1 1 0 1 0 0 0 0\n",
      " 0 0 0 0 0 0 1 0 0 0 0 1 0 1 0 1 1 1 1 1 0 0 1 0 0 1 1 1 1 0 0 1 1 0 0 0 0\n",
      " 0 0 0 0 1 0 1 1 0 0 1 0 1 0 1 1 0 0 0 0 0 0 0 1 1 0]\n"
     ]
    }
   ],
   "source": [
    "dt = DecisionTreeClassifier()\n",
    "dt.fit(X_train, y_train)\n",
    "y_train_pred = dt.predict(X_train)\n",
    "y_test_pred = dt.predict(X_test)\n",
    "\n",
    "print('y train predictions: \\n', y_train_pred[:100])\n",
    "print('y test predictions: \\n', y_test_pred[:100])"
   ]
  },
  {
   "cell_type": "markdown",
   "id": "e731c9ce",
   "metadata": {},
   "source": [
    "## Part F\n",
    "Find the overall accuracy of the tree model on the training set and on the test set. Use the \n",
    "accuracy_score() function in the sklearn.metrics module. Does the tree overfit the model? \n",
    "Why or why not?  "
   ]
  },
  {
   "cell_type": "code",
   "execution_count": 41,
   "id": "8505513a",
   "metadata": {},
   "outputs": [
    {
     "data": {
      "text/plain": [
       "1.0"
      ]
     },
     "execution_count": 41,
     "metadata": {},
     "output_type": "execute_result"
    }
   ],
   "source": [
    "accuracy_score(y_train_pred, y_train)"
   ]
  },
  {
   "cell_type": "code",
   "execution_count": 42,
   "id": "69c27c1a",
   "metadata": {},
   "outputs": [
    {
     "data": {
      "text/plain": [
       "0.968"
      ]
     },
     "execution_count": 42,
     "metadata": {},
     "output_type": "execute_result"
    }
   ],
   "source": [
    "accuracy_score(y_test_pred, y_test)"
   ]
  },
  {
   "cell_type": "markdown",
   "id": "aadce62a",
   "metadata": {},
   "source": [
    "## Part G\n",
    "Also, use the .score() method of the tree estimator to find the overall accuracy on the \n",
    "training set and test set. "
   ]
  },
  {
   "cell_type": "code",
   "execution_count": 43,
   "id": "bdfab341",
   "metadata": {},
   "outputs": [
    {
     "ename": "TypeError",
     "evalue": "score() missing 2 required positional arguments: 'X' and 'y'",
     "output_type": "error",
     "traceback": [
      "\u001b[0;31m---------------------------------------------------------------------------\u001b[0m",
      "\u001b[0;31mTypeError\u001b[0m                                 Traceback (most recent call last)",
      "\u001b[0;32m/var/folders/hh/0cgy4n956v3cxdlwkj7hn7zm0000gn/T/ipykernel_41982/60254268.py\u001b[0m in \u001b[0;36m<cell line: 1>\u001b[0;34m()\u001b[0m\n\u001b[0;32m----> 1\u001b[0;31m \u001b[0mdt\u001b[0m\u001b[0;34m.\u001b[0m\u001b[0mscore\u001b[0m\u001b[0;34m(\u001b[0m\u001b[0;34m)\u001b[0m\u001b[0;34m\u001b[0m\u001b[0;34m\u001b[0m\u001b[0m\n\u001b[0m",
      "\u001b[0;31mTypeError\u001b[0m: score() missing 2 required positional arguments: 'X' and 'y'"
     ]
    }
   ],
   "source": [
    "dt.score()"
   ]
  },
  {
   "cell_type": "code",
   "execution_count": null,
   "id": "3d4fc4fa",
   "metadata": {},
   "outputs": [],
   "source": []
  }
 ],
 "metadata": {
  "kernelspec": {
   "display_name": "Python 3 (ipykernel)",
   "language": "python",
   "name": "python3"
  },
  "language_info": {
   "codemirror_mode": {
    "name": "ipython",
    "version": 3
   },
   "file_extension": ".py",
   "mimetype": "text/x-python",
   "name": "python",
   "nbconvert_exporter": "python",
   "pygments_lexer": "ipython3",
   "version": "3.9.7"
  }
 },
 "nbformat": 4,
 "nbformat_minor": 5
}

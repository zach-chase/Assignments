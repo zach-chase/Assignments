{
 "cells": [
  {
   "cell_type": "markdown",
   "id": "a26ecc66",
   "metadata": {},
   "source": [
    "<h1><center><font size = 9>Assignment 4</font></center></h1>\n",
    "<h1><center><font size = 5>Zach Chase</font></center></h1>"
   ]
  },
  {
   "cell_type": "code",
   "execution_count": 1,
   "id": "a23649cb",
   "metadata": {},
   "outputs": [],
   "source": [
    "import pandas as pd"
   ]
  },
  {
   "cell_type": "code",
   "execution_count": null,
   "id": "ce359b4a",
   "metadata": {},
   "outputs": [],
   "source": []
  },
  {
   "cell_type": "code",
   "execution_count": null,
   "id": "a451a4ce",
   "metadata": {},
   "outputs": [],
   "source": []
  },
  {
   "cell_type": "markdown",
   "id": "35c1cdfd",
   "metadata": {},
   "source": [
    "# Question 1\n",
    "## Part a\n",
    "Read the data provided on canvas into Python. Print the first 5 rows of each dataset to inspect the nature of data"
   ]
  },
  {
   "cell_type": "code",
   "execution_count": 3,
   "id": "3136193e",
   "metadata": {},
   "outputs": [],
   "source": [
    "delivery_train = pd.read_csv(\"delivery_time_train_data.csv\")\n",
    "delivery_test = pd.read_csv(\"delivery_time_test_data.csv\")\n",
    "student_train = pd.read_csv(\"student_train_data.csv\")\n",
    "student_test = pd.read_csv(\"student_test_data.csv\")"
   ]
  },
  {
   "cell_type": "code",
   "execution_count": 11,
   "id": "e09d347b",
   "metadata": {},
   "outputs": [
    {
     "name": "stdout",
     "output_type": "stream",
     "text": [
      "   Miles  Deliveries  Time\n",
      "0    100           4   9.3\n",
      "1     50           3   4.8\n",
      "2    100           4   8.9\n",
      "3    100           2   6.5\n",
      "4     50           2   4.2\n",
      "Miles           int64\n",
      "Deliveries      int64\n",
      "Time          float64\n",
      "dtype: object\n",
      "            Miles  Deliveries        Time\n",
      "count  199.000000  199.000000  199.000000\n",
      "mean    70.075377    3.472362    7.166834\n",
      "std     20.153937    1.601133    1.840785\n",
      "min     40.000000    1.000000    2.800000\n",
      "25%     50.000000    2.000000    5.900000\n",
      "50%     75.000000    3.000000    7.100000\n",
      "75%     87.500000    5.000000    8.600000\n",
      "max    100.000000    6.000000   12.200000\n"
     ]
    }
   ],
   "source": [
    "print(delivery_train.head())\n",
    "print(delivery_train.dtypes)\n",
    "print(delivery_train.describe())"
   ]
  },
  {
   "cell_type": "code",
   "execution_count": 12,
   "id": "16d6dfa2",
   "metadata": {},
   "outputs": [
    {
     "name": "stdout",
     "output_type": "stream",
     "text": [
      "   Miles  Deliveries  Time\n",
      "0     50           3   4.6\n",
      "1     65           2   5.5\n",
      "2     80           1   6.3\n",
      "3     70           1   6.2\n",
      "4     70           5   8.5\n",
      "Miles           int64\n",
      "Deliveries      int64\n",
      "Time          float64\n",
      "dtype: object\n",
      "            Miles  Deliveries        Time\n",
      "count  101.000000  101.000000  101.000000\n",
      "mean    71.980198    3.514851    7.514851\n",
      "std     18.358638    1.682937    2.100161\n",
      "min     40.000000    1.000000    3.100000\n",
      "25%     60.000000    2.000000    5.800000\n",
      "50%     70.000000    3.000000    7.600000\n",
      "75%     90.000000    5.000000    8.900000\n",
      "max    100.000000    6.000000   12.300000\n"
     ]
    }
   ],
   "source": [
    "print(delivery_test.head())\n",
    "print(delivery_test.dtypes)\n",
    "print(delivery_test.describe())"
   ]
  },
  {
   "cell_type": "code",
   "execution_count": 13,
   "id": "231273b7",
   "metadata": {},
   "outputs": [
    {
     "name": "stdout",
     "output_type": "stream",
     "text": [
      "    GPA  Age  Dropped\n",
      "0  3.78   21        0\n",
      "1  2.38   27        0\n",
      "2  3.05   21        1\n",
      "3  2.19   28        1\n",
      "4  3.22   23        0\n",
      "GPA        float64\n",
      "Age          int64\n",
      "Dropped      int64\n",
      "dtype: object\n",
      "              GPA         Age     Dropped\n",
      "count  400.000000  400.000000  400.000000\n",
      "mean     2.850200   24.855000    0.287500\n",
      "std      0.434538    3.135051    0.453163\n",
      "min      2.010000   20.000000    0.000000\n",
      "25%      2.557500   22.000000    0.000000\n",
      "50%      2.820000   25.000000    0.000000\n",
      "75%      3.140000   28.000000    1.000000\n",
      "max      4.000000   30.000000    1.000000\n"
     ]
    }
   ],
   "source": [
    "print(student_train.head())\n",
    "print(student_train.dtypes)\n",
    "print(student_train.describe())"
   ]
  },
  {
   "cell_type": "code",
   "execution_count": 14,
   "id": "a33a16d3",
   "metadata": {},
   "outputs": [
    {
     "name": "stdout",
     "output_type": "stream",
     "text": [
      "    GPA  Age  Dropped\n",
      "0  2.49   26        1\n",
      "1  2.67   29        0\n",
      "2  2.86   29        1\n",
      "3  2.21   26        0\n",
      "4  2.91   20        1\n",
      "GPA        float64\n",
      "Age          int64\n",
      "Dropped      int64\n",
      "dtype: object\n",
      "              GPA         Age     Dropped\n",
      "count  100.000000  100.000000  100.000000\n",
      "mean     2.865200   25.490000    0.230000\n",
      "std      0.467031    3.223948    0.422953\n",
      "min      2.010000   20.000000    0.000000\n",
      "25%      2.597500   23.000000    0.000000\n",
      "50%      2.825000   26.000000    0.000000\n",
      "75%      3.102500   28.000000    0.000000\n",
      "max      3.910000   30.000000    1.000000\n"
     ]
    }
   ],
   "source": [
    "print(student_test.head())\n",
    "print(student_test.dtypes)\n",
    "print(student_test.describe())"
   ]
  },
  {
   "cell_type": "markdown",
   "id": "4d83d88f",
   "metadata": {},
   "source": [
    "## Part B\n",
    "Split the data into training and test. Print the shape of input and output data for the training and test sets."
   ]
  },
  {
   "cell_type": "code",
   "execution_count": 15,
   "id": "0e1eb73a",
   "metadata": {},
   "outputs": [],
   "source": [
    "X_delivery_train = delivery_train[['Miles', 'Deliveries']]\n",
    "y_delivery_train = delivery_train[['Time']]\n",
    "\n",
    "X_delivery_test = delivery_test[['Miles', 'Deliveries']]\n",
    "y_delivery_test = delivery_test[['Time']]\n",
    "\n",
    "X_student_train = student_train[['GPA', 'Age']]\n",
    "y_student_train = student_train[['Dropped']]\n",
    "\n",
    "X_student_test = student_test[['GPA', 'Age']]\n",
    "y_student_test = student_test[['Dropped']]"
   ]
  },
  {
   "cell_type": "code",
   "execution_count": 19,
   "id": "767ad7b6",
   "metadata": {},
   "outputs": [
    {
     "name": "stdout",
     "output_type": "stream",
     "text": [
      "(199, 2)\n",
      "(199, 1)\n",
      "(101, 2)\n",
      "(101, 1)\n",
      "(400, 2)\n",
      "(400, 1)\n",
      "(100, 2)\n",
      "(100, 1)\n"
     ]
    }
   ],
   "source": [
    "print(X_delivery_train.shape)\n",
    "print(y_delivery_train.shape)\n",
    "\n",
    "print(X_delivery_test.shape)\n",
    "print(y_delivery_test.shape)\n",
    "\n",
    "print(X_student_train.shape)\n",
    "print(y_student_train.shape)\n",
    "\n",
    "print(X_student_test.shape)\n",
    "print(y_student_test.shape)"
   ]
  },
  {
   "cell_type": "markdown",
   "id": "e98f7cc7",
   "metadata": {},
   "source": [
    "## Part C\n",
    "You would use the delivery data for regression: that is, miles (“Miles”) and number of \n",
    "deliveries (“Deliveries”) would be use an input to predict the total time it takes for a \n",
    "delivery truck to deliver Amazon packages. You would write a k-nearest neighbor \n",
    "algorithm function that learns from the training set and predicts the output or y values of \n",
    "given test instances. The input that the function takes include:\n",
    " X_train: Pandas DataFrame or 2D NumPy array \n",
    "  y_train: Pandas Series or 1D NumPy array \n",
    " X_test: Pandas DataFrame or 2D NumPy array\n",
    " K: the number of nearest neighbors. The default value should be k=5 if no k value \n",
    "is passed during function call. \n",
    "Use the following pseudo code to implement the algorithm (also see class notes on ideas \n",
    "for writing knn from scratch to see the details of each step in the body of the code). Here \n",
    "is the pseudo code:\n",
    "Call the knn_predict() function and pass the X_delivery_train, y_delivery_train and \n",
    "X_delivery_test to compute the predicted output values for the X_delivery_test set. You \n",
    "can reference the results using a variable, y_delivery_test_pred. "
   ]
  },
  {
   "cell_type": "code",
   "execution_count": null,
   "id": "32038685",
   "metadata": {},
   "outputs": [],
   "source": []
  },
  {
   "cell_type": "markdown",
   "id": "3aca8904",
   "metadata": {},
   "source": [
    "## Part D\n",
    "Write a function that computes the mean squared error to measure the performance \n",
    "accuracy of your knn algorithm. The input that goes into the function is the actual output \n",
    "values(y) and the predicted output values (y_pred). The mean squared error (mse) is \n",
    "calculated as follows:\n",
    "mse = 1\n",
    "𝑛∑𝑛\n",
    "1 = 1(𝑦―𝑦𝑝𝑟𝑒𝑑)2 where n = length of y or length of y_pred\n",
    "You can name the function mse. Then call the function to compute the mse for the test set \n",
    "for the delivery data. That is, use mse(y_delivery_test, y_delivery_test_pred). "
   ]
  },
  {
   "cell_type": "code",
   "execution_count": null,
   "id": "a9c055f6",
   "metadata": {},
   "outputs": [],
   "source": []
  },
  {
   "cell_type": "markdown",
   "id": "1086e9f1",
   "metadata": {},
   "source": [
    "## Part E\n",
    "Does your algorithm overfit the data? To answer this question, you need to compute the \n",
    "accuracy or mse of the algorithm on the training set, and compare with the accuracy or \n",
    "mse you got for the test set. You will need to start with making predictions for the \n",
    "training set. Note that you will need to pass the training set into the X_test parameter of \n",
    "the knn_predict() function, in addition to the other arguments of the function. When you \n",
    "get the predicted values for the training set, use the mse() function to get the training mse. \n"
   ]
  },
  {
   "cell_type": "code",
   "execution_count": null,
   "id": "1fd267b8",
   "metadata": {},
   "outputs": [],
   "source": []
  },
  {
   "cell_type": "markdown",
   "id": "a282c2db",
   "metadata": {},
   "source": [
    "## Part F\n",
    "Now, tune the hyperparameter, k, of your algorithm. Specify a grid of hyperparameter \n",
    "values from k=1 to k=50. Use a for-loop, then inside the for-loop body, use the \n",
    "knn_predict() function as well as the mse() function to compute the mse values for the \n",
    "training set and test set for different values of k in the hyperparameter grid. Plot the \n",
    "training and test error rates of the model versus the grid of hyperparameter values."
   ]
  },
  {
   "cell_type": "code",
   "execution_count": null,
   "id": "2ff02f6d",
   "metadata": {},
   "outputs": [],
   "source": []
  },
  {
   "cell_type": "markdown",
   "id": "30e33570",
   "metadata": {},
   "source": [
    "## Part G\n",
    "Now, construct and fit a k-nearest neighbor model using the  KNeighborsRegressor() \n",
    "estimator in sklearn.neighbors module. Use the mean_square_error() function inside the \n",
    "sklearn.metrics module to compute the mse of the model on the test set. Is this similar to \n",
    "the mse value you got from the algorithm function you wrote from scratch? "
   ]
  },
  {
   "cell_type": "code",
   "execution_count": null,
   "id": "3033b208",
   "metadata": {},
   "outputs": [],
   "source": []
  },
  {
   "cell_type": "markdown",
   "id": "a21e0a8f",
   "metadata": {},
   "source": [
    "## Part H\n",
    "Using the Pipeline constructor inside the sklearn.pipeline module, scale the \n",
    "X_delivery_train with the StandardScaler(), and also construct the \n",
    "KNeighborsRegressor() inside the Pipeline(). Then the call the fit() method on the \n",
    "pipeline object to fit the model into the delivery training data. Transform the \n",
    "X_delivery_test data using StandardScaler() and use the mean_squared_error () \n",
    "function inside the sklearn.metrics module to compute the mse of the model on the test \n",
    "set. Is this mse similar to the mse you got when you used the unscaled input data in (g) \n",
    "above?"
   ]
  },
  {
   "cell_type": "code",
   "execution_count": null,
   "id": "1a46df3a",
   "metadata": {},
   "outputs": [],
   "source": []
  },
  {
   "cell_type": "markdown",
   "id": "21efa392",
   "metadata": {},
   "source": [
    "## Part I\n",
    "Use the scaled X_delivery_train and X_delivery_test data and the \n",
    "RandomForestRegressor constructor inside the sklearn.ensemble module to construct/fit a \n",
    "random forest model, the compute the mse for this model. Is this mse similar to the one \n",
    "you got in question (h) above? "
   ]
  },
  {
   "cell_type": "code",
   "execution_count": null,
   "id": "812c90d7",
   "metadata": {},
   "outputs": [],
   "source": []
  },
  {
   "cell_type": "markdown",
   "id": "f25ab8e4",
   "metadata": {},
   "source": [
    "# Question 2\n",
    "## Part A\n",
    "You would use the student data for classification: that is, GPA and Age would be used as \n",
    "input to predict wither a student will drop out of school (Dropped=1) or not drop \n",
    "(Dropped=0). You will write a k-nearest neighbor algorithm function that learns from the \n",
    "training set and classifies given test instances to class 0 or class 1. The input that the \n",
    "function takes include:\n",
    " X_train: Pandas DataFrame or 2D NumPy array \n",
    "  y_train: Pandas Series or 1D NumPy array \n",
    " X_test: Pandas DataFrame or 2D NumPy array\n",
    " K: the number of nearest neighbors. The default value should be k=5 if no k value \n",
    "is passed during function call. \n",
    "Use the following pseudo code to implement the algorithm (also see class notes on ideas \n",
    "for writing knn from scratch to see the details of each step in the body of the code). Here \n",
    "is the pseudo code:\n",
    "\n",
    "Scale the X_student_train and X_student_test data, and pass these scaled data sets in \n",
    "addition to y_student_train data into the knn_predict() function call to compute the \n",
    "predicted output values for the X_student_test set. You can reference the results using a \n",
    "variable, y_student_test_pred. "
   ]
  },
  {
   "cell_type": "code",
   "execution_count": null,
   "id": "990f8a86",
   "metadata": {},
   "outputs": [],
   "source": []
  },
  {
   "cell_type": "markdown",
   "id": "6922baa4",
   "metadata": {},
   "source": [
    "## Part B\n",
    "Define a function called overall_accuracy, that computes the overall accuracy of your \n",
    "algorithm. You can let your function compare the actual values (y) and the predicted or \n",
    "classified y values (y_pred), for example: overall accuracy could be computed using \n",
    "mean(y==y_pred)"
   ]
  },
  {
   "cell_type": "code",
   "execution_count": null,
   "id": "ca13e03c",
   "metadata": {},
   "outputs": [],
   "source": []
  },
  {
   "cell_type": "markdown",
   "id": "428ec715",
   "metadata": {},
   "source": [
    "## Part C\n",
    "Use GridSearch in scikit learn to tune the parameter of the k-nearest neighbor \n",
    "classifier, then use that optimal parameter to compute the accuracy of the knn estimator \n",
    "on the test set. Is this accuracy score similar to that obtained using your knn algorithm \n",
    "from scratch?"
   ]
  },
  {
   "cell_type": "code",
   "execution_count": null,
   "id": "5d34be9a",
   "metadata": {},
   "outputs": [],
   "source": []
  },
  {
   "cell_type": "markdown",
   "id": "8d7eaea5",
   "metadata": {},
   "source": [
    "## Part D\n",
    "Also build another model using a random forest classifier and compute the accuracy \n",
    "score on the test set. Which of these models is the better, the model is question 2c or this \n",
    "model in question 2d? Why or why not?"
   ]
  },
  {
   "cell_type": "code",
   "execution_count": null,
   "id": "34792249",
   "metadata": {},
   "outputs": [],
   "source": []
  },
  {
   "cell_type": "markdown",
   "id": "817eda24",
   "metadata": {},
   "source": [
    "# Question 3\n",
    "Find your own dataset suitable for classification or regression with at least three input variables \n",
    "and 200 or more cases: Depending on the target variable of interest, you would build a k-nearest \n",
    "neighbor classifier or regressor using the appropriate sklearn estimator. Find some interesting \n",
    "unique dataset that is not popularly used in the internet. \n",
    "Address the following and include code/output snippets from b) to f). Include the response under \n",
    "each sub question. \n",
    "a) State your research question \n",
    "b) Data pre-processing (to the extent deemed necessary: remember the knn algorithm \n",
    "depends on distances, so you need to rescale, normalize or standardize your input values \n",
    "to make sure no variable influences the predictions due to it scale). \n",
    "c) Data splitting \n",
    "d) Model construction \n",
    "e) Hyperparameter turning (choose whatever approach your like)\n",
    "f) Use the best or optimal parameter values to build a model, then compute the accuracy \n",
    "score for your estimator. \n",
    "Discuss about overfitting for the model "
   ]
  },
  {
   "cell_type": "code",
   "execution_count": null,
   "id": "932e463d",
   "metadata": {},
   "outputs": [],
   "source": []
  }
 ],
 "metadata": {
  "kernelspec": {
   "display_name": "Python 3 (ipykernel)",
   "language": "python",
   "name": "python3"
  },
  "language_info": {
   "codemirror_mode": {
    "name": "ipython",
    "version": 3
   },
   "file_extension": ".py",
   "mimetype": "text/x-python",
   "name": "python",
   "nbconvert_exporter": "python",
   "pygments_lexer": "ipython3",
   "version": "3.9.7"
  }
 },
 "nbformat": 4,
 "nbformat_minor": 5
}

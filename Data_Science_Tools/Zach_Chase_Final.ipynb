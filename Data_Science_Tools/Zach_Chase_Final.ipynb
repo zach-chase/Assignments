{
  "nbformat": 4,
  "nbformat_minor": 0,
  "metadata": {
    "colab": {
      "name": "tools_final.ipynb",
      "provenance": []
    },
    "kernelspec": {
      "name": "python3",
      "display_name": "Python 3"
    },
    "language_info": {
      "name": "python"
    }
  },
  "cells": [
    {
      "cell_type": "code",
      "execution_count": null,
      "metadata": {
        "id": "1xSR6u930XzP"
      },
      "outputs": [],
      "source": [
        "import numpy as np\n",
        "import pandas as pd\n",
        "from prettytable import PrettyTable\n",
        "from pandas_profiling import ProfileReport\n",
        "from imblearn.over_sampling import RandomOverSampler, SMOTE\n",
        "from sklearn.model_selection import train_test_split\n",
        "from sklearn.metrics import confusion_matrix, accuracy_score, precision_score, f1_score\n",
        "from sklearn.linear_model import LogisticRegression\n",
        "from sklearn.svm import SVC\n",
        "from sklearn.tree import DecisionTreeClassifier\n",
        "from sklearn.ensemble import RandomForestClassifier\n",
        "from sklearn.neighbors import KNeighborsClassifier\n",
        "from sklearn.model_selection import GridSearchCV\n",
        "import seaborn as sns\n",
        "from pandas_profiling import ProfileReport\n",
        "from matplotlib import pyplot as plt"
      ]
    },
    {
      "cell_type": "code",
      "source": [
        "%matplotlib inline"
      ],
      "metadata": {
        "id": "fmWnrSQSADHd"
      },
      "execution_count": null,
      "outputs": []
    },
    {
      "cell_type": "code",
      "source": [
        "df = pd.read_csv(\"crash.csv\", index_col='Unnamed: 0')\n",
        "df.head()"
      ],
      "metadata": {
        "colab": {
          "base_uri": "https://localhost:8080/",
          "height": 206
        },
        "id": "bG27t-sX0cI8",
        "outputId": "7be3c373-4c5a-45d3-c242-27cd560d7873"
      },
      "execution_count": null,
      "outputs": [
        {
          "output_type": "execute_result",
          "data": {
            "text/plain": [
              "   dvcat   weight   dead  airbag seatbelt  frontal sex  ageOFocc  yearacc  \\\n",
              "0    55+   53.342   dead  airbag   belted        1   f        48     2002   \n",
              "1  25-39  154.960  alive    none     none        1   m        26     2001   \n",
              "2    55+   38.994  alive    none     none        1   f        51     2002   \n",
              "3  25-39  168.568  alive  airbag   belted        1   m        27     1998   \n",
              "4  10-24   27.751  alive  airbag   belted        0   m        26     2002   \n",
              "\n",
              "   yearVeh     abcat occRole  deploy    caseid  \n",
              "0   1997.0    deploy  driver       1  45:150:1  \n",
              "1   1968.0   unavail  driver       0   76:40:1  \n",
              "2   1994.0   unavail  driver       0  11:184:1  \n",
              "3   1996.0    deploy    pass       1    9:17:1  \n",
              "4   1997.0  nodeploy    pass       0     2:2:2  "
            ],
            "text/html": [
              "\n",
              "  <div id=\"df-8fc51a2c-26fb-4327-96d6-35b2506f43c2\">\n",
              "    <div class=\"colab-df-container\">\n",
              "      <div>\n",
              "<style scoped>\n",
              "    .dataframe tbody tr th:only-of-type {\n",
              "        vertical-align: middle;\n",
              "    }\n",
              "\n",
              "    .dataframe tbody tr th {\n",
              "        vertical-align: top;\n",
              "    }\n",
              "\n",
              "    .dataframe thead th {\n",
              "        text-align: right;\n",
              "    }\n",
              "</style>\n",
              "<table border=\"1\" class=\"dataframe\">\n",
              "  <thead>\n",
              "    <tr style=\"text-align: right;\">\n",
              "      <th></th>\n",
              "      <th>dvcat</th>\n",
              "      <th>weight</th>\n",
              "      <th>dead</th>\n",
              "      <th>airbag</th>\n",
              "      <th>seatbelt</th>\n",
              "      <th>frontal</th>\n",
              "      <th>sex</th>\n",
              "      <th>ageOFocc</th>\n",
              "      <th>yearacc</th>\n",
              "      <th>yearVeh</th>\n",
              "      <th>abcat</th>\n",
              "      <th>occRole</th>\n",
              "      <th>deploy</th>\n",
              "      <th>caseid</th>\n",
              "    </tr>\n",
              "  </thead>\n",
              "  <tbody>\n",
              "    <tr>\n",
              "      <th>0</th>\n",
              "      <td>55+</td>\n",
              "      <td>53.342</td>\n",
              "      <td>dead</td>\n",
              "      <td>airbag</td>\n",
              "      <td>belted</td>\n",
              "      <td>1</td>\n",
              "      <td>f</td>\n",
              "      <td>48</td>\n",
              "      <td>2002</td>\n",
              "      <td>1997.0</td>\n",
              "      <td>deploy</td>\n",
              "      <td>driver</td>\n",
              "      <td>1</td>\n",
              "      <td>45:150:1</td>\n",
              "    </tr>\n",
              "    <tr>\n",
              "      <th>1</th>\n",
              "      <td>25-39</td>\n",
              "      <td>154.960</td>\n",
              "      <td>alive</td>\n",
              "      <td>none</td>\n",
              "      <td>none</td>\n",
              "      <td>1</td>\n",
              "      <td>m</td>\n",
              "      <td>26</td>\n",
              "      <td>2001</td>\n",
              "      <td>1968.0</td>\n",
              "      <td>unavail</td>\n",
              "      <td>driver</td>\n",
              "      <td>0</td>\n",
              "      <td>76:40:1</td>\n",
              "    </tr>\n",
              "    <tr>\n",
              "      <th>2</th>\n",
              "      <td>55+</td>\n",
              "      <td>38.994</td>\n",
              "      <td>alive</td>\n",
              "      <td>none</td>\n",
              "      <td>none</td>\n",
              "      <td>1</td>\n",
              "      <td>f</td>\n",
              "      <td>51</td>\n",
              "      <td>2002</td>\n",
              "      <td>1994.0</td>\n",
              "      <td>unavail</td>\n",
              "      <td>driver</td>\n",
              "      <td>0</td>\n",
              "      <td>11:184:1</td>\n",
              "    </tr>\n",
              "    <tr>\n",
              "      <th>3</th>\n",
              "      <td>25-39</td>\n",
              "      <td>168.568</td>\n",
              "      <td>alive</td>\n",
              "      <td>airbag</td>\n",
              "      <td>belted</td>\n",
              "      <td>1</td>\n",
              "      <td>m</td>\n",
              "      <td>27</td>\n",
              "      <td>1998</td>\n",
              "      <td>1996.0</td>\n",
              "      <td>deploy</td>\n",
              "      <td>pass</td>\n",
              "      <td>1</td>\n",
              "      <td>9:17:1</td>\n",
              "    </tr>\n",
              "    <tr>\n",
              "      <th>4</th>\n",
              "      <td>10-24</td>\n",
              "      <td>27.751</td>\n",
              "      <td>alive</td>\n",
              "      <td>airbag</td>\n",
              "      <td>belted</td>\n",
              "      <td>0</td>\n",
              "      <td>m</td>\n",
              "      <td>26</td>\n",
              "      <td>2002</td>\n",
              "      <td>1997.0</td>\n",
              "      <td>nodeploy</td>\n",
              "      <td>pass</td>\n",
              "      <td>0</td>\n",
              "      <td>2:2:2</td>\n",
              "    </tr>\n",
              "  </tbody>\n",
              "</table>\n",
              "</div>\n",
              "      <button class=\"colab-df-convert\" onclick=\"convertToInteractive('df-8fc51a2c-26fb-4327-96d6-35b2506f43c2')\"\n",
              "              title=\"Convert this dataframe to an interactive table.\"\n",
              "              style=\"display:none;\">\n",
              "        \n",
              "  <svg xmlns=\"http://www.w3.org/2000/svg\" height=\"24px\"viewBox=\"0 0 24 24\"\n",
              "       width=\"24px\">\n",
              "    <path d=\"M0 0h24v24H0V0z\" fill=\"none\"/>\n",
              "    <path d=\"M18.56 5.44l.94 2.06.94-2.06 2.06-.94-2.06-.94-.94-2.06-.94 2.06-2.06.94zm-11 1L8.5 8.5l.94-2.06 2.06-.94-2.06-.94L8.5 2.5l-.94 2.06-2.06.94zm10 10l.94 2.06.94-2.06 2.06-.94-2.06-.94-.94-2.06-.94 2.06-2.06.94z\"/><path d=\"M17.41 7.96l-1.37-1.37c-.4-.4-.92-.59-1.43-.59-.52 0-1.04.2-1.43.59L10.3 9.45l-7.72 7.72c-.78.78-.78 2.05 0 2.83L4 21.41c.39.39.9.59 1.41.59.51 0 1.02-.2 1.41-.59l7.78-7.78 2.81-2.81c.8-.78.8-2.07 0-2.86zM5.41 20L4 18.59l7.72-7.72 1.47 1.35L5.41 20z\"/>\n",
              "  </svg>\n",
              "      </button>\n",
              "      \n",
              "  <style>\n",
              "    .colab-df-container {\n",
              "      display:flex;\n",
              "      flex-wrap:wrap;\n",
              "      gap: 12px;\n",
              "    }\n",
              "\n",
              "    .colab-df-convert {\n",
              "      background-color: #E8F0FE;\n",
              "      border: none;\n",
              "      border-radius: 50%;\n",
              "      cursor: pointer;\n",
              "      display: none;\n",
              "      fill: #1967D2;\n",
              "      height: 32px;\n",
              "      padding: 0 0 0 0;\n",
              "      width: 32px;\n",
              "    }\n",
              "\n",
              "    .colab-df-convert:hover {\n",
              "      background-color: #E2EBFA;\n",
              "      box-shadow: 0px 1px 2px rgba(60, 64, 67, 0.3), 0px 1px 3px 1px rgba(60, 64, 67, 0.15);\n",
              "      fill: #174EA6;\n",
              "    }\n",
              "\n",
              "    [theme=dark] .colab-df-convert {\n",
              "      background-color: #3B4455;\n",
              "      fill: #D2E3FC;\n",
              "    }\n",
              "\n",
              "    [theme=dark] .colab-df-convert:hover {\n",
              "      background-color: #434B5C;\n",
              "      box-shadow: 0px 1px 3px 1px rgba(0, 0, 0, 0.15);\n",
              "      filter: drop-shadow(0px 1px 2px rgba(0, 0, 0, 0.3));\n",
              "      fill: #FFFFFF;\n",
              "    }\n",
              "  </style>\n",
              "\n",
              "      <script>\n",
              "        const buttonEl =\n",
              "          document.querySelector('#df-8fc51a2c-26fb-4327-96d6-35b2506f43c2 button.colab-df-convert');\n",
              "        buttonEl.style.display =\n",
              "          google.colab.kernel.accessAllowed ? 'block' : 'none';\n",
              "\n",
              "        async function convertToInteractive(key) {\n",
              "          const element = document.querySelector('#df-8fc51a2c-26fb-4327-96d6-35b2506f43c2');\n",
              "          const dataTable =\n",
              "            await google.colab.kernel.invokeFunction('convertToInteractive',\n",
              "                                                     [key], {});\n",
              "          if (!dataTable) return;\n",
              "\n",
              "          const docLinkHtml = 'Like what you see? Visit the ' +\n",
              "            '<a target=\"_blank\" href=https://colab.research.google.com/notebooks/data_table.ipynb>data table notebook</a>'\n",
              "            + ' to learn more about interactive tables.';\n",
              "          element.innerHTML = '';\n",
              "          dataTable['output_type'] = 'display_data';\n",
              "          await google.colab.output.renderOutput(dataTable, element);\n",
              "          const docLink = document.createElement('div');\n",
              "          docLink.innerHTML = docLinkHtml;\n",
              "          element.appendChild(docLink);\n",
              "        }\n",
              "      </script>\n",
              "    </div>\n",
              "  </div>\n",
              "  "
            ]
          },
          "metadata": {},
          "execution_count": 99
        }
      ]
    },
    {
      "cell_type": "code",
      "source": [
        "sns.countplot(x=\"sex\", hue=\"dead\", data=df)\n",
        "plt.show()"
      ],
      "metadata": {
        "colab": {
          "base_uri": "https://localhost:8080/",
          "height": 283
        },
        "id": "PI-Yue9yHBKy",
        "outputId": "a70025b6-9979-4b54-be7d-eed735d12a80"
      },
      "execution_count": null,
      "outputs": [
        {
          "output_type": "display_data",
          "data": {
            "text/plain": [
              "<Figure size 432x288 with 1 Axes>"
            ],
            "image/png": "[encoded data removed]"
          },
          "metadata": {
            "needs_background": "light"
          }
        }
      ]
    },
    {
      "cell_type": "code",
      "source": [
        "sns.countplot(x=\"seatbelt\", hue=\"dead\", data=df)\n",
        "plt.show()"
      ],
      "metadata": {
        "colab": {
          "base_uri": "https://localhost:8080/",
          "height": 283
        },
        "id": "G7TaNAIsJCU4",
        "outputId": "cff03421-6653-4cd4-c04e-958adad293bc"
      },
      "execution_count": null,
      "outputs": [
        {
          "output_type": "display_data",
          "data": {
            "text/plain": [
              "<Figure size 432x288 with 1 Axes>"
            ],
            "image/png": "[encoded data removed]"
          },
          "metadata": {
            "needs_background": "light"
          }
        }
      ]
    },
    {
      "cell_type": "code",
      "source": [
        "sns.boxplot(x = 'dead', y = 'yearacc', data = df)\n",
        "plt.show()"
      ],
      "metadata": {
        "colab": {
          "base_uri": "https://localhost:8080/",
          "height": 283
        },
        "id": "D1JehydXFG3r",
        "outputId": "0c837c8a-60c8-4111-b37e-ca9b3ce4c8d1"
      },
      "execution_count": null,
      "outputs": [
        {
          "output_type": "display_data",
          "data": {
            "text/plain": [
              "<Figure size 432x288 with 1 Axes>"
            ],
            "image/png": "[encoded data removed]"
          },
          "metadata": {
            "needs_background": "light"
          }
        }
      ]
    },
    {
      "cell_type": "code",
      "source": [
        "sns.boxplot(x = 'dead', y = 'ageOFocc', data = df)\n",
        "plt.show()"
      ],
      "metadata": {
        "colab": {
          "base_uri": "https://localhost:8080/",
          "height": 284
        },
        "id": "A8qx-WDTEZAZ",
        "outputId": "51664f48-f8e4-4804-e2e6-6f4c21004c91"
      },
      "execution_count": null,
      "outputs": [
        {
          "output_type": "display_data",
          "data": {
            "text/plain": [
              "<Figure size 432x288 with 1 Axes>"
            ],
            "image/png": "[encoded data removed]"
          },
          "metadata": {
            "needs_background": "light"
          }
        }
      ]
    },
    {
      "cell_type": "code",
      "source": [
        "df = df.dropna() # Drop 1 row"
      ],
      "metadata": {
        "id": "rqyiINIL0qF4"
      },
      "execution_count": null,
      "outputs": []
    },
    {
      "cell_type": "code",
      "source": [
        "df['dead'].replace({'dead':1,'alive':0},inplace=True)\n",
        "df['seatbelt'].replace({'belted':1,'none':0},inplace=True)\n",
        "df['sex'].replace({'f':1,'m':0},inplace=True)\n",
        "df['occRole'].replace({'driver':1,'pass':0},inplace=True)\n",
        "\n",
        "df = df.drop(['weight', 'caseid', 'airbag', 'deploy'],axis = 1)\n",
        "df.columns = ['speed', 'dead', 'seatbelt', 'frontal', 'sex', 'ageOcc', 'yearAcc', 'yearVeh', 'airbag', 'occRole']\n",
        "df = pd.get_dummies(df, columns = ['speed', 'airbag'])\n",
        "\n",
        "df.head()"
      ],
      "metadata": {
        "colab": {
          "base_uri": "https://localhost:8080/",
          "height": 288
        },
        "id": "bdWXpaRt0t9M",
        "outputId": "9ef8c027-3ef2-4f2a-ba48-a8de872b6977"
      },
      "execution_count": null,
      "outputs": [
        {
          "output_type": "execute_result",
          "data": {
            "text/plain": [
              "   dead  seatbelt  frontal  sex  ageOcc  yearAcc  yearVeh  occRole  \\\n",
              "0     1         1        1    1      48     2002   1997.0        1   \n",
              "1     0         0        1    0      26     2001   1968.0        1   \n",
              "2     0         0        1    1      51     2002   1994.0        1   \n",
              "3     0         1        1    0      27     1998   1996.0        0   \n",
              "4     0         1        0    0      26     2002   1997.0        0   \n",
              "\n",
              "   speed_1-9km/h  speed_10-24  speed_25-39  speed_40-54  speed_55+  \\\n",
              "0              0            0            0            0          1   \n",
              "1              0            0            1            0          0   \n",
              "2              0            0            0            0          1   \n",
              "3              0            0            1            0          0   \n",
              "4              0            1            0            0          0   \n",
              "\n",
              "   airbag_deploy  airbag_nodeploy  airbag_unavail  \n",
              "0              1                0               0  \n",
              "1              0                0               1  \n",
              "2              0                0               1  \n",
              "3              1                0               0  \n",
              "4              0                1               0  "
            ],
            "text/html": [
              "\n",
              "  <div id=\"df-9fb6df4e-d808-4dd2-ac1f-b251231de405\">\n",
              "    <div class=\"colab-df-container\">\n",
              "      <div>\n",
              "<style scoped>\n",
              "    .dataframe tbody tr th:only-of-type {\n",
              "        vertical-align: middle;\n",
              "    }\n",
              "\n",
              "    .dataframe tbody tr th {\n",
              "        vertical-align: top;\n",
              "    }\n",
              "\n",
              "    .dataframe thead th {\n",
              "        text-align: right;\n",
              "    }\n",
              "</style>\n",
              "<table border=\"1\" class=\"dataframe\">\n",
              "  <thead>\n",
              "    <tr style=\"text-align: right;\">\n",
              "      <th></th>\n",
              "      <th>dead</th>\n",
              "      <th>seatbelt</th>\n",
              "      <th>frontal</th>\n",
              "      <th>sex</th>\n",
              "      <th>ageOcc</th>\n",
              "      <th>yearAcc</th>\n",
              "      <th>yearVeh</th>\n",
              "      <th>occRole</th>\n",
              "      <th>speed_1-9km/h</th>\n",
              "      <th>speed_10-24</th>\n",
              "      <th>speed_25-39</th>\n",
              "      <th>speed_40-54</th>\n",
              "      <th>speed_55+</th>\n",
              "      <th>airbag_deploy</th>\n",
              "      <th>airbag_nodeploy</th>\n",
              "      <th>airbag_unavail</th>\n",
              "    </tr>\n",
              "  </thead>\n",
              "  <tbody>\n",
              "    <tr>\n",
              "      <th>0</th>\n",
              "      <td>1</td>\n",
              "      <td>1</td>\n",
              "      <td>1</td>\n",
              "      <td>1</td>\n",
              "      <td>48</td>\n",
              "      <td>2002</td>\n",
              "      <td>1997.0</td>\n",
              "      <td>1</td>\n",
              "      <td>0</td>\n",
              "      <td>0</td>\n",
              "      <td>0</td>\n",
              "      <td>0</td>\n",
              "      <td>1</td>\n",
              "      <td>1</td>\n",
              "      <td>0</td>\n",
              "      <td>0</td>\n",
              "    </tr>\n",
              "    <tr>\n",
              "      <th>1</th>\n",
              "      <td>0</td>\n",
              "      <td>0</td>\n",
              "      <td>1</td>\n",
              "      <td>0</td>\n",
              "      <td>26</td>\n",
              "      <td>2001</td>\n",
              "      <td>1968.0</td>\n",
              "      <td>1</td>\n",
              "      <td>0</td>\n",
              "      <td>0</td>\n",
              "      <td>1</td>\n",
              "      <td>0</td>\n",
              "      <td>0</td>\n",
              "      <td>0</td>\n",
              "      <td>0</td>\n",
              "      <td>1</td>\n",
              "    </tr>\n",
              "    <tr>\n",
              "      <th>2</th>\n",
              "      <td>0</td>\n",
              "      <td>0</td>\n",
              "      <td>1</td>\n",
              "      <td>1</td>\n",
              "      <td>51</td>\n",
              "      <td>2002</td>\n",
              "      <td>1994.0</td>\n",
              "      <td>1</td>\n",
              "      <td>0</td>\n",
              "      <td>0</td>\n",
              "      <td>0</td>\n",
              "      <td>0</td>\n",
              "      <td>1</td>\n",
              "      <td>0</td>\n",
              "      <td>0</td>\n",
              "      <td>1</td>\n",
              "    </tr>\n",
              "    <tr>\n",
              "      <th>3</th>\n",
              "      <td>0</td>\n",
              "      <td>1</td>\n",
              "      <td>1</td>\n",
              "      <td>0</td>\n",
              "      <td>27</td>\n",
              "      <td>1998</td>\n",
              "      <td>1996.0</td>\n",
              "      <td>0</td>\n",
              "      <td>0</td>\n",
              "      <td>0</td>\n",
              "      <td>1</td>\n",
              "      <td>0</td>\n",
              "      <td>0</td>\n",
              "      <td>1</td>\n",
              "      <td>0</td>\n",
              "      <td>0</td>\n",
              "    </tr>\n",
              "    <tr>\n",
              "      <th>4</th>\n",
              "      <td>0</td>\n",
              "      <td>1</td>\n",
              "      <td>0</td>\n",
              "      <td>0</td>\n",
              "      <td>26</td>\n",
              "      <td>2002</td>\n",
              "      <td>1997.0</td>\n",
              "      <td>0</td>\n",
              "      <td>0</td>\n",
              "      <td>1</td>\n",
              "      <td>0</td>\n",
              "      <td>0</td>\n",
              "      <td>0</td>\n",
              "      <td>0</td>\n",
              "      <td>1</td>\n",
              "      <td>0</td>\n",
              "    </tr>\n",
              "  </tbody>\n",
              "</table>\n",
              "</div>\n",
              "      <button class=\"colab-df-convert\" onclick=\"convertToInteractive('df-9fb6df4e-d808-4dd2-ac1f-b251231de405')\"\n",
              "              title=\"Convert this dataframe to an interactive table.\"\n",
              "              style=\"display:none;\">\n",
              "        \n",
              "  <svg xmlns=\"http://www.w3.org/2000/svg\" height=\"24px\"viewBox=\"0 0 24 24\"\n",
              "       width=\"24px\">\n",
              "    <path d=\"M0 0h24v24H0V0z\" fill=\"none\"/>\n",
              "    <path d=\"M18.56 5.44l.94 2.06.94-2.06 2.06-.94-2.06-.94-.94-2.06-.94 2.06-2.06.94zm-11 1L8.5 8.5l.94-2.06 2.06-.94-2.06-.94L8.5 2.5l-.94 2.06-2.06.94zm10 10l.94 2.06.94-2.06 2.06-.94-2.06-.94-.94-2.06-.94 2.06-2.06.94z\"/><path d=\"M17.41 7.96l-1.37-1.37c-.4-.4-.92-.59-1.43-.59-.52 0-1.04.2-1.43.59L10.3 9.45l-7.72 7.72c-.78.78-.78 2.05 0 2.83L4 21.41c.39.39.9.59 1.41.59.51 0 1.02-.2 1.41-.59l7.78-7.78 2.81-2.81c.8-.78.8-2.07 0-2.86zM5.41 20L4 18.59l7.72-7.72 1.47 1.35L5.41 20z\"/>\n",
              "  </svg>\n",
              "      </button>\n",
              "      \n",
              "  <style>\n",
              "    .colab-df-container {\n",
              "      display:flex;\n",
              "      flex-wrap:wrap;\n",
              "      gap: 12px;\n",
              "    }\n",
              "\n",
              "    .colab-df-convert {\n",
              "      background-color: #E8F0FE;\n",
              "      border: none;\n",
              "      border-radius: 50%;\n",
              "      cursor: pointer;\n",
              "      display: none;\n",
              "      fill: #1967D2;\n",
              "      height: 32px;\n",
              "      padding: 0 0 0 0;\n",
              "      width: 32px;\n",
              "    }\n",
              "\n",
              "    .colab-df-convert:hover {\n",
              "      background-color: #E2EBFA;\n",
              "      box-shadow: 0px 1px 2px rgba(60, 64, 67, 0.3), 0px 1px 3px 1px rgba(60, 64, 67, 0.15);\n",
              "      fill: #174EA6;\n",
              "    }\n",
              "\n",
              "    [theme=dark] .colab-df-convert {\n",
              "      background-color: #3B4455;\n",
              "      fill: #D2E3FC;\n",
              "    }\n",
              "\n",
              "    [theme=dark] .colab-df-convert:hover {\n",
              "      background-color: #434B5C;\n",
              "      box-shadow: 0px 1px 3px 1px rgba(0, 0, 0, 0.15);\n",
              "      filter: drop-shadow(0px 1px 2px rgba(0, 0, 0, 0.3));\n",
              "      fill: #FFFFFF;\n",
              "    }\n",
              "  </style>\n",
              "\n",
              "      <script>\n",
              "        const buttonEl =\n",
              "          document.querySelector('#df-9fb6df4e-d808-4dd2-ac1f-b251231de405 button.colab-df-convert');\n",
              "        buttonEl.style.display =\n",
              "          google.colab.kernel.accessAllowed ? 'block' : 'none';\n",
              "\n",
              "        async function convertToInteractive(key) {\n",
              "          const element = document.querySelector('#df-9fb6df4e-d808-4dd2-ac1f-b251231de405');\n",
              "          const dataTable =\n",
              "            await google.colab.kernel.invokeFunction('convertToInteractive',\n",
              "                                                     [key], {});\n",
              "          if (!dataTable) return;\n",
              "\n",
              "          const docLinkHtml = 'Like what you see? Visit the ' +\n",
              "            '<a target=\"_blank\" href=https://colab.research.google.com/notebooks/data_table.ipynb>data table notebook</a>'\n",
              "            + ' to learn more about interactive tables.';\n",
              "          element.innerHTML = '';\n",
              "          dataTable['output_type'] = 'display_data';\n",
              "          await google.colab.output.renderOutput(dataTable, element);\n",
              "          const docLink = document.createElement('div');\n",
              "          docLink.innerHTML = docLinkHtml;\n",
              "          element.appendChild(docLink);\n",
              "        }\n",
              "      </script>\n",
              "    </div>\n",
              "  </div>\n",
              "  "
            ]
          },
          "metadata": {},
          "execution_count": 101
        }
      ]
    },
    {
      "cell_type": "code",
      "source": [
        "df.dtypes"
      ],
      "metadata": {
        "colab": {
          "base_uri": "https://localhost:8080/"
        },
        "id": "zHK98mZY0vwV",
        "outputId": "abfa26de-041d-4f8e-b380-800c955f2bd7"
      },
      "execution_count": null,
      "outputs": [
        {
          "output_type": "execute_result",
          "data": {
            "text/plain": [
              "dead                 int64\n",
              "seatbelt             int64\n",
              "frontal              int64\n",
              "sex                  int64\n",
              "ageOcc               int64\n",
              "yearAcc              int64\n",
              "yearVeh            float64\n",
              "occRole              int64\n",
              "speed_1-9km/h        uint8\n",
              "speed_10-24          uint8\n",
              "speed_25-39          uint8\n",
              "speed_40-54          uint8\n",
              "speed_55+            uint8\n",
              "airbag_deploy        uint8\n",
              "airbag_nodeploy      uint8\n",
              "airbag_unavail       uint8\n",
              "dtype: object"
            ]
          },
          "metadata": {},
          "execution_count": 102
        }
      ]
    },
    {
      "cell_type": "code",
      "source": [
        "df['dead'] = df['dead'].astype('category')\n",
        "df['seatbelt'] = df['seatbelt'].astype('category')\n",
        "df['sex'] = df['sex'].astype('category')\n",
        "df['occRole'] = df['occRole'].astype('category')\n",
        "df['frontal'] = df['frontal'].astype('category')\n",
        "df['yearVeh'] = df['yearVeh'].astype('category')\n",
        "df['yearAcc'] = df['yearAcc'].astype('category')\n",
        "df[list(df.columns[8:])] = df[df.columns[8:]].astype('category')"
      ],
      "metadata": {
        "id": "PqL_sfqp0xxp"
      },
      "execution_count": null,
      "outputs": []
    },
    {
      "cell_type": "code",
      "source": [
        "df.dtypes"
      ],
      "metadata": {
        "colab": {
          "base_uri": "https://localhost:8080/"
        },
        "id": "nxHNuCDz0z_r",
        "outputId": "84bc0402-dcd1-4a46-ba9f-85457b14b438"
      },
      "execution_count": null,
      "outputs": [
        {
          "output_type": "execute_result",
          "data": {
            "text/plain": [
              "dead               category\n",
              "seatbelt           category\n",
              "frontal            category\n",
              "sex                category\n",
              "ageOcc                int64\n",
              "yearAcc            category\n",
              "yearVeh            category\n",
              "occRole            category\n",
              "speed_1-9km/h      category\n",
              "speed_10-24        category\n",
              "speed_25-39        category\n",
              "speed_40-54        category\n",
              "speed_55+          category\n",
              "airbag_deploy      category\n",
              "airbag_nodeploy    category\n",
              "airbag_unavail     category\n",
              "dtype: object"
            ]
          },
          "metadata": {},
          "execution_count": 104
        }
      ]
    },
    {
      "cell_type": "code",
      "source": [
        "df.head()"
      ],
      "metadata": {
        "colab": {
          "base_uri": "https://localhost:8080/",
          "height": 288
        },
        "id": "yfRzps1602Q2",
        "outputId": "b5cd1a03-2df4-4c37-83af-0e1b46cdbb1e"
      },
      "execution_count": null,
      "outputs": [
        {
          "output_type": "execute_result",
          "data": {
            "text/plain": [
              "  dead seatbelt frontal sex  ageOcc yearAcc yearVeh occRole speed_1-9km/h  \\\n",
              "0    1        1       1   1      48    2002  1997.0       1             0   \n",
              "1    0        0       1   0      26    2001  1968.0       1             0   \n",
              "2    0        0       1   1      51    2002  1994.0       1             0   \n",
              "3    0        1       1   0      27    1998  1996.0       0             0   \n",
              "4    0        1       0   0      26    2002  1997.0       0             0   \n",
              "\n",
              "  speed_10-24 speed_25-39 speed_40-54 speed_55+ airbag_deploy airbag_nodeploy  \\\n",
              "0           0           0           0         1             1               0   \n",
              "1           0           1           0         0             0               0   \n",
              "2           0           0           0         1             0               0   \n",
              "3           0           1           0         0             1               0   \n",
              "4           1           0           0         0             0               1   \n",
              "\n",
              "  airbag_unavail  \n",
              "0              0  \n",
              "1              1  \n",
              "2              1  \n",
              "3              0  \n",
              "4              0  "
            ],
            "text/html": [
              "\n",
              "  <div id=\"df-f9c53d29-edc0-4d9d-880a-2088b0ebe894\">\n",
              "    <div class=\"colab-df-container\">\n",
              "      <div>\n",
              "<style scoped>\n",
              "    .dataframe tbody tr th:only-of-type {\n",
              "        vertical-align: middle;\n",
              "    }\n",
              "\n",
              "    .dataframe tbody tr th {\n",
              "        vertical-align: top;\n",
              "    }\n",
              "\n",
              "    .dataframe thead th {\n",
              "        text-align: right;\n",
              "    }\n",
              "</style>\n",
              "<table border=\"1\" class=\"dataframe\">\n",
              "  <thead>\n",
              "    <tr style=\"text-align: right;\">\n",
              "      <th></th>\n",
              "      <th>dead</th>\n",
              "      <th>seatbelt</th>\n",
              "      <th>frontal</th>\n",
              "      <th>sex</th>\n",
              "      <th>ageOcc</th>\n",
              "      <th>yearAcc</th>\n",
              "      <th>yearVeh</th>\n",
              "      <th>occRole</th>\n",
              "      <th>speed_1-9km/h</th>\n",
              "      <th>speed_10-24</th>\n",
              "      <th>speed_25-39</th>\n",
              "      <th>speed_40-54</th>\n",
              "      <th>speed_55+</th>\n",
              "      <th>airbag_deploy</th>\n",
              "      <th>airbag_nodeploy</th>\n",
              "      <th>airbag_unavail</th>\n",
              "    </tr>\n",
              "  </thead>\n",
              "  <tbody>\n",
              "    <tr>\n",
              "      <th>0</th>\n",
              "      <td>1</td>\n",
              "      <td>1</td>\n",
              "      <td>1</td>\n",
              "      <td>1</td>\n",
              "      <td>48</td>\n",
              "      <td>2002</td>\n",
              "      <td>1997.0</td>\n",
              "      <td>1</td>\n",
              "      <td>0</td>\n",
              "      <td>0</td>\n",
              "      <td>0</td>\n",
              "      <td>0</td>\n",
              "      <td>1</td>\n",
              "      <td>1</td>\n",
              "      <td>0</td>\n",
              "      <td>0</td>\n",
              "    </tr>\n",
              "    <tr>\n",
              "      <th>1</th>\n",
              "      <td>0</td>\n",
              "      <td>0</td>\n",
              "      <td>1</td>\n",
              "      <td>0</td>\n",
              "      <td>26</td>\n",
              "      <td>2001</td>\n",
              "      <td>1968.0</td>\n",
              "      <td>1</td>\n",
              "      <td>0</td>\n",
              "      <td>0</td>\n",
              "      <td>1</td>\n",
              "      <td>0</td>\n",
              "      <td>0</td>\n",
              "      <td>0</td>\n",
              "      <td>0</td>\n",
              "      <td>1</td>\n",
              "    </tr>\n",
              "    <tr>\n",
              "      <th>2</th>\n",
              "      <td>0</td>\n",
              "      <td>0</td>\n",
              "      <td>1</td>\n",
              "      <td>1</td>\n",
              "      <td>51</td>\n",
              "      <td>2002</td>\n",
              "      <td>1994.0</td>\n",
              "      <td>1</td>\n",
              "      <td>0</td>\n",
              "      <td>0</td>\n",
              "      <td>0</td>\n",
              "      <td>0</td>\n",
              "      <td>1</td>\n",
              "      <td>0</td>\n",
              "      <td>0</td>\n",
              "      <td>1</td>\n",
              "    </tr>\n",
              "    <tr>\n",
              "      <th>3</th>\n",
              "      <td>0</td>\n",
              "      <td>1</td>\n",
              "      <td>1</td>\n",
              "      <td>0</td>\n",
              "      <td>27</td>\n",
              "      <td>1998</td>\n",
              "      <td>1996.0</td>\n",
              "      <td>0</td>\n",
              "      <td>0</td>\n",
              "      <td>0</td>\n",
              "      <td>1</td>\n",
              "      <td>0</td>\n",
              "      <td>0</td>\n",
              "      <td>1</td>\n",
              "      <td>0</td>\n",
              "      <td>0</td>\n",
              "    </tr>\n",
              "    <tr>\n",
              "      <th>4</th>\n",
              "      <td>0</td>\n",
              "      <td>1</td>\n",
              "      <td>0</td>\n",
              "      <td>0</td>\n",
              "      <td>26</td>\n",
              "      <td>2002</td>\n",
              "      <td>1997.0</td>\n",
              "      <td>0</td>\n",
              "      <td>0</td>\n",
              "      <td>1</td>\n",
              "      <td>0</td>\n",
              "      <td>0</td>\n",
              "      <td>0</td>\n",
              "      <td>0</td>\n",
              "      <td>1</td>\n",
              "      <td>0</td>\n",
              "    </tr>\n",
              "  </tbody>\n",
              "</table>\n",
              "</div>\n",
              "      <button class=\"colab-df-convert\" onclick=\"convertToInteractive('df-f9c53d29-edc0-4d9d-880a-2088b0ebe894')\"\n",
              "              title=\"Convert this dataframe to an interactive table.\"\n",
              "              style=\"display:none;\">\n",
              "        \n",
              "  <svg xmlns=\"http://www.w3.org/2000/svg\" height=\"24px\"viewBox=\"0 0 24 24\"\n",
              "       width=\"24px\">\n",
              "    <path d=\"M0 0h24v24H0V0z\" fill=\"none\"/>\n",
              "    <path d=\"M18.56 5.44l.94 2.06.94-2.06 2.06-.94-2.06-.94-.94-2.06-.94 2.06-2.06.94zm-11 1L8.5 8.5l.94-2.06 2.06-.94-2.06-.94L8.5 2.5l-.94 2.06-2.06.94zm10 10l.94 2.06.94-2.06 2.06-.94-2.06-.94-.94-2.06-.94 2.06-2.06.94z\"/><path d=\"M17.41 7.96l-1.37-1.37c-.4-.4-.92-.59-1.43-.59-.52 0-1.04.2-1.43.59L10.3 9.45l-7.72 7.72c-.78.78-.78 2.05 0 2.83L4 21.41c.39.39.9.59 1.41.59.51 0 1.02-.2 1.41-.59l7.78-7.78 2.81-2.81c.8-.78.8-2.07 0-2.86zM5.41 20L4 18.59l7.72-7.72 1.47 1.35L5.41 20z\"/>\n",
              "  </svg>\n",
              "      </button>\n",
              "      \n",
              "  <style>\n",
              "    .colab-df-container {\n",
              "      display:flex;\n",
              "      flex-wrap:wrap;\n",
              "      gap: 12px;\n",
              "    }\n",
              "\n",
              "    .colab-df-convert {\n",
              "      background-color: #E8F0FE;\n",
              "      border: none;\n",
              "      border-radius: 50%;\n",
              "      cursor: pointer;\n",
              "      display: none;\n",
              "      fill: #1967D2;\n",
              "      height: 32px;\n",
              "      padding: 0 0 0 0;\n",
              "      width: 32px;\n",
              "    }\n",
              "\n",
              "    .colab-df-convert:hover {\n",
              "      background-color: #E2EBFA;\n",
              "      box-shadow: 0px 1px 2px rgba(60, 64, 67, 0.3), 0px 1px 3px 1px rgba(60, 64, 67, 0.15);\n",
              "      fill: #174EA6;\n",
              "    }\n",
              "\n",
              "    [theme=dark] .colab-df-convert {\n",
              "      background-color: #3B4455;\n",
              "      fill: #D2E3FC;\n",
              "    }\n",
              "\n",
              "    [theme=dark] .colab-df-convert:hover {\n",
              "      background-color: #434B5C;\n",
              "      box-shadow: 0px 1px 3px 1px rgba(0, 0, 0, 0.15);\n",
              "      filter: drop-shadow(0px 1px 2px rgba(0, 0, 0, 0.3));\n",
              "      fill: #FFFFFF;\n",
              "    }\n",
              "  </style>\n",
              "\n",
              "      <script>\n",
              "        const buttonEl =\n",
              "          document.querySelector('#df-f9c53d29-edc0-4d9d-880a-2088b0ebe894 button.colab-df-convert');\n",
              "        buttonEl.style.display =\n",
              "          google.colab.kernel.accessAllowed ? 'block' : 'none';\n",
              "\n",
              "        async function convertToInteractive(key) {\n",
              "          const element = document.querySelector('#df-f9c53d29-edc0-4d9d-880a-2088b0ebe894');\n",
              "          const dataTable =\n",
              "            await google.colab.kernel.invokeFunction('convertToInteractive',\n",
              "                                                     [key], {});\n",
              "          if (!dataTable) return;\n",
              "\n",
              "          const docLinkHtml = 'Like what you see? Visit the ' +\n",
              "            '<a target=\"_blank\" href=https://colab.research.google.com/notebooks/data_table.ipynb>data table notebook</a>'\n",
              "            + ' to learn more about interactive tables.';\n",
              "          element.innerHTML = '';\n",
              "          dataTable['output_type'] = 'display_data';\n",
              "          await google.colab.output.renderOutput(dataTable, element);\n",
              "          const docLink = document.createElement('div');\n",
              "          docLink.innerHTML = docLinkHtml;\n",
              "          element.appendChild(docLink);\n",
              "        }\n",
              "      </script>\n",
              "    </div>\n",
              "  </div>\n",
              "  "
            ]
          },
          "metadata": {},
          "execution_count": 105
        }
      ]
    },
    {
      "cell_type": "code",
      "source": [
        "df['dead'].value_counts()"
      ],
      "metadata": {
        "colab": {
          "base_uri": "https://localhost:8080/"
        },
        "id": "dUt7DonqDTn7",
        "outputId": "f67298ba-1830-4a30-c4d5-65e402ae8125"
      },
      "execution_count": null,
      "outputs": [
        {
          "output_type": "execute_result",
          "data": {
            "text/plain": [
              "0    25036\n",
              "1     1180\n",
              "Name: dead, dtype: int64"
            ]
          },
          "metadata": {},
          "execution_count": 107
        }
      ]
    },
    {
      "cell_type": "code",
      "source": [
        "X = df.drop(['dead'], axis = 1)\n",
        "y = df['dead']"
      ],
      "metadata": {
        "id": "WRmbWfBD04hy"
      },
      "execution_count": null,
      "outputs": []
    },
    {
      "cell_type": "code",
      "source": [
        "ro = RandomOverSampler()\n",
        "X_ro, y_ro = ro.fit_resample(X, y)\n",
        "\n",
        "smote = SMOTE(random_state=42)\n",
        "X_smote, y_smote = smote.fit_resample(X, y)\n",
        "\n",
        "y_smote = pd.DataFrame(data = y_smote, columns = ['dead'])\n",
        "smote_df = pd.concat([X_smote, y_smote.reindex(X_smote.index)], axis=1)\n",
        "smote_df = smote_df.dropna()\n",
        "X_smote = smote_df.drop(['dead'], axis = 1)\n",
        "y_smote = smote_df['dead']\n",
        "\n",
        "X_train_ro, X_test_ro, y_train_ro, y_test_ro = train_test_split(X_ro, y_ro, test_size=.33)\n",
        "X_train_smote, X_test_smote, y_train_smote, y_test_smote = train_test_split(X_smote, y_smote, test_size=.33)"
      ],
      "metadata": {
        "id": "eZIBvWLP1Vra",
        "colab": {
          "base_uri": "https://localhost:8080/"
        },
        "outputId": "03c94f33-694a-4aa7-fbea-19dcd1f86150"
      },
      "execution_count": null,
      "outputs": [
        {
          "output_type": "stream",
          "name": "stderr",
          "text": [
            "/usr/local/lib/python3.7/dist-packages/sklearn/utils/validation.py:976: FutureWarning: Arrays of bytes/strings is being converted to decimal numbers if dtype='numeric'. This behavior is deprecated in 0.24 and will be removed in 1.1 (renaming of 0.26). Please convert your data to numeric values explicitly instead.\n",
            "  estimator=estimator,\n"
          ]
        }
      ]
    },
    {
      "cell_type": "code",
      "source": [
        "from imblearn.over_sampling import RandomOverSampler\n",
        "\n",
        "ro = RandomOverSampler()\n",
        "X_ro, y_ro = ro.fit_resample(X, y)\n",
        "\n",
        "X_train_ro, X_test_ro, y_train_ro, y_test_ro = train_test_split(X_ro, y_ro, test_size=.33)"
      ],
      "metadata": {
        "id": "SMYf8r_5b14x"
      },
      "execution_count": null,
      "outputs": []
    },
    {
      "cell_type": "code",
      "source": [
        "new = pd.DataFrame(y_ro, columns = ['dead'])\n",
        "new['dead'].value_counts()"
      ],
      "metadata": {
        "colab": {
          "base_uri": "https://localhost:8080/"
        },
        "id": "mDqO__nScLD9",
        "outputId": "bfbfd440-c2ac-4a2e-95da-575c35f958f6"
      },
      "execution_count": null,
      "outputs": [
        {
          "output_type": "execute_result",
          "data": {
            "text/plain": [
              "1    25036\n",
              "0    25036\n",
              "Name: dead, dtype: int64"
            ]
          },
          "metadata": {},
          "execution_count": 129
        }
      ]
    },
    {
      "cell_type": "code",
      "source": [
        "X_train_ro, X_test_ro, y_train_ro, y_test_ro = train_test_split(X_ro, y_ro, test_size=.33)\n",
        "X_train_smote, X_test_smote, y_train_smote, y_test_smote = train_test_split(X_smote, y_smote, test_size=.33)"
      ],
      "metadata": {
        "id": "031EsX3A2L8g"
      },
      "execution_count": null,
      "outputs": []
    },
    {
      "cell_type": "code",
      "source": [
        "table = PrettyTable()\n",
        "\n",
        "table.field_names = [\"Model\", \"Accuracy\",\"Precision\",\"F1\"]\n",
        "\n",
        "models = [LogisticRegression(), SVC(), DecisionTreeClassifier(), RandomForestClassifier(), KNeighborsClassifier()]\n",
        "\n",
        "for model, params in zip(models, parameters):\n",
        "\n",
        "    print(model, params)\n",
        "    clf = GridSearchCV(model, params)\n",
        "    clf.fit(X_train_ro,y_train_ro)\n",
        "    best_model = clf.best_estimator_\n",
        "    y_hat = best_model.predict(X_test_ro)\n",
        "    model.fit(X_train_ro,y_train_ro)\n",
        "    y_hat = model.predict(X_test_ro)\n",
        "    accuracy = accuracy_score(y_test_ro,y_hat)\n",
        "    prec = precision_score(y_test_ro, y_hat)\n",
        "    f1 = f1_score(y_test_ro,y_hat)\n",
        "\n",
        "    table.add_row([type(model).__name__, format(accuracy, '.2f'),format(prec, '.2f'),format(f1,'.2f')])\n",
        "\n",
        "print(table)"
      ],
      "metadata": {
        "colab": {
          "base_uri": "https://localhost:8080/"
        },
        "id": "RdMPDTJ58B7C",
        "outputId": "d2a3d004-a101-4bc3-f194-612955bea03d"
      },
      "execution_count": null,
      "outputs": [
        {
          "output_type": "stream",
          "name": "stdout",
          "text": [
            "LogisticRegression() {'penalty': ('l2', 'none'), 'solver': ('newton-cg', 'lbfgs')}\n"
          ]
        },
        {
          "output_type": "stream",
          "name": "stderr",
          "text": [
            "/usr/local/lib/python3.7/dist-packages/sklearn/linear_model/_logistic.py:818: ConvergenceWarning: lbfgs failed to converge (status=1):\n",
            "STOP: TOTAL NO. of ITERATIONS REACHED LIMIT.\n",
            "\n",
            "Increase the number of iterations (max_iter) or scale the data as shown in:\n",
            "    https://scikit-learn.org/stable/modules/preprocessing.html\n",
            "Please also refer to the documentation for alternative solver options:\n",
            "    https://scikit-learn.org/stable/modules/linear_model.html#logistic-regression\n",
            "  extra_warning_msg=_LOGISTIC_SOLVER_CONVERGENCE_MSG,\n",
            "/usr/local/lib/python3.7/dist-packages/sklearn/base.py:566: FutureWarning: Arrays of bytes/strings is being converted to decimal numbers if dtype='numeric'. This behavior is deprecated in 0.24 and will be removed in 1.1 (renaming of 0.26). Please convert your data to numeric values explicitly instead.\n",
            "  X = check_array(X, **check_params)\n"
          ]
        },
        {
          "output_type": "stream",
          "name": "stdout",
          "text": [
            "SVC() {'C': [0.1, 1, 2], 'kernel': ('linear', 'poly', 'rbf')}\n",
            "DecisionTreeClassifier() {'criterion': ('gini', 'entropy'), 'max_depth': [3, 5, 10]}\n",
            "RandomForestClassifier() {'n_estimators': [10, 50, 100, 200], 'criterion': ('gini', 'entropy', 'log_loss')}\n",
            "KNeighborsClassifier() {'n_neighbors': [3, 5, 8], 'algorithm': ('auto', 'ball_tree', 'kd_tree')}\n"
          ]
        },
        {
          "output_type": "stream",
          "name": "stderr",
          "text": [
            "/usr/local/lib/python3.7/dist-packages/sklearn/utils/validation.py:976: FutureWarning: Arrays of bytes/strings is being converted to decimal numbers if dtype='numeric'. This behavior is deprecated in 0.24 and will be removed in 1.1 (renaming of 0.26). Please convert your data to numeric values explicitly instead.\n",
            "  estimator=estimator,\n",
            "/usr/local/lib/python3.7/dist-packages/sklearn/base.py:566: FutureWarning: Arrays of bytes/strings is being converted to decimal numbers if dtype='numeric'. This behavior is deprecated in 0.24 and will be removed in 1.1 (renaming of 0.26). Please convert your data to numeric values explicitly instead.\n",
            "  X = check_array(X, **check_params)\n"
          ]
        },
        {
          "output_type": "stream",
          "name": "stdout",
          "text": [
            "+------------------------+----------+-----------+------+\n",
            "|         Model          | Accuracy | Precision |  F1  |\n",
            "+------------------------+----------+-----------+------+\n",
            "|   LogisticRegression   |   0.81   |    0.81   | 0.81 |\n",
            "|          SVC           |   0.58   |    0.65   | 0.45 |\n",
            "| DecisionTreeClassifier |   0.97   |    0.95   | 0.98 |\n",
            "| RandomForestClassifier |   0.98   |    0.97   | 0.98 |\n",
            "|  KNeighborsClassifier  |   0.94   |    0.89   | 0.94 |\n",
            "+------------------------+----------+-----------+------+\n"
          ]
        }
      ]
    },
    {
      "cell_type": "code",
      "source": [
        "table = PrettyTable()\n",
        "\n",
        "table.field_names = [\"Model\", \"Accuracy\",\"Precision\",\"F1\"]\n",
        "\n",
        "models = [LogisticRegression(), SVC(), DecisionTreeClassifier(), RandomForestClassifier(), KNeighborsClassifier()]\n",
        "\n",
        "for model in models:\n",
        "\n",
        "    model.fit(X_train_smote,y_train_smote)\n",
        "    y_hat = model.predict(X_test_smote)\n",
        "    accuracy = accuracy_score(y_test_smote,y_hat)\n",
        "    prec = precision_score(y_test_smote, y_hat)\n",
        "    f1 = f1_score(y_test_smote,y_hat)\n",
        "\n",
        "    table.add_row([type(model).__name__, format(accuracy, '.2f'),format(prec, '.2f'),format(f1,'.2f')])\n",
        "\n",
        "print(table)"
      ],
      "metadata": {
        "id": "qkZBQ4M29Q7r",
        "colab": {
          "base_uri": "https://localhost:8080/"
        },
        "outputId": "bbef4c21-da58-46b4-cafc-31c6d33fe31f"
      },
      "execution_count": null,
      "outputs": [
        {
          "output_type": "stream",
          "name": "stderr",
          "text": [
            "/usr/local/lib/python3.7/dist-packages/sklearn/linear_model/_logistic.py:818: ConvergenceWarning: lbfgs failed to converge (status=1):\n",
            "STOP: TOTAL NO. of ITERATIONS REACHED LIMIT.\n",
            "\n",
            "Increase the number of iterations (max_iter) or scale the data as shown in:\n",
            "    https://scikit-learn.org/stable/modules/preprocessing.html\n",
            "Please also refer to the documentation for alternative solver options:\n",
            "    https://scikit-learn.org/stable/modules/linear_model.html#logistic-regression\n",
            "  extra_warning_msg=_LOGISTIC_SOLVER_CONVERGENCE_MSG,\n",
            "/usr/local/lib/python3.7/dist-packages/sklearn/base.py:566: FutureWarning: Arrays of bytes/strings is being converted to decimal numbers if dtype='numeric'. This behavior is deprecated in 0.24 and will be removed in 1.1 (renaming of 0.26). Please convert your data to numeric values explicitly instead.\n",
            "  X = check_array(X, **check_params)\n",
            "/usr/local/lib/python3.7/dist-packages/sklearn/metrics/_classification.py:1318: UndefinedMetricWarning: Precision is ill-defined and being set to 0.0 due to no predicted samples. Use `zero_division` parameter to control this behavior.\n",
            "  _warn_prf(average, modifier, msg_start, len(result))\n",
            "/usr/local/lib/python3.7/dist-packages/sklearn/utils/validation.py:976: FutureWarning: Arrays of bytes/strings is being converted to decimal numbers if dtype='numeric'. This behavior is deprecated in 0.24 and will be removed in 1.1 (renaming of 0.26). Please convert your data to numeric values explicitly instead.\n",
            "  estimator=estimator,\n",
            "/usr/local/lib/python3.7/dist-packages/sklearn/base.py:566: FutureWarning: Arrays of bytes/strings is being converted to decimal numbers if dtype='numeric'. This behavior is deprecated in 0.24 and will be removed in 1.1 (renaming of 0.26). Please convert your data to numeric values explicitly instead.\n",
            "  X = check_array(X, **check_params)\n"
          ]
        },
        {
          "output_type": "stream",
          "name": "stdout",
          "text": [
            "+------------------------+----------+-----------+------+\n",
            "|         Model          | Accuracy | Precision |  F1  |\n",
            "+------------------------+----------+-----------+------+\n",
            "|   LogisticRegression   |   0.95   |    0.51   | 0.18 |\n",
            "|          SVC           |   0.95   |    0.00   | 0.00 |\n",
            "| DecisionTreeClassifier |   0.93   |    0.29   | 0.31 |\n",
            "| RandomForestClassifier |   0.95   |    0.50   | 0.25 |\n",
            "|  KNeighborsClassifier  |   0.95   |    0.69   | 0.14 |\n",
            "+------------------------+----------+-----------+------+\n"
          ]
        }
      ]
    },
    {
      "cell_type": "code",
      "source": [
        ""
      ],
      "metadata": {
        "id": "31RmZ_VpCWvf"
      },
      "execution_count": null,
      "outputs": []
    }
  ]
}
{
 "cells": [
  {
   "cell_type": "markdown",
   "id": "743c86ae",
   "metadata": {},
   "source": [
    "<h1><font size = 10><center>Assignment 3</center></font></h1>\n",
    "<h1><font size = 6><center>Zach Chase</center></font></h1>"
   ]
  },
  {
   "cell_type": "code",
   "execution_count": 1,
   "id": "c458431a",
   "metadata": {},
   "outputs": [],
   "source": [
    "import pandas as pd\n",
    "import seaborn as sns\n",
    "import numpy as np\n",
    "from matplotlib import pyplot as plt\n",
    "from sklearn.linear_model import LogisticRegression\n",
    "from sklearn import svm\n",
    "from sklearn.linear_model import SGDClassifier\n",
    "from sklearn.metrics import classification_report\n",
    "from sklearn.metrics import confusion_matrix\n",
    "from sklearn.metrics import roc_auc_score\n",
    "from sklearn.pipeline import Pipeline\n",
    "from sklearn.preprocessing import StandardScaler\n",
    "from sklearn.model_selection import GridSearchCV\n",
    "from sklearn.metrics import accuracy_score\n",
    "from sklearn.model_selection import train_test_split"
   ]
  },
  {
   "cell_type": "markdown",
   "id": "9ea5a37a",
   "metadata": {},
   "source": [
    "# Part 1: Data Exploration. \n",
    "Load the titanic dataset fromSeabornby using the load_dataset(‘titanic’) method. Document the columns that aremissing data both numerically (via a count) and visually (via an sns heatmap). Document which values are categorical. Explore the data and answer thefollowing questions: Did more women or men die on the Titanic? Whichpassenger class was more likely to survive? What does the distribution of farelook like? What does the distribution of non-null age values look like? What isthemedian age of each passenger class (pclass)? Visualize this in a box plot."
   ]
  },
  {
   "cell_type": "markdown",
   "id": "52126d38",
   "metadata": {},
   "source": [
    "## Document Missing Data"
   ]
  },
  {
   "cell_type": "code",
   "execution_count": 2,
   "id": "0d896e19",
   "metadata": {},
   "outputs": [],
   "source": [
    "# Load data using github data, NOT seaborn\n",
    "# Note this was specifically mentioned in class to do\n",
    "titanic = pd.read_csv(\"train.csv\")"
   ]
  },
  {
   "cell_type": "code",
   "execution_count": 3,
   "id": "1341f615",
   "metadata": {},
   "outputs": [
    {
     "name": "stdout",
     "output_type": "stream",
     "text": [
      "PassengerId      0\n",
      "Survived         0\n",
      "Pclass           0\n",
      "Name             0\n",
      "Sex              0\n",
      "Age            177\n",
      "SibSp            0\n",
      "Parch            0\n",
      "Ticket           0\n",
      "Fare             0\n",
      "Cabin          687\n",
      "Embarked         2\n",
      "dtype: int64 \n",
      "\n",
      "PassengerId\n",
      "{1, 2, 3, 4, 5, 6, 7, 8, 9, 10, 11, 12, 13, 14, 15, 16, 17, 18, 19, 20, 21, 22, 23, 24, 25, 26, 27, 28, 29, 30, 31, 32, 33, 34, 35, 36, 37, 38, 39, 40, 41, 42, 43, 44, 45, 46, 47, 48, 49, 50, 51, 52, 53, 54, 55, 56, 57, 58, 59, 60, 61, 62, 63, 64, 65, 66, 67, 68, 69, 70, 71, 72, 73, 74, 75, 76, 77, 78, 79, 80, 81, 82, 83, 84, 85, 86, 87, 88, 89, 90, 91, 92, 93, 94, 95, 96, 97, 98, 99, 100, 101, 102, 103, 104, 105, 106, 107, 108, 109, 110, 111, 112, 113, 114, 115, 116, 117, 118, 119, 120, 121, 122, 123, 124, 125, 126, 127, 128, 129, 130, 131, 132, 133, 134, 135, 136, 137, 138, 139, 140, 141, 142, 143, 144, 145, 146, 147, 148, 149, 150, 151, 152, 153, 154, 155, 156, 157, 158, 159, 160, 161, 162, 163, 164, 165, 166, 167, 168, 169, 170, 171, 172, 173, 174, 175, 176, 177, 178, 179, 180, 181, 182, 183, 184, 185, 186, 187, 188, 189, 190, 191, 192, 193, 194, 195, 196, 197, 198, 199, 200, 201, 202, 203, 204, 205, 206, 207, 208, 209, 210, 211, 212, 213, 214, 215, 216, 217, 218, 219, 220, 221, 222, 223, 224, 225, 226, 227, 228, 229, 230, 231, 232, 233, 234, 235, 236, 237, 238, 239, 240, 241, 242, 243, 244, 245, 246, 247, 248, 249, 250, 251, 252, 253, 254, 255, 256, 257, 258, 259, 260, 261, 262, 263, 264, 265, 266, 267, 268, 269, 270, 271, 272, 273, 274, 275, 276, 277, 278, 279, 280, 281, 282, 283, 284, 285, 286, 287, 288, 289, 290, 291, 292, 293, 294, 295, 296, 297, 298, 299, 300, 301, 302, 303, 304, 305, 306, 307, 308, 309, 310, 311, 312, 313, 314, 315, 316, 317, 318, 319, 320, 321, 322, 323, 324, 325, 326, 327, 328, 329, 330, 331, 332, 333, 334, 335, 336, 337, 338, 339, 340, 341, 342, 343, 344, 345, 346, 347, 348, 349, 350, 351, 352, 353, 354, 355, 356, 357, 358, 359, 360, 361, 362, 363, 364, 365, 366, 367, 368, 369, 370, 371, 372, 373, 374, 375, 376, 377, 378, 379, 380, 381, 382, 383, 384, 385, 386, 387, 388, 389, 390, 391, 392, 393, 394, 395, 396, 397, 398, 399, 400, 401, 402, 403, 404, 405, 406, 407, 408, 409, 410, 411, 412, 413, 414, 415, 416, 417, 418, 419, 420, 421, 422, 423, 424, 425, 426, 427, 428, 429, 430, 431, 432, 433, 434, 435, 436, 437, 438, 439, 440, 441, 442, 443, 444, 445, 446, 447, 448, 449, 450, 451, 452, 453, 454, 455, 456, 457, 458, 459, 460, 461, 462, 463, 464, 465, 466, 467, 468, 469, 470, 471, 472, 473, 474, 475, 476, 477, 478, 479, 480, 481, 482, 483, 484, 485, 486, 487, 488, 489, 490, 491, 492, 493, 494, 495, 496, 497, 498, 499, 500, 501, 502, 503, 504, 505, 506, 507, 508, 509, 510, 511, 512, 513, 514, 515, 516, 517, 518, 519, 520, 521, 522, 523, 524, 525, 526, 527, 528, 529, 530, 531, 532, 533, 534, 535, 536, 537, 538, 539, 540, 541, 542, 543, 544, 545, 546, 547, 548, 549, 550, 551, 552, 553, 554, 555, 556, 557, 558, 559, 560, 561, 562, 563, 564, 565, 566, 567, 568, 569, 570, 571, 572, 573, 574, 575, 576, 577, 578, 579, 580, 581, 582, 583, 584, 585, 586, 587, 588, 589, 590, 591, 592, 593, 594, 595, 596, 597, 598, 599, 600, 601, 602, 603, 604, 605, 606, 607, 608, 609, 610, 611, 612, 613, 614, 615, 616, 617, 618, 619, 620, 621, 622, 623, 624, 625, 626, 627, 628, 629, 630, 631, 632, 633, 634, 635, 636, 637, 638, 639, 640, 641, 642, 643, 644, 645, 646, 647, 648, 649, 650, 651, 652, 653, 654, 655, 656, 657, 658, 659, 660, 661, 662, 663, 664, 665, 666, 667, 668, 669, 670, 671, 672, 673, 674, 675, 676, 677, 678, 679, 680, 681, 682, 683, 684, 685, 686, 687, 688, 689, 690, 691, 692, 693, 694, 695, 696, 697, 698, 699, 700, 701, 702, 703, 704, 705, 706, 707, 708, 709, 710, 711, 712, 713, 714, 715, 716, 717, 718, 719, 720, 721, 722, 723, 724, 725, 726, 727, 728, 729, 730, 731, 732, 733, 734, 735, 736, 737, 738, 739, 740, 741, 742, 743, 744, 745, 746, 747, 748, 749, 750, 751, 752, 753, 754, 755, 756, 757, 758, 759, 760, 761, 762, 763, 764, 765, 766, 767, 768, 769, 770, 771, 772, 773, 774, 775, 776, 777, 778, 779, 780, 781, 782, 783, 784, 785, 786, 787, 788, 789, 790, 791, 792, 793, 794, 795, 796, 797, 798, 799, 800, 801, 802, 803, 804, 805, 806, 807, 808, 809, 810, 811, 812, 813, 814, 815, 816, 817, 818, 819, 820, 821, 822, 823, 824, 825, 826, 827, 828, 829, 830, 831, 832, 833, 834, 835, 836, 837, 838, 839, 840, 841, 842, 843, 844, 845, 846, 847, 848, 849, 850, 851, 852, 853, 854, 855, 856, 857, 858, 859, 860, 861, 862, 863, 864, 865, 866, 867, 868, 869, 870, 871, 872, 873, 874, 875, 876, 877, 878, 879, 880, 881, 882, 883, 884, 885, 886, 887, 888, 889, 890, 891} \n",
      "\n",
      "Survived\n",
      "{0, 1} \n",
      "\n",
      "Pclass\n",
      "{1, 2, 3} \n",
      "\n",
      "Name\n",
      "{'Paulner, Mr. Uscher', 'Van Impe, Mr. Jean Baptiste', 'Cairns, Mr. Alexander', 'Clifford, Mr. George Quincy', 'Burns, Miss. Elizabeth Margaret', 'Hamalainen, Mrs. William (Anna)', 'Levy, Mr. Rene Jacques', 'Sunderland, Mr. Victor Francis', 'Chaffee, Mr. Herbert Fuller', 'Drew, Mrs. James Vivian (Lulu Thorne Christian)', 'Goldenberg, Mr. Samuel L', 'Carlsson, Mr. Frans Olof', 'Stewart, Mr. Albert A', 'Karlsson, Mr. Nils August', 'Turkula, Mrs. (Hedwig)', 'Culumovic, Mr. Jeso', 'Milling, Mr. Jacob Christian', 'West, Mrs. Edwy Arthur (Ada Mary Worth)', 'Barkworth, Mr. Algernon Henry Wilson', 'Troupiansky, Mr. Moses Aaron', 'Cacic, Mr. Luka', 'Dorking, Mr. Edward Arthur', 'Markoff, Mr. Marin', 'Aks, Mrs. Sam (Leah Rosen)', 'Stone, Mrs. George Nelson (Martha Evelyn)', 'Allen, Miss. Elisabeth Walton', 'Risien, Mr. Samuel Beard', 'Stanley, Miss. Amy Zillah Elsie', 'Becker, Master. Richard F', 'Greenberg, Mr. Samuel', 'Frauenthal, Dr. Henry William', 'Johnston, Miss. Catherine Helen \"Carrie\"', 'Slayter, Miss. Hilda Mary', 'Sage, Miss. Stella Anna', 'Hippach, Mrs. Louis Albert (Ida Sophia Fischer)', 'Fynney, Mr. Joseph J', 'Hays, Miss. Margaret Bechstein', 'Daniel, Mr. Robert Williams', 'Widegren, Mr. Carl/Charles Peter', 'Devaney, Miss. Margaret Delia', 'McCormack, Mr. Thomas Joseph', 'Ilett, Miss. Bertha', 'Olsson, Miss. Elina', 'Chapman, Mr. John Henry', 'Madsen, Mr. Fridtjof Arne', 'Meyer, Mrs. Edgar Joseph (Leila Saks)', 'Kantor, Mrs. Sinai (Miriam Sternin)', 'Wiseman, Mr. Phillippe', 'Taylor, Mr. Elmer Zebley', 'Troutt, Miss. Edwina Celia \"Winnie\"', 'Long, Mr. Milton Clyde', 'Greenfield, Mr. William Bertram', 'Mellinger, Mrs. (Elizabeth Anne Maidment)', 'Abbing, Mr. Anthony', 'Sinkkonen, Miss. Anna', 'Carr, Miss. Helen \"Ellen\"', 'Laroche, Mr. Joseph Philippe Lemercier', 'Laroche, Mrs. Joseph (Juliette Marie Louise Lafargue)', 'Nakid, Miss. Maria (\"Mary\")', 'van Melkebeke, Mr. Philemon', 'Haas, Miss. Aloisia', 'Vanden Steen, Mr. Leo Peter', 'Burke, Mr. Jeremiah', 'Heikkinen, Miss. Laina', 'Petroff, Mr. Pastcho (\"Pentcho\")', 'Nankoff, Mr. Minko', 'Lievens, Mr. Rene Aime', 'Mallet, Mr. Albert', 'Laroche, Miss. Simonne Marie Anne Andree', 'Panula, Master. Juha Niilo', 'Svensson, Mr. Olof', 'Taussig, Miss. Ruth', 'Ilmakangas, Miss. Pieta Sofia', 'Herman, Mrs. Samuel (Jane Laver)', 'Reed, Mr. James George', 'Williams, Mr. Leslie', 'Vande Velde, Mr. Johannes Joseph', 'Bissette, Miss. Amelia', 'Brown, Mrs. Thomas William Solomon (Elizabeth Catherine Ford)', 'Blackwell, Mr. Stephen Weart', 'Klasen, Mr. Klas Albin', 'Baclini, Miss. Helene Barbara', 'Connolly, Miss. Kate', 'Sawyer, Mr. Frederick Charles', 'Dick, Mr. Albert Adrian', 'Lehmann, Miss. Bertha', \"O'Connell, Mr. Patrick D\", 'Renouf, Mr. Peter Henry', 'Adahl, Mr. Mauritz Nils Martin', 'Hold, Mr. Stephen', 'Potter, Mrs. Thomas Jr (Lily Alexenia Wilson)', 'Morley, Mr. William', 'Smiljanic, Mr. Mile', 'Hanna, Mr. Mansour', 'Moran, Mr. Daniel J', 'Johannesen-Bratthammer, Mr. Bernt', 'Heininen, Miss. Wendla Maria', 'Jalsevac, Mr. Ivan', 'Drazenoic, Mr. Jozef', 'Sheerlinck, Mr. Jan Baptist', 'Panula, Master. Eino Viljami', 'Olsson, Mr. Nils Johan Goransson', 'Goodwin, Master. Harold Victor', 'Panula, Mrs. Juha (Maria Emilia Ojala)', 'Novel, Mr. Mansouer', 'Plotcharsky, Mr. Vasil', 'Douglas, Mr. Walter Donald', 'Asplund, Mrs. Carl Oscar (Selma Augusta Emilia Johansson)', 'Futrelle, Mrs. Jacques Heath (Lily May Peel)', 'Sutehall, Mr. Henry Jr', 'Braund, Mr. Lewis Richard', 'Crease, Mr. Ernest James', 'Andersen-Jensen, Miss. Carla Christine Nielsine', 'Frolicher, Miss. Hedwig Margaritha', 'Salkjelsvik, Miss. Anna Kristine', 'Nye, Mrs. (Elizabeth Ramell)', 'Rush, Mr. Alfred George John', 'Spedden, Mrs. Frederic Oakley (Margaretta Corning Stone)', 'Coelho, Mr. Domingos Fernandeo', 'Chip, Mr. Chang', 'White, Mr. Percival Wayland', 'Ekstrom, Mr. Johan', 'Robbins, Mr. Victor', 'Bishop, Mrs. Dickinson H (Helen Walton)', 'Jussila, Mr. Eiriik', 'Saalfeld, Mr. Adolphe', 'Goncalves, Mr. Manuel Estanslas', 'Henry, Miss. Delia', 'Sobey, Mr. Samuel James Hayden', 'Asplund, Master. Clarence Gustaf Hugo', 'Foo, Mr. Choong', 'McCoy, Mr. Bernard', 'Carlsson, Mr. August Sigfrid', 'Wick, Mrs. George Dennick (Mary Hitchcock)', 'Pengelly, Mr. Frederick William', 'Mionoff, Mr. Stoytcho', 'Tornquist, Mr. William Henry', 'Jacobsohn, Mrs. Sidney Samuel (Amy Frances Christy)', 'Nilsson, Miss. Helmina Josefina', 'Cardeza, Mr. Thomas Drake Martinez', 'Murdlin, Mr. Joseph', 'Vander Cruyssen, Mr. Victor', 'Leinonen, Mr. Antti Gustaf', 'Hansen, Mr. Henrik Juul', 'Nosworthy, Mr. Richard Cater', 'Trout, Mrs. William H (Jessie L)', 'Keane, Miss. Nora A', 'Beckwith, Mrs. Richard Leonard (Sallie Monypeny)', 'Gee, Mr. Arthur H', 'Behr, Mr. Karl Howell', 'Sdycoff, Mr. Todor', 'Andersson, Miss. Ellis Anna Maria', 'Barton, Mr. David John', 'Sundman, Mr. Johan Julian', 'Morley, Mr. Henry Samuel (\"Mr Henry Marshall\")', 'Dennis, Mr. Samuel', 'Kallio, Mr. Nikolai Erland', 'Jarvis, Mr. John Denzil', 'Hart, Mrs. Benjamin (Esther Ada Bloomfield)', 'Landergren, Miss. Aurora Adelia', \"O'Brien, Mr. Thomas\", 'Moss, Mr. Albert Johan', 'Ryerson, Miss. Emily Borie', 'Navratil, Master. Edmond Roger', 'Johanson, Mr. Jakob Alfred', 'Bourke, Miss. Mary', 'Richards, Master. William Rowe', 'Olsen, Mr. Karl Siegwart Andreas', 'Rugg, Miss. Emily', 'Byles, Rev. Thomas Roussel Davids', 'Sandstrom, Mrs. Hjalmar (Agnes Charlotta Bengtsson)', 'Moubarek, Master. Halim Gonios (\"William George\")', 'Collyer, Miss. Marjorie \"Lottie\"', 'Lobb, Mr. William Arthur', 'Watt, Mrs. James (Elizabeth \"Bessie\" Inglis Milne)', 'Rothes, the Countess. of (Lucy Noel Martha Dyer-Edwards)', 'Dantcheff, Mr. Ristiu', 'Ponesell, Mr. Martin', 'Patchett, Mr. George', 'Quick, Miss. Phyllis May', 'Stanley, Mr. Edward Roland', 'Cor, Mr. Liudevit', 'Canavan, Miss. Mary', 'Farrell, Mr. James', 'Balkic, Mr. Cerin', 'Taussig, Mrs. Emil (Tillie Mandelbaum)', 'Navratil, Master. Michel M', 'Collander, Mr. Erik Gustaf', 'Giglio, Mr. Victor', 'Harrison, Mr. William', 'Shutes, Miss. Elizabeth W', 'Icard, Miss. Amelie', 'Masselmani, Mrs. Fatima', 'Carter, Miss. Lucile Polk', 'Abelson, Mr. Samuel', 'Goldsmith, Mrs. Frank John (Emily Alice Brown)', 'Gronnestad, Mr. Daniel Danielsen', 'Moor, Mrs. (Beila)', 'Peter, Miss. Anna', 'Elias, Mr. Tannous', 'Mudd, Mr. Thomas Charles', 'Albimona, Mr. Nassef Cassem', 'Mitchell, Mr. Henry Michael', 'Razi, Mr. Raihed', 'Gill, Mr. John William', 'Artagaveytia, Mr. Ramon', 'Abelson, Mrs. Samuel (Hannah Wizosky)', 'Harper, Mr. Henry Sleeper', 'Bengtsson, Mr. John Viktor', 'Fahlstrom, Mr. Arne Jonas', 'Bazzani, Miss. Albina', 'Homer, Mr. Harry (\"Mr E Haven\")', 'Perreault, Miss. Anne', 'Edvardsson, Mr. Gustaf Hjalmar', 'Kenyon, Mrs. Frederick R (Marion)', 'Murphy, Miss. Katherine \"Kate\"', 'Rice, Master. Eugene', 'Astor, Mrs. John Jacob (Madeleine Talmadge Force)', 'Nysten, Miss. Anna Sofia', 'Fox, Mr. Stanley Hubert', 'Skoog, Master. Harald', 'Fortune, Miss. Mabel Helen', 'Ridsdale, Miss. Lucy', 'Goldsmith, Master. Frank John William \"Frankie\"', 'Arnold-Franchi, Mr. Josef', 'Phillips, Miss. Kate Florence (\"Mrs Kate Louise Phillips Marshall\")', 'Cacic, Miss. Marija', 'Vander Planke, Mr. Leo Edmondus', 'Karaic, Mr. Milan', 'Nicola-Yarred, Miss. Jamila', 'Gilinski, Mr. Eliezer', 'Anderson, Mr. Harry', 'Panula, Mr. Jaako Arnold', 'Giles, Mr. Frederick Edward', 'Gallagher, Mr. Martin', 'Goldschmidt, Mr. George B', 'Brocklebank, Mr. William Alfred', 'Thomas, Master. Assad Alexander', 'Laitinen, Miss. Kristina Sofia', 'Hoyt, Mr. William Fisher', 'Staneff, Mr. Ivan', 'Hale, Mr. Reginald', 'Hunt, Mr. George Henry', 'Norman, Mr. Robert Douglas', 'Taussig, Mr. Emil', 'Davies, Mr. Charles Henry', 'Smart, Mr. John Montgomery', 'Petranec, Miss. Matilda', 'Frost, Mr. Anthony Wood \"Archie\"', 'Ward, Miss. Anna', 'Caldwell, Mrs. Albert Francis (Sylvia Mae Harbaugh)', 'Beavan, Mr. William Thomas', 'Seward, Mr. Frederic Kimber', 'Collyer, Mrs. Harvey (Charlotte Annie Tate)', 'Vestrom, Miss. Hulda Amanda Adolfina', 'Goodwin, Master. Sidney Leonard', 'Gustafsson, Mr. Johan Birger', 'Jensen, Mr. Hans Peder', 'Mernagh, Mr. Robert', \"O'Brien, Mr. Timothy\", 'Baxter, Mr. Quigg Edmond', 'Porter, Mr. Walter Chamberlain', 'Bailey, Mr. Percy Andrew', 'Newsom, Miss. Helen Monypeny', 'Saad, Mr. Amin', 'Partner, Mr. Austen', 'Lefebre, Miss. Mathilde', 'Harris, Mr. Walter', 'Lovell, Mr. John Hall (\"Henry\")', 'Turcin, Mr. Stjepan', 'Silven, Miss. Lyyli Karoliina', 'Osen, Mr. Olaf Elon', 'Skoog, Mrs. William (Anna Bernhardina Karlsson)', 'Sutton, Mr. Frederick', 'Lindqvist, Mr. Eino William', 'Windelov, Mr. Einar', 'Reeves, Mr. David', 'Moutal, Mr. Rahamin Haim', 'Beesley, Mr. Lawrence', 'Newell, Miss. Madeleine', 'Francatelli, Miss. Laura Mabel', 'Thayer, Mrs. John Borland (Marian Longstreth Morris)', 'Eklund, Mr. Hans Linus', 'Harrington, Mr. Charles H', 'Duane, Mr. Frank', 'Moen, Mr. Sigurd Hansen', 'Brown, Mr. Thomas William Solomon', 'Todoroff, Mr. Lalio', 'Pekoniemi, Mr. Edvard', 'Panula, Master. Urho Abraham', 'Theobald, Mr. Thomas Leonard', 'Smith, Mr. Richard William', 'Herman, Miss. Alice', 'Samaan, Mr. Youssef', 'Appleton, Mrs. Edward Dale (Charlotte Lamson)', 'Williams, Mr. Charles Duane', 'McGovern, Miss. Mary', 'Madigan, Miss. Margaret \"Maggie\"', 'Sage, Master. Thomas Henry', 'Davies, Master. John Morgan Jr', 'Morrow, Mr. Thomas Rowan', 'Goodwin, Mrs. Frederick (Augusta Tyler)', 'Toufik, Mr. Nakli', 'Williams, Mr. Howard Hugh \"Harry\"', 'Williams-Lambert, Mr. Fletcher Fellows', 'Coutts, Master. William Loch \"William\"', 'Davies, Mr. Alfred J', 'Ayoub, Miss. Banoura', 'Longley, Miss. Gretchen Fiske', 'Woolner, Mr. Hugh', 'Nicholls, Mr. Joseph Charles', 'Goldsmith, Mr. Frank John', 'Hippach, Miss. Jean Gertrude', 'Reynaldo, Ms. Encarnacion', 'Meo, Mr. Alfonzo', 'Cohen, Mr. Gurshon \"Gus\"', 'Ross, Mr. John Hugo', 'McGowan, Miss. Anna \"Annie\"', 'Madill, Miss. Georgette Alexandra', 'Alexander, Mr. William', 'Caldwell, Master. Alden Gates', 'Vander Planke, Miss. Augusta Maria', 'Turja, Miss. Anna Sofia', 'Simonius-Blumer, Col. Oberst Alfons', 'Vande Walle, Mr. Nestor Cyriel', 'Brown, Miss. Amelia \"Mildred\"', 'Davison, Mrs. Thomas Henry (Mary E Finck)', 'Lefebre, Master. Henry Forbes', 'Sivic, Mr. Husein', 'Cann, Mr. Ernest Charles', 'Moran, Miss. Bertha', 'O\\'Dwyer, Miss. Ellen \"Nellie\"', 'Lundahl, Mr. Johan Svensson', 'Renouf, Mrs. Peter Henry (Lillian Jefferys)', 'McMahon, Mr. Martin', 'Cameron, Miss. Clear Annie', 'Johnson, Mr. Malkolm Joackim', 'Niskanen, Mr. Juha', 'Kalvik, Mr. Johannes Halvorsen', 'Bing, Mr. Lee', 'Mallet, Master. Andre', 'Baclini, Mrs. Solomon (Latifa Qurban)', 'Sage, Mr. Douglas Bullen', 'Allison, Miss. Helen Loraine', 'Ibrahim Shawah, Mr. Yousseff', 'Hart, Mr. Benjamin', 'Persson, Mr. Ernst Ulrik', 'Doling, Mrs. John T (Ada Julia Bone)', 'Aubart, Mme. Leontine Pauline', 'Hickman, Mr. Lewis', 'Newell, Miss. Marjorie', 'Peuchen, Major. Arthur Godfrey', 'Wells, Miss. Joan', 'Clarke, Mrs. Charles V (Ada Maria Winfield)', 'Dahlberg, Miss. Gerda Ulrika', 'Harris, Mrs. Henry Birkhardt (Irene Wallach)', 'Kelly, Miss. Mary', 'Slabenoff, Mr. Petco', 'Johnson, Mr. Alfred', 'Watson, Mr. Ennis Hastings', 'Ali, Mr. Ahmed', 'Saundercock, Mr. William Henry', 'Penasco y Castellana, Mr. Victor de Satode', 'Lindell, Mr. Edvard Bengtsson', 'Otter, Mr. Richard', 'Leyson, Mr. Robert William Norman', 'Stankovic, Mr. Ivan', 'Maioni, Miss. Roberta', 'Garfirth, Mr. John', 'Petroff, Mr. Nedelio', 'Carter, Mr. William Ernest', 'Hendekovic, Mr. Ignjac', 'Uruchurtu, Don. Manuel E', 'Denkoff, Mr. Mitto', 'Jenkin, Mr. Stephen Curnow', 'Hood, Mr. Ambrose Jr', 'Peter, Mrs. Catherine (Catherine Rizk)', 'Leeni, Mr. Fahim (\"Philip Zenni\")', 'Mack, Mrs. (Mary)', 'Bidois, Miss. Rosalie', 'Oreskovic, Mr. Luka', 'Hays, Mrs. Charles Melville (Clara Jennings Gregg)', 'Nenkoff, Mr. Christo', 'Connors, Mr. Patrick', 'Serepeca, Miss. Augusta', 'Kink, Mr. Vincenz', 'Emanuel, Miss. Virginia Ethel', 'Dahl, Mr. Karl Edwart', 'West, Mr. Edwy Arthur', 'Duff Gordon, Sir. Cosmo Edmund (\"Mr Morgan\")', 'Carter, Mrs. William Ernest (Lucile Polk)', 'Guggenheim, Mr. Benjamin', 'Ringhini, Mr. Sante', 'Kirkland, Rev. Charles Leonard', 'Duff Gordon, Lady. (Lucille Christiana Sutherland) (\"Mrs Morgan\")', 'Pears, Mr. Thomas Clinton', 'Marechal, Mr. Pierre', 'Bonnell, Miss. Elizabeth', 'Lennon, Mr. Denis', 'Andrews, Mr. Thomas Jr', 'Betros, Mr. Tannous', 'Kelly, Mr. James', 'Crosby, Capt. Edward Gifford', 'Moor, Master. Meier', 'Bjornstrom-Steffansson, Mr. Mauritz Hakan', 'Sandstrom, Miss. Marguerite Rut', 'Graham, Mr. George Edward', 'Olsen, Mr. Ole Martin', 'Tikkanen, Mr. Juho', 'van Billiard, Mr. Austin Blyler', 'Andersson, Mrs. Anders Johan (Alfrida Konstantia Brogren)', 'Newell, Mr. Arthur Webster', 'Calic, Mr. Petar', 'Kelly, Miss. Anna Katherine \"Annie Kate\"', 'Daly, Mr. Eugene Patrick', 'Lesurer, Mr. Gustave J', 'Dimic, Mr. Jovan', 'Baclini, Miss. Marie Catherine', 'Petterson, Mr. Johan Emil', 'Bostandyeff, Mr. Guentcho', 'Chibnall, Mrs. (Edith Martha Bowerman)', 'White, Mr. Richard Frasar', 'Salonen, Mr. Johan Werner', 'Jensen, Mr. Svend Lauritz', 'Berglund, Mr. Karl Ivar Sven', 'Toomey, Miss. Ellen', \"O'Sullivan, Miss. Bridget Mary\", 'Rekic, Mr. Tido', 'Birkeland, Mr. Hans Martin Monsen', 'Pasic, Mr. Jakob', 'Dick, Mrs. Albert Adrian (Vera Gillespie)', 'Asplund, Master. Edvin Rojj Felix', 'Blank, Mr. Henry', 'Andersson, Miss. Erna Alexandra', 'Baclini, Miss. Eugenie', 'Nasser, Mrs. Nicholas (Adele Achem)', 'Slocovski, Mr. Selman Francis', 'Odahl, Mr. Nils Martin', 'Sadlier, Mr. Matthew', 'Quick, Mrs. Frederick Charles (Jane Richards)', 'Roebling, Mr. Washington Augustus II', 'Ling, Mr. Lee', 'Harper, Miss. Annie Jessie \"Nina\"', 'Parkes, Mr. Francis \"Frank\"', 'Lemore, Mrs. (Amelia Milley)', 'Johnson, Miss. Eleanor Ileen', 'Parr, Mr. William Henry Marsh', 'Carter, Mrs. Ernest Courtenay (Lilian Hughes)', 'Givard, Mr. Hans Kristensen', 'Wick, Miss. Mary Natalie', 'Turpin, Mrs. William John Robert (Dorothy Ann Wonnacott)', 'Hakkarainen, Mr. Pekka Pietari', 'Dakic, Mr. Branko', 'Lurette, Miss. Elise', 'Maisner, Mr. Simon', 'Silvey, Mr. William Baird', 'Ostby, Mr. Engelhart Cornelius', 'Fischer, Mr. Eberhard Thelander', 'Kantor, Mr. Sinai', 'de Messemaeker, Mrs. Guillaume Joseph (Emma)', 'Coleff, Mr. Peju', 'Isham, Miss. Ann Elizabeth', 'Danbom, Mr. Ernst Gilbert', 'Andrews, Miss. Kornelia Theodosia', 'Nakid, Mr. Sahid', 'Mangan, Miss. Mary', 'Endres, Miss. Caroline Louise', 'Hogeboom, Mrs. John C (Anna Andrews)', 'Graham, Miss. Margaret Edith', 'Sage, Miss. Constance Gladys', 'Beckwith, Mr. Richard Leonard', 'Farthing, Mr. John', 'Emir, Mr. Farred Chehab', 'Gillespie, Mr. William Henry', 'Richards, Master. George Sibley', 'Ahlin, Mrs. Johan (Johanna Persdotter Larsson)', 'Allen, Mr. William Henry', 'de Mulder, Mr. Theodore', 'Mayne, Mlle. Berthe Antonine (\"Mrs de Villiers\")', 'Caram, Mrs. Joseph (Maria Elias)', 'Skoog, Master. Karl Thorsten', 'Ford, Miss. Doolina Margaret \"Daisy\"', 'McNamee, Mr. Neal', 'Baxter, Mrs. James (Helene DeLaudeniere Chaput)', 'Markun, Mr. Johann', 'Ivanoff, Mr. Kanio', 'Sloper, Mr. William Thompson', 'Nicola-Yarred, Master. Elias', 'Coleridge, Mr. Reginald Charles', 'Dean, Master. Bertram Vere', 'Hakkarainen, Mrs. Pekka Pietari (Elin Matilda Dolck)', 'Moussa, Mrs. (Mantoura Boulos)', 'Louch, Mrs. Charles Alexander (Alice Adelaide Slow)', 'Palsson, Miss. Stina Viola', 'Kilgannon, Mr. Thomas J', 'Johnston, Mr. Andrew G', 'Pettersson, Miss. Ellen Natalia', 'Attalah, Mr. Sleiman', 'Zimmerman, Mr. Leo', 'Stephenson, Mrs. Walter Bertram (Martha Eustis)', 'Eitemiller, Mr. George Floyd', 'Lefebre, Miss. Ida', 'Badt, Mr. Mohamed', 'Alhomaki, Mr. Ilmari Rudolf', 'Hansen, Mr. Henry Damsgaard', 'Hagland, Mr. Konrad Mathias Reiersen', 'Fortune, Mr. Charles Alexander', 'Holm, Mr. John Fredrik Alexander', 'Cunningham, Mr. Alfred Fleming', 'Compton, Miss. Sara Rebecca', 'Moraweck, Dr. Ernest', 'Johansson, Mr. Gustaf Joel', 'Barbara, Mrs. (Catherine David)', 'Sage, Mr. George John Jr', 'McCarthy, Mr. Timothy J', 'Baumann, Mr. John D', 'Crosby, Miss. Harriet R', 'Allum, Mr. Owen George', 'Hosono, Mr. Masabumi', 'Lines, Miss. Mary Conover', 'Holverson, Mrs. Alexander Oskar (Mary Aline Towner)', 'Larsson, Mr. Bengt Edvin', 'Marvin, Mr. Daniel Warner', 'Lemberopolous, Mr. Peter L', 'Smith, Miss. Marion Elsie', 'Wright, Mr. George', 'Adams, Mr. John', 'Jacobsohn, Mr. Sidney Samuel', 'Sivola, Mr. Antti Wilhelm', 'Harknett, Miss. Alice Phoebe', 'Torber, Mr. Ernst William', 'Colley, Mr. Edward Pomeroy', 'Hampe, Mr. Leon', 'Silverthorne, Mr. Spencer Victor', 'Williams, Mr. Charles Eugene', 'Yasbeck, Mr. Antoni', 'Berriman, Mr. William John', 'Sage, Miss. Dorothy Edith \"Dolly\"', 'Becker, Miss. Marion Louise', 'Soholt, Mr. Peter Andreas Lauritz Andersen', 'Barber, Miss. Ellen \"Nellie\"', 'Hodges, Mr. Henry Price', 'Simmons, Mr. John', 'Knight, Mr. Robert J', 'Mellors, Mr. William John', 'Honkanen, Miss. Eliina', 'Johnson, Master. Harold Theodor', 'Ford, Mrs. Edward (Margaret Ann Watson)', 'Braund, Mr. Owen Harris', 'Palsson, Master. Gosta Leonard', 'Kiernan, Mr. Philip', 'Lefebre, Miss. Jeannie', 'Reuchlin, Jonkheer. John George', 'Lewy, Mr. Ervin G', 'Cumings, Mrs. John Bradley (Florence Briggs Thayer)', 'Backstrom, Mrs. Karl Alfred (Maria Mathilda Gustafsson)', 'Butt, Major. Archibald Willingham', 'Robert, Mrs. Edward Scott (Elisabeth Walton McMillan)', 'Osman, Mrs. Mara', 'Rommetvedt, Mr. Knud Paust', 'West, Miss. Constance Mirium', 'Mockler, Miss. Helen Mary \"Ellie\"', 'Olsvigen, Mr. Thor Anderson', 'Meyer, Mr. August', 'Glynn, Miss. Mary Agatha', 'Fortune, Miss. Alice Elizabeth', 'Coxon, Mr. Daniel', 'Ryerson, Miss. Susan Parker \"Suzette\"', 'Nasser, Mr. Nicholas', 'Stead, Mr. William Thomas', 'Andersson, Mr. August Edvard (\"Wennerstrom\")', 'Penasco y Castellana, Mrs. Victor de Satode (Maria Josefa Perez de Soto y Vallejo)', 'Asim, Mr. Adola', 'Meek, Mrs. Thomas (Annie Louise Rowley)', 'Brewe, Dr. Arthur Jackson', 'Danoff, Mr. Yoto', 'McGough, Mr. James Robert', 'Sage, Mr. Frederick', 'Pavlovic, Mr. Stefo', 'Pickard, Mr. Berk (Berk Trembisky)', 'Harper, Mrs. Henry Sleeper (Myna Haxtun)', 'Ford, Miss. Robina Maggie \"Ruby\"', 'Keane, Mr. Andrew \"Andy\"', 'Hickman, Mr. Leonard Mark', 'Walker, Mr. William Anderson', 'Yousseff, Mr. Gerious', 'Hassab, Mr. Hammad', 'Olsen, Mr. Henry Margido', 'Perkin, Mr. John Henry', 'Richards, Mrs. Sidney (Emily Hocking)', 'Holverson, Mr. Alexander Oskar', 'Green, Mr. George Henry', 'Boulos, Mr. Hanna', 'Lobb, Mrs. William Arthur (Cordelia K Stanlick)', 'Chronopoulos, Mr. Apostolos', 'Fry, Mr. Richard', 'Pears, Mrs. Thomas (Edith Wearne)', 'Mellinger, Miss. Madeleine Violet', 'Johnson, Mrs. Oscar W (Elisabeth Vilhelmina Berg)', 'Jansson, Mr. Carl Olof', 'Eustis, Miss. Elizabeth Mussey', 'McDermott, Miss. Brigdet Delia', 'Thayer, Mr. John Borland Jr', 'Wheadon, Mr. Edward H', 'Bateman, Rev. Robert James', 'Hart, Mr. Henry', 'Bradley, Mr. George (\"George Arthur Brayton\")', 'Shelley, Mrs. William (Imanita Parrish Hall)', 'Spencer, Mrs. William Augustus (Marie Eugenie)', 'Elias, Mr. Dibo', 'Corn, Mr. Harry', 'Rosblom, Mrs. Viktor (Helena Wilhelmina)', 'Gaskell, Mr. Alfred', 'Jardin, Mr. Jose Neto', 'Pinsky, Mrs. (Rosa)', 'Robins, Mrs. Alexander A (Grace Charity Laury)', 'Christy, Miss. Julie Rachel', 'Downton, Mr. William James', 'Gale, Mr. Shadrach', 'O\\'Leary, Miss. Hanora \"Norah\"', 'Johansson, Mr. Karl Johan', 'Hocking, Mr. Richard George', 'Graham, Mrs. William Thompson (Edith Junkins)', 'Stranden, Mr. Juho', 'Horgan, Mr. John', 'Palsson, Miss. Torborg Danira', 'Kimball, Mr. Edwin Nelson Jr', 'Taylor, Mrs. Elmer Zebley (Juliet Cummins Wright)', 'Andersson, Miss. Sigrid Elisabeth', 'Van Impe, Mrs. Jean Baptiste (Rosalie Paula Govaert)', 'Van Impe, Miss. Catharina', 'Goodwin, Miss. Lillian Amy', 'Yrois, Miss. Henriette (\"Mrs Harbeck\")', 'Harder, Mr. George Achilles', 'Hedman, Mr. Oskar Arvid', 'Christmann, Mr. Emil', 'Vovk, Mr. Janko', 'Mamee, Mr. Hanna', 'Skoog, Miss. Margit Elizabeth', 'Asplund, Miss. Lillian Gertrud', 'Fortune, Mr. Mark', 'Flynn, Mr. John', 'Daly, Mr. Peter Denis ', 'Connaghton, Mr. Michael', 'Nicholson, Mr. Arthur Ernest', 'Bystrom, Mrs. (Karolina)', 'Zabour, Miss. Hileni', 'Smith, Mr. James Clinch', 'Dooley, Mr. Patrick', 'Shorney, Mr. Charles Joseph', 'Butler, Mr. Reginald Fenton', 'Nirva, Mr. Iisakki Antino Aijo', 'Celotti, Mr. Francesco', 'Sagesser, Mlle. Emma', 'Tobin, Mr. Roger', 'Lam, Mr. Len', 'Moran, Mr. James', 'Hawksford, Mr. Walter James', 'Johnson, Mr. William Cahoone Jr', 'Collyer, Mr. Harvey', 'Frauenthal, Mrs. Henry William (Clara Heinsheimer)', 'Rosblom, Mr. Viktor Richard', 'Swift, Mrs. Frederick Joel (Margaret Welles Barron)', 'del Carlo, Mr. Sebastiano', 'Strom, Miss. Telma Matilda', 'Sharp, Mr. Percival James R', 'Davidson, Mr. Thornton', 'Larsson, Mr. August Viktor', 'Chambers, Mrs. Norman Campbell (Bertha Griggs)', 'Mitkoff, Mr. Mito', 'Andrew, Mr. Edgardo Samuel', 'Hart, Miss. Eva Miriam', 'Kent, Mr. Edward Austin', 'Hassan, Mr. Houssein G N', 'Goodwin, Mr. Charles Edward', 'Waelens, Mr. Achille', 'Boulos, Miss. Nourelain', 'Stahelin-Maeglin, Dr. Max', 'Lindblom, Miss. Augusta Charlotta', 'Andersson, Miss. Ingeborg Constanzia', 'Touma, Mrs. Darwis (Hanne Youssef Razi)', 'Jonkoff, Mr. Lalio', 'Garside, Miss. Ethel', 'Frolicher-Stehli, Mr. Maxmillian', 'McEvoy, Mr. Michael', 'Dodge, Master. Washington', 'Sjoblom, Miss. Anna Sofia', 'Chambers, Mr. Norman Campbell', 'Andersson, Mr. Anders Johan', 'Panula, Mr. Ernesti Arvid', 'Skoog, Mr. Wilhelm', 'Jonsson, Mr. Carl', 'Lindahl, Miss. Agda Thorilda Viktoria', 'Bracken, Mr. James H', 'Cleaver, Miss. Alice', 'Rothschild, Mrs. Martin (Elizabeth L. Barrett)', 'Leitch, Miss. Jessie Wills', 'Andreasson, Mr. Paul Edvin', 'Cook, Mr. Jacob', 'Oreskovic, Miss. Marija', 'Bourke, Mr. John', 'Silvey, Mrs. William Baird (Alice Munger)', 'Angle, Mrs. William A (Florence \"Mary\" Agnes Hughes)', 'Lester, Mr. James', 'Attalah, Miss. Malake', 'Cribb, Mr. John Hatfield', 'Danbom, Mrs. Ernst Gilbert (Anna Sigrid Maria Brogren)', 'Doling, Miss. Elsie', 'McKane, Mr. Peter David', 'Jermyn, Miss. Annie', 'Harris, Mr. George', 'Webber, Miss. Susan', 'Flynn, Mr. John Irwin (\"Irving\")', 'Gilnagh, Miss. Katherine \"Katie\"', 'Abbott, Mr. Rossmore Edward', 'Minahan, Dr. William Edward', 'Cherry, Miss. Gladys', 'Thorneycroft, Mrs. Percival (Florence Kate White)', 'Duran y More, Miss. Asuncion', \"O'Driscoll, Miss. Bridget\", 'Pernot, Mr. Rene', 'Yousif, Mr. Wazli', \"O'Connor, Mr. Maurice\", 'Hewlett, Mrs. (Mary D Kingcome) ', 'Leonard, Mr. Lionel', 'Carter, Rev. Ernest Courtenay', 'Calderhead, Mr. Edward Pennington', 'Kraeff, Mr. Theodor', 'Boulos, Mrs. Joseph (Sultana)', 'Yasbeck, Mrs. Antoni (Selini Alexander)', 'Warren, Mrs. Frank Manley (Anna Sophia Atkinson)', 'Johansson, Mr. Erik', 'Dowdell, Miss. Elizabeth', 'Myhrman, Mr. Pehr Fabian Oliver Malkolm', 'Zabour, Miss. Thamine', 'Rogers, Mr. William John', 'Stoytcheff, Mr. Ilia', 'Naidenoff, Mr. Penko', 'Bowen, Mr. David John \"Dai\"', 'Hirvonen, Miss. Hildur E', 'Maenpaa, Mr. Matti Alexanteri', 'Montvila, Rev. Juozas', 'Flynn, Mr. James', 'Parrish, Mrs. (Lutie Davis)', 'Carbines, Mr. William', 'Klaber, Mr. Herman', 'Young, Miss. Marie Grice', 'Molson, Mr. Harry Markland', 'Van der hoef, Mr. Wyckoff', 'Moubarek, Master. Gerios', 'Buss, Miss. Kate', 'Beane, Mr. Edward', 'Padro y Manent, Mr. Julian', 'Sirota, Mr. Maurice', 'Campbell, Mr. William', 'Jerwan, Mrs. Amin S (Marie Marthe Thuillard)', 'Kassem, Mr. Fared', 'Tomlin, Mr. Ernest Portage', 'Arnold-Franchi, Mrs. Josef (Josefine Franchi)', 'Gheorgheff, Mr. Stanio', 'Webber, Mr. James', 'Svensson, Mr. Johan', 'Karun, Miss. Manca', 'Barbara, Miss. Saiide', 'Ali, Mr. William', 'Peduzzi, Mr. Joseph', 'Humblen, Mr. Adolf Mathias Nicolai Olsen', 'Hoyt, Mr. Frederick Maxfield', 'Brown, Mrs. James Joseph (Margaret Tobin)', 'Lahoud, Mr. Sarkis', 'Moore, Mr. Leonard Charles', 'Rood, Mr. Hugh Roscoe', 'Barah, Mr. Hanna Assi', 'Matthews, Mr. William John', 'Ohman, Miss. Velin', 'Harper, Rev. John', 'Allison, Master. Hudson Trevor', 'Saad, Mr. Khalil', 'Nysveen, Mr. Johan Hansen', 'Vander Planke, Mrs. Julius (Emelia Maria Vandemoortele)', 'Andersson, Master. Sigvard Harald Elias', 'LeRoy, Miss. Bertha', 'Widener, Mr. Harry Elkins', 'Rice, Mrs. William (Margaret Norton)', 'Hickman, Mr. Stanley George', 'Elsbury, Mr. William James', 'Bourke, Mrs. John (Catherine)', 'Ford, Mr. William Neal', 'Meyer, Mr. Edgar Joseph', 'Shellard, Mr. Frederick William', 'Augustsson, Mr. Albert', 'de Pelsmaeker, Mr. Alfons', 'Gustafsson, Mr. Karl Gideon', 'Ryan, Mr. Patrick', 'Abbott, Mrs. Stanton (Rosa Hunt)', 'Rice, Master. Arthur', 'Futrelle, Mr. Jacques Heath', 'Scanlan, Mr. James', 'Kelly, Mrs. Florence \"Fannie\"', 'Goodwin, Master. William Frederick', 'Sjostedt, Mr. Ernst Adolf', 'Hamalainen, Master. Viljo', 'Willey, Mr. Edward', 'Mineff, Mr. Ivan', 'Rintamaki, Mr. Matti', 'Najib, Miss. Adele Kiamie \"Jane\"', 'Lulic, Mr. Nikola', 'Thorneycroft, Mr. Percival', 'Ball, Mrs. (Ada E Hall)', 'Bryhl, Mr. Kurt Arnold Gottfrid', 'Skoog, Miss. Mabel', 'Andersson, Miss. Ebba Iris Alfrida', 'Sedgwick, Mr. Charles Frederick Waddington', 'Banfield, Mr. Frederick James', 'Slemen, Mr. Richard James', 'Healy, Miss. Hanora \"Nora\"', 'Hansen, Mr. Claus Peter', 'Wiklund, Mr. Jakob Alfred', 'Youseff, Mr. Gerious', 'Lang, Mr. Fang', 'Rice, Master. George Hugh', 'Gustafsson, Mr. Alfred Ossian', 'Backstrom, Mr. Karl Alfred', 'Romaine, Mr. Charles Hallace (\"Mr C Rolmane\")', 'Carrau, Mr. Francisco M', 'O\\'Brien, Mrs. Thomas (Johanna \"Hannah\" Godfrey)', 'Natsch, Mr. Charles H', 'Lahtinen, Mrs. William (Anna Sylfven)', 'Rice, Master. Eric', 'Beane, Mrs. Edward (Ethel Clarke)', 'Weisz, Mrs. Leopold (Mathilde Francoise Pede)', 'Thorne, Mrs. Gertrude Maybelle', 'Jensen, Mr. Niels Peder', 'Sirayanian, Mr. Orsen', 'Bishop, Mr. Dickinson H', 'Radeff, Mr. Alexander', 'Harmer, Mr. Abraham (David Lishin)', 'Meanwell, Miss. (Marion Ogden)', 'Jussila, Miss. Katriina', 'Funk, Miss. Annie Clemmer', 'Somerton, Mr. Francis William', 'Wilhelms, Mr. Charles', 'Foreman, Mr. Benjamin Laventall', 'Hoyt, Mrs. Frederick Maxfield (Jane Anne Forby)', 'Murphy, Miss. Margaret Jane', 'Charters, Mr. David', 'Gavey, Mr. Lawrence', 'Millet, Mr. Francis Davis', 'Palsson, Mrs. Nils (Alma Cornelia Berglund)', 'Hegarty, Miss. Hanora \"Nora\"', 'Thayer, Mr. John Borland', 'Cavendish, Mr. Tyrell William', 'Keefe, Mr. Arthur', 'Lam, Mr. Ali', 'Elias, Mr. Joseph Jr', 'Smith, Mr. Thomas', 'Kink-Heilmann, Miss. Luise Gretchen', 'Kvillner, Mr. Johan Henrik Johannesson', 'Harris, Mr. Henry Birkhardt', 'Minahan, Miss. Daisy E', 'Pain, Dr. Alfred', 'Dean, Mr. Bertram Frank', 'Hagland, Mr. Ingvald Olai Olsen', 'Coleff, Mr. Satio', 'Navratil, Mr. Michel (\"Louis M Hoffman\")', 'Carter, Master. William Thornton II', 'Laleff, Mr. Kristo', 'Leader, Dr. Alice (Farnham)', 'Bowerman, Miss. Elsie Edith', 'Rouse, Mr. Richard Henry', 'Hocking, Mrs. Elizabeth (Eliza Needs)', 'Gustafsson, Mr. Anders Vilhelm', 'Doharr, Mr. Tannous', 'Fleming, Miss. Margaret', 'Weir, Col. John', 'Goldenberg, Mrs. Samuel L (Edwiga Grabowska)', 'Coutts, Master. Eden Leslie \"Neville\"', 'Allison, Mrs. Hudson J C (Bessie Waldo Daniels)', 'Turpin, Mr. William John Robert', 'Faunthorpe, Mrs. Lizzie (Elizabeth Anne Wilkinson)', 'Calic, Mr. Jovo', 'Richard, Mr. Emile', 'Jussila, Miss. Mari Aina', 'Peters, Miss. Katie', 'McCoy, Miss. Agnes', 'Strandberg, Miss. Ida Sofia', 'Davis, Miss. Mary', 'Chapman, Mr. Charles Henry', 'Mullens, Miss. Katherine \"Katie\"', 'Strom, Mrs. Wilhelm (Elna Matilda Persson)', 'Mannion, Miss. Margareth'} \n",
      "\n",
      "Sex\n",
      "{'female', 'male'} \n",
      "\n",
      "Age\n",
      "{nan, nan, 2.0, nan, 4.0, nan, nan, nan, 8.0, nan, nan, nan, nan, nan, 14.0, 15.0, 3.0, 17.0, 18.0, 19.0, 20.0, 21.0, 22.0, 16.0, 24.0, 23.0, 5.0, 26.0, 28.5, 27.0, 28.0, 29.0, nan, 31.0, nan, nan, 34.0, 35.0, nan, 7.0, 38.0, 39.0, 40.0, 42.0, 37.0, 45.0, 46.0, 47.0, 9.0, 49.0, 44.0, 51.0, 50.0, 45.5, 54.0, 55.0, 11.0, 55.5, 58.0, 59.0, 56.0, 12.0, 61.0, 62.0, 63.0, 65.0, 66.0, 60.0, 64.0, 13.0, 70.5, 71.0, 14.5, 70.0, 74.0, nan, nan, nan, nan, nan, nan, nan, nan, nan, nan, 80.0, nan, nan, 6.0, nan, nan, 20.5, nan, nan, nan, nan, nan, nan, nan, 23.5, nan, nan, nan, 24.5, nan, nan, nan, nan, 25.0, nan, nan, nan, nan, nan, 0.42, nan, nan, nan, 30.0, nan, nan, nan, nan, nan, nan, nan, nan, nan, nan, 32.0, 32.5, nan, nan, 33.0, 34.5, nan, nan, nan, nan, 36.5, 36.0, nan, nan, nan, nan, nan, nan, nan, nan, nan, nan, nan, nan, nan, nan, 40.5, 41.0, 43.0, nan, nan, nan, nan, nan, nan, nan, nan, nan, nan, 48.0, 30.5, 0.83, 0.92, 10.0, 0.67, 52.0, 53.0, nan, nan, nan, nan, nan, nan, nan, nan, nan, 1.0, 57.0, nan, nan, nan, nan, nan, nan, nan, nan, nan, nan, nan, nan, nan, nan, nan, nan, nan, nan, nan, nan, nan, nan, nan, nan, nan, nan, nan, nan, nan, nan, nan, nan, nan, nan, nan, nan, nan, nan, nan, nan, nan, nan, nan, nan, nan, nan, nan, nan, nan, nan, nan, nan, nan, nan, nan, nan, nan, nan, nan, nan, nan, nan, nan, nan, nan, nan, nan, 0.75, nan, nan, nan, nan, nan, nan, nan, nan, nan, nan} \n",
      "\n",
      "SibSp\n",
      "{0, 1, 2, 3, 4, 5, 8} \n",
      "\n",
      "Parch\n",
      "{0, 1, 2, 3, 4, 5, 6} \n",
      "\n",
      "Ticket\n",
      "{'350407', '110465', '111361', '13568', '113798', '350042', '4135', '349237', '26360', '7540', 'SOTON/OQ 3101317', '113572', 'PC 17611', 'S.C./A.4. 23567', '345783', 'STON/O 2. 3101288', '370371', '14311', '110564', '2686', '13567', 'W/C 14208', '345773', '349203', '36568', '17463', '347089', '374910', '345763', '113767', '28220', '3101276', '3101296', 'C.A. 29178', 'PC 17569', '2668', 'CA 2144', '250651', '31418', '349225', '19952', 'A/4. 34244', 'STON/O 2. 3101285', 'SOTON/O.Q. 3101310', '349207', '36865', '111240', 'C.A. 33112', 'PC 17760', '248731', 'PC 17590', 'F.C. 12750', 'SOTON/OQ 392076', '330877', '237442', '350417', '35852', '373450', '4136', 'A/5 21173', '230433', '367232', 'W./C. 14258', '113050', '239855', '2674', 'W./C. 6607', '347087', '5727', 'W./C. 14263', '349234', '350035', 'A/5. 10482', '370377', '324669', '372622', 'C.A. 33111', '113055', '11769', '13049', '112050', 'PC 17592', '350034', '2690', '2649', '349208', '113788', '3101264', 'C 7077', '2641', 'A/4 45380', '237671', '370365', '250652', '3101281', '2659', '363592', '2003', '345765', '111426', '347074', '2664', 'SC/PARIS 2146', '370129', '335097', '349223', '239865', '323951', '113803', 'STON/O2. 3101282', '315094', '17453', '347061', '239853', '350052', '364498', '12233', '11813', '323592', '231945', '237565', '13509', '14973', '16966', '250646', '349206', '368703', '349210', '2672', '111427', 'A.5. 11206', 'PC 17477', '17421', '239854', '2631', '315096', '349221', '343276', '11767', '113776', '250649', 'SOTON/O.Q. 392078', '347062', '11755', '345780', '16988', '9234', '6563', '2626', '367655', '312991', '27267', '374746', '315084', 'PC 17558', 'PP 9549', '2700', 'PC 17757', 'C.A. 37671', '392096', '382651', '65306', 'SOTON/OQ 392082', '345764', '349248', '14313', '349209', '19996', '244358', '349245', '19972', '113781', 'PC 17485', '28206', '349217', 'CA. 2343', '113800', '113796', '349222', '350047', '315097', '248733', 'A/5 2817', '330931', '349257', '113786', '330959', '4137', '7534', '8475', '4138', '347067', 'C.A. 29395', '237789', '11771', '237736', '4134', '349912', '248723', 'C.A. 24579', '113503', '347470', 'A/S 2816', '364500', '349212', '220845', '3101277', '2665', '2625', '364849', '349239', '28213', '392092', '315082', '243880', '29108', '113794', '29750', '2926', 'SO/C 14885', 'W.E.P. 5734', 'SW/PP 751', '347060', '347068', 'PC 17755', '347073', '113505', '347088', '4133', '349236', '350036', 'PC 17610', '236853', '349254', 'SC/PARIS 2131', 'A/5 3536', '371362', '350406', '13502', '7598', '371060', '17474', '226875', '36947', 'SOTON/OQ 3101316', '2651', 'SOTON/OQ 392086', 'SCO/W 1585', '370375', '350043', 'SC/AH 3085', 'PC 17596', 'STON/O 2. 3101289', '113787', '36967', 'PC 17585', '13214', '14312', '236852', '234360', '29011', 'SOTON/O.Q. 392087', 'PC 17759', '364511', 'A4. 54510', '19950', 'C.A./SOTON 34068', '330909', '2689', '2697', '2694', '349246', '365226', '234604', '17466', '349213', 'Fa 265302', '11751', '113501', '348124', 'SOTON/O2 3101272', '330935', '350046', '367231', '370376', '349252', '347064', 'PC 17483', '36209', '347078', '35851', '350029', 'C.A. 34651', 'W./C. 6608', '2693', '248698', '12749', '248747', '368323', 'PC 17475', '2662', '343095', '345769', 'A/4. 39886', '376564', '110152', '28228', '347080', '349242', 'W./C. 6609', '335677', '349247', 'PC 17608', '315089', '19877', 'LINE', 'A/5 21172', '347464', '362316', '113783', '234818', '8471', '345779', 'PC 17572', '36963', '345770', 'SOTON/OQ 392089', '330923', '230434', '350025', '113043', '2653', 'PC 17758', '113792', '29103', 'SC/AH Basle 541', 'PP 4348', '231919', '112277', '330980', 'C.A. 6212', 'A/5. 851', '347063', 'S.W./PP 752', '11967', '28551', 'S.O.P. 1166', '350404', '113760', '218629', '347468', '349204', 'S.C./PARIS 2079', '234686', 'F.C.C. 13529', '363291', 'SC/Paris 2163', '112058', '367230', '226593', '1601', '113059', '36928', '248738', '27849', '2908', '29105', '347077', '7267', '2629', '349224', '111428', '315088', '13213', '244270', '240929', 'S.O.C. 14879', '2677', 'PC 17603', '237668', '349231', '250653', '347742', '3101298', '29104', 'WE/P 5735', '54636', '19928', '2667', 'SC/Paris 2123', 'STON/O2. 3101271', '26707', '113514', 'C.A. 34260', '350048', '2663', '110813', '345767', '349218', '2669', '244373', '364851', '113510', '28665', '2627', '113804', 'PC 17612', 'PC 17756', '2683', '65303', '2661', '233639', '28425', '111320', 'PC 17600', '371110', '3101267', '17465', '2671', 'PC 17761', '3101265', 'C.A. 17248', '349249', 'PC 17318', '236171', '350050', 'C 7075', '370372', 'A/5 2466', 'A/5. 3337', '7553', '345572', '2624', '386525', '349240', '347085', 'PC 17474', '11774', '330979', '315098', '312993', 'C.A. 31921', '336439', 'STON/O2. 3101290', '229236', 'STON/O 2. 3101293', 'C.A. 5547', '36866', 'C 17369', 'STON/O 2. 3101280', '4579', '348123', '28403', '349215', '248740', 'S.P. 3464', '364848', '2628', 'A.5. 18509', 'F.C.C. 13531', 'PC 17599', 'SC/PARIS 2133', '19943', '244278', '13507', '347076', '315086', 'SOTON/OQ 392090', 'SOTON/O.Q. 3101306', 'STON/O 2. 3101294', '370369', '334912', 'STON/O2. 3101279', '36864', '228414', '384461', '349233', '11668', 'STON/O2. 3101283', '248706', '347743', '348121', '250647', '345781', 'SC/AH 29037', '2648', '11752', 'A/5. 13032', '349241', '3474', '382652', '19947', '343275', '345774', '219533', 'STON/O 2. 3101269', 'SOTON/O2 3101287', '113773', '347082', '2695', 'C.A. 29566', '19988', 'PC 17473', 'C.A. 2315', '374887', 'PC 17482', 'STON/O 2. 3101286', 'PC 17754', '312992', 'C.A. 2673', 'STON/O 2. 3101273', '28664', '330958', '34218', 'A/5 3540', '349227', '233866', 'A/5 3594', 'CA. 2314', 'C.A. 33595', 'A/4. 20589', '112053', '347071', 'PC 17595', '349219', '11765', 'C 4001', '2678', '28134', '345364', '376566', '250655', '237798', 'A/5. 3336', '244367', '113509', 'P/PP 3381', 'C 7076', 'SC 1748', 'PC 17601', '349251', '2623', '347466', '330919', '367228', 'S.O./P.P. 751', '347083', '35281', '27042', '383121', 'PC 17604', 'A/5. 2151', '350060', 'SOTON/O.Q. 3101305', '349205', 'SOTON/O.Q. 3101312', 'A/5 21174', '347081', '113051', '349244', '3101278', 'SC/PARIS 2167', '349909', 'A./5. 2152', '29751', '113056', '364506', '695', 'PC 17605', 'STON/O 2. 3101274', '65304', '343120', '113789', '350026', '220367', '341826', '24160', '248727', '33638', '2647', '239856', '3460', '17764', 'C.A. 18723', '2223', '349253', '250644', 'SC/PARIS 2149', '364846', '349228', '365222', '394140', '250643', '7552', '330932', '3411', '345778', '342826', '12460', 'A/5 3902', '2691', '2685', 'PC 17593', '112379', '243847', '250648', 'S.O./P.P. 3', 'C.A. 31026', '349243', 'SOTON/O.Q. 3101307', '367226', '2666', '230080', '29106', '315090', 'PC 17609', '349214', '2620', 'STON/O 2. 3101275', '364499', '110413', '392091', '364516', 'C.A. 24580', '113806', '7546', '367229', '244361', '17464', '349256', '370373', 'PC 17597', '363294', '2680', 'A/4 48871', '31028', '244310', '35273', '364850', '315151', '315153', '349216', '2687', '113028', '113807', '223596', '7545', '345777', '347054', '315037', '349910', '36973', '28424', '21440', '347069', '693', '364512', 'SOTON/O.Q. 3101311', '31027', 'F.C.C. 13528', '111369', '113784', '244252', '382649', '112059', 'PC 17582', '11753', '211536', '370370', 'A./5. 3235', '2650', 'STON/O 2. 3101292', 'PC 17476', '358585', '230136', '315093', '2699', '349201', '112052', 'A/5 21171', '3101295'} \n",
      "\n",
      "Fare\n",
      "{0.0, 512.3292, 4.0125, 5.0, 6.975, 7.925, 8.05, 7.25, 8.4583, 11.1333, 7.8542, 13.0, 7.225, 8.0292, 16.7, 16.0, 18.0, 11.2417, 15.5, 21.075, 21.0, 21.6792, 17.8, 20.575, 26.55, 26.0, 27.7208, 29.125, 30.0708, 31.275, 31.3875, 27.75, 27.9, 35.5, 7.75, 29.0, 34.375, 39.6875, 34.6542, 41.5792, 7.1417, 36.75, 7.7958, 7.3125, 46.9, 9.0, 9.5, 47.1, 50.0, 51.8625, 10.5, 53.1, 52.0, 55.0, 56.4958, 11.5, 52.5542, 56.9292, 57.9792, 61.9792, 61.175, 63.3583, 61.3792, 12.875, 66.6, 13.5, 12.0, 69.55, 69.3, 71.2833, 14.4542, 73.5, 14.5, 14.0, 76.7292, 77.2875, 15.0458, 79.2, 80.0, 16.1, 82.1708, 83.475, 15.75, 76.2917, 86.5, 79.65, 83.1583, 81.8583, 90.0, 18.7875, 91.0792, 18.75, 89.1042, 93.5, 19.5, 19.2583, 7.2292, 20.525, 20.2125, 20.25, 7.7292, 106.425, 13.8583, 108.9, 110.8833, 22.3583, 22.025, 113.275, 22.525, 23.0, 23.25, 120.0, 24.15, 24.0, 25.5875, 25.9292, 26.25, 26.2875, 133.65, 134.5, 135.6333, 27.0, 8.6833, 14.1083, 28.7125, 28.5, 146.5208, 30.6958, 151.55, 153.4625, 30.5, 30.0, 6.75, 31.0, 6.4375, 32.5, 32.3208, 7.65, 7.775, 164.8667, 33.5, 33.0, 8.7125, 10.1708, 34.0208, 9.8375, 9.5875, 35.0, 10.4625, 7.125, 7.875, 37.0042, 12.525, 12.275, 12.65, 38.5, 13.7917, 13.4167, 39.0, 39.6, 14.4, 39.4, 40.125, 15.9, 211.5, 42.4, 211.3375, 221.7792, 6.2375, 17.4, 227.525, 7.8792, 7.8, 7.05, 7.55, 7.6292, 7.7375, 8.3625, 8.3, 247.5208, 49.5042, 49.5, 50.4958, 51.4792, 262.375, 263.0, 55.4417, 55.9, 57.0, 8.1583, 8.6542, 8.4042, 8.1125, 59.4, 9.825, 9.2167, 8.4333, 9.8417, 8.1375, 9.4833, 9.8458, 13.8625, 65.0, 15.2458, 15.05, 15.55, 6.4958, 19.9667, 6.45, 6.95, 7.4958, 7.8875, 71.0, 23.45, 75.25, 15.0, 25.925, 25.4667, 26.2833, 77.9583, 26.3875, 78.85, 78.2667, 29.7, 7.8292, 7.7875, 7.725, 7.0542, 7.7417, 8.6625, 8.85, 9.475, 9.35, 9.225, 8.5167, 6.8583, 12.475, 12.35, 12.2875, 14.4583, 15.85, 15.7417, 15.1, 7.7333, 7.0458, 10.5167, 7.8958, 7.5208} \n",
      "\n",
      "Cabin\n",
      "{nan, 'A32', 'A20', 'B78', 'A34', 'C68', 'B30', 'B50', 'C47', 'D35', 'B20', 'B49', 'C126', 'D45', 'B58 B60', 'E33', 'E31', 'B39', 'D33', 'E40', 'C83', 'C92', 'E12', 'C45', 'B57 B59 B63 B66', 'C90', 'C85', 'C110', 'B71', 'A19', 'A31', 'C86', 'C65', 'C23 C25 C27', 'C104', 'C123', 'D20', 'B4', 'C95', 'D19', 'C46', 'B3', 'E25', 'E46', 'E24', 'B82 B84', 'A14', 'E101', 'B42', 'A16', 'B18', 'F E69', 'C101', 'B35', 'C103', 'C118', 'C2', 'D30', 'B19', 'F33', 'C87', 'D7', 'B38', 'A7', 'E10', 'B22', 'E121', 'D10 D12', 'C70', 'C148', 'C124', 'B77', 'C111', 'D', 'B69', 'B101', 'A26', 'B102', 'C50', 'E44', 'B5', 'A10', 'D46', 'C128', 'D49', 'B37', 'E49', 'E38', 'B80', 'E17', 'A24', 'D17', 'E34', 'B96 B98', 'D21', 'C7', 'D56', 'B79', 'E68', 'F2', 'B28', 'C93', 'D48', 'F G63', 'D28', 'D26', 'C125', 'D11', 'B94', 'F G73', 'C52', 'E8', 'C106', 'B41', 'D36', 'D15', 'F4', 'B51 B53 B55', 'F38', 'E50', 'B86', 'D9', 'G6', 'A6', 'B73', 'C82', 'C22 C26', 'T', 'D6', 'D47', 'E58', 'C30', 'A23', 'A36', 'E63', 'C99', 'C91', 'C54', 'C32', 'D37', 'E67', 'C62 C64', 'D50', 'A5', 'C49', 'E77', 'C78', 'E36'} \n",
      "\n",
      "Embarked\n",
      "{nan, 'S', 'Q', 'C'} \n",
      "\n"
     ]
    }
   ],
   "source": [
    "# Find missing data numerically\n",
    "print(titanic.isnull().sum(), '\\n')\n",
    "\n",
    "for i in titanic.columns:\n",
    "    print(i)\n",
    "    print(set(titanic[i]), '\\n')"
   ]
  },
  {
   "cell_type": "code",
   "execution_count": 4,
   "id": "25ae1fb7",
   "metadata": {},
   "outputs": [
    {
     "data": {
      "image/png": "[encoded data removed]",
      "text/plain": [
       "<Figure size 432x288 with 2 Axes>"
      ]
     },
     "metadata": {
      "needs_background": "light"
     },
     "output_type": "display_data"
    }
   ],
   "source": [
    "# Find missing data visually\n",
    "sns.heatmap(titanic.isnull(), cbar_kws={'label': 'Missing Data'})\n",
    "plt.show()"
   ]
  },
  {
   "cell_type": "markdown",
   "id": "3044a2e2",
   "metadata": {},
   "source": [
    "The columns with missing values are age, embarked, deck, and embark_town."
   ]
  },
  {
   "cell_type": "markdown",
   "id": "1ea17395",
   "metadata": {},
   "source": [
    "## Document Categorical Columns"
   ]
  },
  {
   "cell_type": "code",
   "execution_count": 5,
   "id": "dd1c3bbe",
   "metadata": {},
   "outputs": [
    {
     "data": {
      "text/plain": [
       "PassengerId      int64\n",
       "Survived         int64\n",
       "Pclass           int64\n",
       "Name            object\n",
       "Sex             object\n",
       "Age            float64\n",
       "SibSp            int64\n",
       "Parch            int64\n",
       "Ticket          object\n",
       "Fare           float64\n",
       "Cabin           object\n",
       "Embarked        object\n",
       "dtype: object"
      ]
     },
     "execution_count": 5,
     "metadata": {},
     "output_type": "execute_result"
    }
   ],
   "source": [
    "titanic.dtypes"
   ]
  },
  {
   "cell_type": "markdown",
   "id": "1f7bfbf7",
   "metadata": {},
   "source": [
    "The categorical columns are Survived, Pclass, Sex, Parch, SibSp, and Embarked."
   ]
  },
  {
   "cell_type": "markdown",
   "id": "134da789",
   "metadata": {},
   "source": [
    "## Explore Data"
   ]
  },
  {
   "cell_type": "code",
   "execution_count": 6,
   "id": "b68adcfd",
   "metadata": {},
   "outputs": [
    {
     "data": {
      "text/plain": [
       "0    549\n",
       "1    342\n",
       "Name: Survived, dtype: int64"
      ]
     },
     "execution_count": 6,
     "metadata": {},
     "output_type": "execute_result"
    }
   ],
   "source": [
    "titanic['Survived'].value_counts()"
   ]
  },
  {
   "cell_type": "code",
   "execution_count": 7,
   "id": "8f8ca10e",
   "metadata": {},
   "outputs": [
    {
     "data": {
      "text/plain": [
       "male      577\n",
       "female    314\n",
       "Name: Sex, dtype: int64"
      ]
     },
     "execution_count": 7,
     "metadata": {},
     "output_type": "execute_result"
    }
   ],
   "source": [
    "titanic['Sex'].value_counts()"
   ]
  },
  {
   "cell_type": "code",
   "execution_count": 8,
   "id": "96c93d1a",
   "metadata": {},
   "outputs": [
    {
     "data": {
      "text/plain": [
       "3    491\n",
       "1    216\n",
       "2    184\n",
       "Name: Pclass, dtype: int64"
      ]
     },
     "execution_count": 8,
     "metadata": {},
     "output_type": "execute_result"
    }
   ],
   "source": [
    "titanic['Pclass'].value_counts()"
   ]
  },
  {
   "cell_type": "code",
   "execution_count": 9,
   "id": "3230b35b",
   "metadata": {},
   "outputs": [
    {
     "data": {
      "text/html": [
       "<div>\n",
       "<style scoped>\n",
       "    .dataframe tbody tr th:only-of-type {\n",
       "        vertical-align: middle;\n",
       "    }\n",
       "\n",
       "    .dataframe tbody tr th {\n",
       "        vertical-align: top;\n",
       "    }\n",
       "\n",
       "    .dataframe thead th {\n",
       "        text-align: right;\n",
       "    }\n",
       "</style>\n",
       "<table border=\"1\" class=\"dataframe\">\n",
       "  <thead>\n",
       "    <tr style=\"text-align: right;\">\n",
       "      <th></th>\n",
       "      <th></th>\n",
       "      <th>Survived</th>\n",
       "    </tr>\n",
       "    <tr>\n",
       "      <th>Sex</th>\n",
       "      <th>Pclass</th>\n",
       "      <th></th>\n",
       "    </tr>\n",
       "  </thead>\n",
       "  <tbody>\n",
       "    <tr>\n",
       "      <th rowspan=\"3\" valign=\"top\">female</th>\n",
       "      <th>1</th>\n",
       "      <td>91</td>\n",
       "    </tr>\n",
       "    <tr>\n",
       "      <th>2</th>\n",
       "      <td>70</td>\n",
       "    </tr>\n",
       "    <tr>\n",
       "      <th>3</th>\n",
       "      <td>72</td>\n",
       "    </tr>\n",
       "    <tr>\n",
       "      <th rowspan=\"3\" valign=\"top\">male</th>\n",
       "      <th>1</th>\n",
       "      <td>45</td>\n",
       "    </tr>\n",
       "    <tr>\n",
       "      <th>2</th>\n",
       "      <td>17</td>\n",
       "    </tr>\n",
       "    <tr>\n",
       "      <th>3</th>\n",
       "      <td>47</td>\n",
       "    </tr>\n",
       "  </tbody>\n",
       "</table>\n",
       "</div>"
      ],
      "text/plain": [
       "               Survived\n",
       "Sex    Pclass          \n",
       "female 1             91\n",
       "       2             70\n",
       "       3             72\n",
       "male   1             45\n",
       "       2             17\n",
       "       3             47"
      ]
     },
     "execution_count": 9,
     "metadata": {},
     "output_type": "execute_result"
    }
   ],
   "source": [
    "pd.pivot_table(titanic,index=['Sex', 'Pclass'],aggfunc={'Survived':np.sum})"
   ]
  },
  {
   "cell_type": "code",
   "execution_count": 10,
   "id": "b1bbd849",
   "metadata": {},
   "outputs": [
    {
     "data": {
      "image/png": "[encoded data removed]",
      "text/plain": [
       "<Figure size 432x288 with 1 Axes>"
      ]
     },
     "metadata": {
      "needs_background": "light"
     },
     "output_type": "display_data"
    }
   ],
   "source": [
    "#What does the distribution of fare look like?\n",
    "titanic.hist('Fare')\n",
    "plt.show()"
   ]
  },
  {
   "cell_type": "code",
   "execution_count": 11,
   "id": "bdd436bf",
   "metadata": {},
   "outputs": [
    {
     "data": {
      "image/png": "[encoded data removed]",
      "text/plain": [
       "<Figure size 432x288 with 1 Axes>"
      ]
     },
     "metadata": {
      "needs_background": "light"
     },
     "output_type": "display_data"
    }
   ],
   "source": [
    "# What does the distribution of non-null age values look like?\n",
    "titanic['Age'].dropna().hist()\n",
    "plt.show()"
   ]
  },
  {
   "cell_type": "code",
   "execution_count": 12,
   "id": "5719df36",
   "metadata": {},
   "outputs": [
    {
     "data": {
      "text/html": [
       "<div>\n",
       "<style scoped>\n",
       "    .dataframe tbody tr th:only-of-type {\n",
       "        vertical-align: middle;\n",
       "    }\n",
       "\n",
       "    .dataframe tbody tr th {\n",
       "        vertical-align: top;\n",
       "    }\n",
       "\n",
       "    .dataframe thead th {\n",
       "        text-align: right;\n",
       "    }\n",
       "</style>\n",
       "<table border=\"1\" class=\"dataframe\">\n",
       "  <thead>\n",
       "    <tr style=\"text-align: right;\">\n",
       "      <th></th>\n",
       "      <th>Age</th>\n",
       "    </tr>\n",
       "    <tr>\n",
       "      <th>Pclass</th>\n",
       "      <th></th>\n",
       "    </tr>\n",
       "  </thead>\n",
       "  <tbody>\n",
       "    <tr>\n",
       "      <th>1</th>\n",
       "      <td>37.0</td>\n",
       "    </tr>\n",
       "    <tr>\n",
       "      <th>2</th>\n",
       "      <td>29.0</td>\n",
       "    </tr>\n",
       "    <tr>\n",
       "      <th>3</th>\n",
       "      <td>24.0</td>\n",
       "    </tr>\n",
       "  </tbody>\n",
       "</table>\n",
       "</div>"
      ],
      "text/plain": [
       "         Age\n",
       "Pclass      \n",
       "1       37.0\n",
       "2       29.0\n",
       "3       24.0"
      ]
     },
     "execution_count": 12,
     "metadata": {},
     "output_type": "execute_result"
    }
   ],
   "source": [
    "# What is the median age of each passenger class (pclass)?\n",
    "pd.pivot_table(titanic,index=['Pclass'],aggfunc={'Age':np.median})"
   ]
  },
  {
   "cell_type": "code",
   "execution_count": 13,
   "id": "170783fa",
   "metadata": {},
   "outputs": [
    {
     "data": {
      "image/png": "[encoded data removed]",
      "text/plain": [
       "<Figure size 432x288 with 1 Axes>"
      ]
     },
     "metadata": {
      "needs_background": "light"
     },
     "output_type": "display_data"
    }
   ],
   "source": [
    "pd.DataFrame(titanic[['Age', 'Pclass']]).boxplot(by='Pclass')\n",
    "plt.xlabel(\"Pclass\")\n",
    "plt.ylabel(\"Age\")\n",
    "plt.suptitle(\"Age Grouped by Pclass\")\n",
    "plt.title(\"\")\n",
    "plt.show()"
   ]
  },
  {
   "cell_type": "markdown",
   "id": "44bb8974",
   "metadata": {},
   "source": [
    "# Part 2: Data Cleansing\n",
    "Since there are so many missingvaluesin Cabin, get rid of the cabin feature. Define a function to impute age usingthemedian of the passenger class you computed earlier. To call it, use train[[‘age’,\n",
    "‘pclass]].apply(impute_age,axis=1). Drop the remaining records containingnull\n",
    "values. Show there are no remaining null values. Convert categorical variablestonumeric dummies using pandas’ get_dummies() method. Add these to your\n",
    "training dataframe. Drop the categorical columns you converted earlier aswell asname, ticket, and passengerId. Create a feature set by dropping “Survived.” Yourresulting feature set should include pclass, age, sibsp, parch, fare, and thecategorical dummy columns you created earlier. Implement a label dataframebycopying the contents of the Survived column of your training set to a newdataframe. Split your clean data into a training and test set."
   ]
  },
  {
   "cell_type": "markdown",
   "id": "a19cd6e2",
   "metadata": {},
   "source": [
    "## Remove column"
   ]
  },
  {
   "cell_type": "code",
   "execution_count": 14,
   "id": "a22ad1f7",
   "metadata": {},
   "outputs": [],
   "source": [
    "## Remove cabin feature\n",
    "titanic = titanic.drop(['Cabin'], axis = 1)"
   ]
  },
  {
   "cell_type": "markdown",
   "id": "56cb00f9",
   "metadata": {},
   "source": [
    "## Clean Age"
   ]
  },
  {
   "cell_type": "code",
   "execution_count": 15,
   "id": "13fb40a5",
   "metadata": {},
   "outputs": [],
   "source": [
    "def impute_age(data):\n",
    "    \"\"\"\n",
    "    Note that assigned values are found from part 1 pivot table\n",
    "    \"\"\"\n",
    "    \n",
    "    Age = data[0]\n",
    "    Pclass = data[1]\n",
    "\n",
    "    if pd.isnull(Age):\n",
    "        if Pclass == 1:\n",
    "            return 37\n",
    "        elif Pclass == 2:\n",
    "            return 29\n",
    "        else:\n",
    "            return 24\n",
    "    else:\n",
    "        return Age"
   ]
  },
  {
   "cell_type": "code",
   "execution_count": 16,
   "id": "5d5135e3",
   "metadata": {},
   "outputs": [],
   "source": [
    "titanic['Age'] = titanic[['Age', 'Pclass']].apply(impute_age,axis=1)"
   ]
  },
  {
   "cell_type": "markdown",
   "id": "dea6abf7",
   "metadata": {},
   "source": [
    "## Drop remaining nan observations"
   ]
  },
  {
   "cell_type": "code",
   "execution_count": 17,
   "id": "3e925ceb",
   "metadata": {},
   "outputs": [
    {
     "data": {
      "text/plain": [
       "PassengerId    0\n",
       "Survived       0\n",
       "Pclass         0\n",
       "Name           0\n",
       "Sex            0\n",
       "Age            0\n",
       "SibSp          0\n",
       "Parch          0\n",
       "Ticket         0\n",
       "Fare           0\n",
       "Embarked       0\n",
       "dtype: int64"
      ]
     },
     "execution_count": 17,
     "metadata": {},
     "output_type": "execute_result"
    }
   ],
   "source": [
    "titanic = titanic.dropna(axis = 0)\n",
    "titanic.isna().sum()"
   ]
  },
  {
   "cell_type": "markdown",
   "id": "5b92d7df",
   "metadata": {},
   "source": [
    "## Convert categorical variables"
   ]
  },
  {
   "cell_type": "code",
   "execution_count": 18,
   "id": "53295706",
   "metadata": {},
   "outputs": [],
   "source": [
    "titanic = pd.get_dummies(titanic, columns=['Pclass', 'Sex', 'SibSp', 'Parch', 'Embarked'])\n",
    "titanic = titanic.drop(['Name', 'Ticket', 'PassengerId'], axis = 1)"
   ]
  },
  {
   "cell_type": "markdown",
   "id": "eff2a074",
   "metadata": {},
   "source": [
    "## Create Feature Set"
   ]
  },
  {
   "cell_type": "code",
   "execution_count": 19,
   "id": "85df0c57",
   "metadata": {},
   "outputs": [],
   "source": [
    "y = titanic['Survived']\n",
    "\n",
    "titanic = titanic.drop(['Survived'], axis = 1)"
   ]
  },
  {
   "cell_type": "markdown",
   "id": "32643fb0",
   "metadata": {},
   "source": [
    "## Train Test Split"
   ]
  },
  {
   "cell_type": "code",
   "execution_count": 20,
   "id": "71e9b061",
   "metadata": {},
   "outputs": [],
   "source": [
    "X_train, X_test, y_train, y_test = train_test_split(titanic, y, test_size=0.33, random_state=42)"
   ]
  },
  {
   "cell_type": "markdown",
   "id": "71a16e6e",
   "metadata": {},
   "source": [
    "## Part 3: Model Training. \n",
    "Implement a logistic regressionmodel.\n",
    "Implement a support vector classifier. Implement an sgd classifier. Print out theclassification reports, confusion matrices, and roc score and chart for eachof\n",
    "these. Remember to set Probability=True for SVM and use\n",
    "method=decision_function in a cross_val_predict instead of predict_probafor theSGD ROC plot."
   ]
  },
  {
   "cell_type": "code",
   "execution_count": 21,
   "id": "bb4b27f3",
   "metadata": {},
   "outputs": [
    {
     "name": "stderr",
     "output_type": "stream",
     "text": [
      "/Users/zachchase/opt/anaconda3/lib/python3.9/site-packages/sklearn/linear_model/_logistic.py:814: ConvergenceWarning: lbfgs failed to converge (status=1):\n",
      "STOP: TOTAL NO. of ITERATIONS REACHED LIMIT.\n",
      "\n",
      "Increase the number of iterations (max_iter) or scale the data as shown in:\n",
      "    https://scikit-learn.org/stable/modules/preprocessing.html\n",
      "Please also refer to the documentation for alternative solver options:\n",
      "    https://scikit-learn.org/stable/modules/linear_model.html#logistic-regression\n",
      "  n_iter_i = _check_optimize_result(\n"
     ]
    }
   ],
   "source": [
    "lr = LogisticRegression()\n",
    "support = svm.SVC(probability=True)\n",
    "sgd = SGDClassifier()\n",
    "\n",
    "lr.fit(X_train, y_train)\n",
    "support.fit(X_train, y_train)\n",
    "sgd.fit(X_train, y_train)\n",
    "\n",
    "lr_predict = lr.predict(X_train)\n",
    "support_predict = support.predict(X_train)\n",
    "sgd_predict = sgd.predict(X_train)"
   ]
  },
  {
   "cell_type": "code",
   "execution_count": 22,
   "id": "a31c958e",
   "metadata": {},
   "outputs": [
    {
     "name": "stdout",
     "output_type": "stream",
     "text": [
      "              precision    recall  f1-score   support\n",
      "\n",
      "           0       0.83      0.88      0.85       365\n",
      "           1       0.79      0.70      0.74       230\n",
      "\n",
      "    accuracy                           0.81       595\n",
      "   macro avg       0.81      0.79      0.80       595\n",
      "weighted avg       0.81      0.81      0.81       595\n",
      "\n"
     ]
    }
   ],
   "source": [
    "print(classification_report(y_train, lr_predict))"
   ]
  },
  {
   "cell_type": "code",
   "execution_count": 23,
   "id": "39215b46",
   "metadata": {},
   "outputs": [
    {
     "name": "stdout",
     "output_type": "stream",
     "text": [
      "              precision    recall  f1-score   support\n",
      "\n",
      "           0       0.67      0.92      0.78       365\n",
      "           1       0.71      0.29      0.41       230\n",
      "\n",
      "    accuracy                           0.68       595\n",
      "   macro avg       0.69      0.61      0.60       595\n",
      "weighted avg       0.69      0.68      0.64       595\n",
      "\n"
     ]
    }
   ],
   "source": [
    "print(classification_report(y_train, support_predict))"
   ]
  },
  {
   "cell_type": "code",
   "execution_count": 24,
   "id": "63dccc97",
   "metadata": {},
   "outputs": [
    {
     "name": "stdout",
     "output_type": "stream",
     "text": [
      "              precision    recall  f1-score   support\n",
      "\n",
      "           0       0.85      0.72      0.78       365\n",
      "           1       0.64      0.80      0.71       230\n",
      "\n",
      "    accuracy                           0.75       595\n",
      "   macro avg       0.74      0.76      0.74       595\n",
      "weighted avg       0.77      0.75      0.75       595\n",
      "\n"
     ]
    }
   ],
   "source": [
    "print(classification_report(y_train, sgd_predict))"
   ]
  },
  {
   "cell_type": "code",
   "execution_count": 25,
   "id": "d59a1634",
   "metadata": {},
   "outputs": [
    {
     "data": {
      "text/plain": [
       "array([[321,  44],\n",
       "       [ 68, 162]])"
      ]
     },
     "execution_count": 25,
     "metadata": {},
     "output_type": "execute_result"
    }
   ],
   "source": [
    "confusion_matrix(y_train, lr_predict)"
   ]
  },
  {
   "cell_type": "code",
   "execution_count": 26,
   "id": "8d79f0fe",
   "metadata": {},
   "outputs": [
    {
     "data": {
      "text/plain": [
       "array([[337,  28],\n",
       "       [163,  67]])"
      ]
     },
     "execution_count": 26,
     "metadata": {},
     "output_type": "execute_result"
    }
   ],
   "source": [
    "confusion_matrix(y_train, support_predict)"
   ]
  },
  {
   "cell_type": "code",
   "execution_count": 27,
   "id": "8dc47a95",
   "metadata": {},
   "outputs": [
    {
     "data": {
      "text/plain": [
       "array([[261, 104],\n",
       "       [ 46, 184]])"
      ]
     },
     "execution_count": 27,
     "metadata": {},
     "output_type": "execute_result"
    }
   ],
   "source": [
    "confusion_matrix(y_train, sgd_predict)"
   ]
  },
  {
   "cell_type": "code",
   "execution_count": 28,
   "id": "0a883063",
   "metadata": {},
   "outputs": [
    {
     "data": {
      "text/plain": [
       "0.7918999404407386"
      ]
     },
     "execution_count": 28,
     "metadata": {},
     "output_type": "execute_result"
    }
   ],
   "source": [
    "roc_auc_score(y_train, lr_predict)"
   ]
  },
  {
   "cell_type": "code",
   "execution_count": 29,
   "id": "d05ae36b",
   "metadata": {},
   "outputs": [
    {
     "data": {
      "text/plain": [
       "0.6072960095294817"
      ]
     },
     "execution_count": 29,
     "metadata": {},
     "output_type": "execute_result"
    }
   ],
   "source": [
    "roc_auc_score(y_train, support_predict)"
   ]
  },
  {
   "cell_type": "code",
   "execution_count": 30,
   "id": "f2355697",
   "metadata": {},
   "outputs": [
    {
     "data": {
      "text/plain": [
       "0.7575342465753425"
      ]
     },
     "execution_count": 30,
     "metadata": {},
     "output_type": "execute_result"
    }
   ],
   "source": [
    "roc_auc_score(y_train, sgd_predict)"
   ]
  },
  {
   "cell_type": "code",
   "execution_count": 31,
   "id": "072dfaf3",
   "metadata": {},
   "outputs": [
    {
     "data": {
      "image/png": "[encoded data removed]",
      "text/plain": [
       "<Figure size 432x288 with 1 Axes>"
      ]
     },
     "metadata": {
      "needs_background": "light"
     },
     "output_type": "display_data"
    }
   ],
   "source": [
    "from sklearn import datasets, metrics, model_selection, svm\n",
    "fpr, tpr, threshold = metrics.roc_curve(y_train, lr_predict)\n",
    "roc_auc = metrics.auc(fpr, tpr)\n",
    "\n",
    "plt.plot(fpr, tpr)\n",
    "plt.show()"
   ]
  },
  {
   "cell_type": "code",
   "execution_count": 32,
   "id": "88dec6a0",
   "metadata": {},
   "outputs": [
    {
     "data": {
      "text/plain": [
       "[<matplotlib.lines.Line2D at 0x7fc05d12efd0>]"
      ]
     },
     "execution_count": 32,
     "metadata": {},
     "output_type": "execute_result"
    },
    {
     "data": {
      "image/png": "[encoded data removed]",
      "text/plain": [
       "<Figure size 432x288 with 1 Axes>"
      ]
     },
     "metadata": {
      "needs_background": "light"
     },
     "output_type": "display_data"
    }
   ],
   "source": [
    "fpr, tpr, threshold = metrics.roc_curve(y_train, support_predict)\n",
    "roc_auc = metrics.auc(fpr, tpr)\n",
    "\n",
    "plt.plot(fpr, tpr)"
   ]
  },
  {
   "cell_type": "code",
   "execution_count": 33,
   "id": "793c43ed",
   "metadata": {},
   "outputs": [
    {
     "data": {
      "text/plain": [
       "[<matplotlib.lines.Line2D at 0x7fc05d271220>]"
      ]
     },
     "execution_count": 33,
     "metadata": {},
     "output_type": "execute_result"
    },
    {
     "data": {
      "image/png": "[encoded data removed]",
      "text/plain": [
       "<Figure size 432x288 with 1 Axes>"
      ]
     },
     "metadata": {
      "needs_background": "light"
     },
     "output_type": "display_data"
    }
   ],
   "source": [
    "fpr, tpr, threshold = metrics.roc_curve(y_train, sgd_predict)\n",
    "roc_auc = metrics.auc(fpr, tpr)\n",
    "\n",
    "plt.plot(fpr, tpr)"
   ]
  },
  {
   "cell_type": "markdown",
   "id": "5a24c774",
   "metadata": {},
   "source": [
    "## Part 4: Model Tuning\n",
    "See if scaling your input data affects your SVC model (implement asklearn pipeline to combine scaling and instantiation of your model). Do a grid search of your pipeline classifier using the following parameter\n",
    "grid: {‘<your_svc_model_name> kernel’: [‘rbf’],\n",
    "‘<your_svc_model_name> gamma’: [0.0001, 0.001, 0.01, 0.1, 1],\n",
    "‘{‘<your_svc_model_name> C’: [1,10,50,100,200,300]}.\n",
    "\n",
    "Print the best estimator, its parameters, and the resulting score. Applythisestimator to your test set\n",
    "o Implement a learning curve using your best estimator fromthe gridsearch. The figure should have a title of “learning curve.” Label the y-axis with “Score.” Label the x-axis with “Training Examples.” Make the training score red. Make the validation score green. What does this learning curve tell you?"
   ]
  },
  {
   "cell_type": "code",
   "execution_count": 34,
   "id": "126efe10",
   "metadata": {},
   "outputs": [
    {
     "data": {
      "text/plain": [
       "GridSearchCV(estimator=Pipeline(steps=[('scaler', StandardScaler()),\n",
       "                                       ('svm', SVC())]),\n",
       "             param_grid={'svm__C': [0.1, 1, 10, 100, 1000],\n",
       "                         'svm__gamma': [1, 0.1, 0.01, 0.001, 0.0001],\n",
       "                         'svm__kernel': ['rbf']},\n",
       "             scoring='accuracy')"
      ]
     },
     "execution_count": 34,
     "metadata": {},
     "output_type": "execute_result"
    }
   ],
   "source": [
    "pipe = Pipeline(steps=[(\"scaler\", StandardScaler()), (\"svm\", svm.SVC())])\n",
    "\n",
    "param_grid = {\n",
    "    'svm__C': [0.1, 1, 10, 100, 1000],\n",
    "    'svm__gamma': [1, 0.1, 0.01, 0.001, 0.0001],\n",
    "    'svm__kernel': ['rbf']\n",
    "}\n",
    "\n",
    "grid = GridSearchCV(pipe, param_grid, scoring='accuracy')\n",
    "grid.fit(X_train, y_train)"
   ]
  },
  {
   "cell_type": "code",
   "execution_count": 35,
   "id": "bf0a9f5c",
   "metadata": {},
   "outputs": [
    {
     "data": {
      "text/plain": [
       "{'svm__C': 100, 'svm__gamma': 0.01, 'svm__kernel': 'rbf'}"
      ]
     },
     "execution_count": 35,
     "metadata": {},
     "output_type": "execute_result"
    }
   ],
   "source": [
    "grid.best_params_"
   ]
  },
  {
   "cell_type": "code",
   "execution_count": 36,
   "id": "36b867bb",
   "metadata": {},
   "outputs": [
    {
     "data": {
      "text/plain": [
       "Pipeline(steps=[('scaler', StandardScaler()), ('svm', SVC(C=100, gamma=0.01))])"
      ]
     },
     "execution_count": 36,
     "metadata": {},
     "output_type": "execute_result"
    }
   ],
   "source": [
    "grid.best_estimator_"
   ]
  },
  {
   "cell_type": "code",
   "execution_count": 37,
   "id": "49edcc3f",
   "metadata": {},
   "outputs": [
    {
     "data": {
      "text/plain": [
       "0.8235294117647058"
      ]
     },
     "execution_count": 37,
     "metadata": {},
     "output_type": "execute_result"
    }
   ],
   "source": [
    "grid.best_score_"
   ]
  },
  {
   "cell_type": "code",
   "execution_count": 38,
   "id": "1a5e0a39",
   "metadata": {},
   "outputs": [
    {
     "data": {
      "image/png": "[encoded data removed]",
      "text/plain": [
       "<Figure size 432x288 with 1 Axes>"
      ]
     },
     "metadata": {
      "needs_background": "light"
     },
     "output_type": "display_data"
    }
   ],
   "source": [
    "train_errors, val_errors = [], []\n",
    "for m in range(2, len(X_train)):\n",
    "    pipe = Pipeline(steps=[(\"scaler\", StandardScaler()), \n",
    "                       (\"svm\", svm.SVC(C= 1000, gamma= 0.001, kernel= 'rbf'))])\n",
    "\n",
    "    model = pipe.fit(X_train[:m], y_train[:m])\n",
    "    y_train_predict = model.predict(X_train[:m])\n",
    "    y_val_predict = model.predict(X_test[:m])\n",
    "    train_errors.append(accuracy_score(y_train[:m], y_train_predict))\n",
    "    val_errors.append(accuracy_score(y_test[:m],y_val_predict))\n",
    "    plt.plot(train_errors, \"r\", linewidth=1, label=\"train\")\n",
    "    plt.plot(val_errors, \"g\", linewidth=1, label=\"val\")\n",
    "    plt.suptitle(\"Learning Curve\")\n",
    "    plt.xlabel(\"Training Examples\")\n",
    "    plt.ylabel(\"Score\")\n",
    "    "
   ]
  },
  {
   "cell_type": "markdown",
   "id": "869b0459",
   "metadata": {},
   "source": [
    "This chart above shows that only about 100 samples are needed for about 80% accuracy, where it flattens out."
   ]
  },
  {
   "cell_type": "code",
   "execution_count": null,
   "id": "cee58d32",
   "metadata": {},
   "outputs": [],
   "source": []
  }
 ],
 "metadata": {
  "kernelspec": {
   "display_name": "Python 3 (ipykernel)",
   "language": "python",
   "name": "python3"
  },
  "language_info": {
   "codemirror_mode": {
    "name": "ipython",
    "version": 3
   },
   "file_extension": ".py",
   "mimetype": "text/x-python",
   "name": "python",
   "nbconvert_exporter": "python",
   "pygments_lexer": "ipython3",
   "version": "3.9.7"
  }
 },
 "nbformat": 4,
 "nbformat_minor": 5
}
